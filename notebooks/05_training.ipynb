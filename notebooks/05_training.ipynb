{
 "cells": [
  {
   "cell_type": "code",
   "execution_count": 1,
   "metadata": {
    "ExecuteTime": {
     "end_time": "2019-12-20T13:29:59.272821Z",
     "start_time": "2019-12-20T13:29:58.343514Z"
    }
   },
   "outputs": [],
   "source": [
    "from imports import *\n",
    "from utils import *\n",
    "from tfms_torch import *\n",
    "from tfms_albumentations import get_tfms_albu, apply_tfms_albu\n",
    "from video_dataset import *\n",
    "from samplers import *"
   ]
  },
  {
   "cell_type": "markdown",
   "metadata": {},
   "source": [
    "# Vanilla PyTorch w/LRFinder"
   ]
  },
  {
   "cell_type": "markdown",
   "metadata": {
    "heading_collapsed": true
   },
   "source": [
    "## Create Training and Validation Datasets"
   ]
  },
  {
   "cell_type": "code",
   "execution_count": 2,
   "metadata": {
    "ExecuteTime": {
     "end_time": "2019-12-20T04:11:00.383282Z",
     "start_time": "2019-12-20T04:11:00.380253Z"
    },
    "hidden": true
   },
   "outputs": [],
   "source": [
    "data_dir = Path('/home/rahul/datasets/tennis-func/')\n",
    "cache_dir = data_dir/'.cache'"
   ]
  },
  {
   "cell_type": "code",
   "execution_count": 3,
   "metadata": {
    "ExecuteTime": {
     "end_time": "2019-12-20T04:11:00.598877Z",
     "start_time": "2019-12-20T04:11:00.593333Z"
    },
    "hidden": true
   },
   "outputs": [
    {
     "data": {
      "text/plain": [
       "['train-metrics',\n",
       " 'train_fpc-32_sc-1_sf-2_rsz-2',\n",
       " 'valid_fpc-32_sc-1_sf-2_rsz-2']"
      ]
     },
     "execution_count": 3,
     "metadata": {},
     "output_type": "execute_result"
    }
   ],
   "source": [
    "cache_dir.ls()"
   ]
  },
  {
   "cell_type": "code",
   "execution_count": 4,
   "metadata": {
    "ExecuteTime": {
     "end_time": "2019-12-20T04:11:00.935701Z",
     "start_time": "2019-12-20T04:11:00.831887Z"
    },
    "hidden": true
   },
   "outputs": [],
   "source": [
    "train_data = torch.load(cache_dir/'train_fpc-32_sc-1_sf-2_rsz-2')\n",
    "valid_data = torch.load(cache_dir/'valid_fpc-32_sc-1_sf-2_rsz-2')"
   ]
  },
  {
   "cell_type": "code",
   "execution_count": 5,
   "metadata": {
    "ExecuteTime": {
     "end_time": "2019-12-20T04:11:01.326062Z",
     "start_time": "2019-12-20T04:11:01.319859Z"
    },
    "hidden": true,
    "scrolled": true
   },
   "outputs": [],
   "source": [
    "def get_data(data_dir, fpclip=32, step_clips=1, frame_stride=2, rsz_fct=2, albu_p=0.5):\n",
    "    train_data = VideoDataset(\n",
    "        data_dir/'train',\n",
    "        frames_per_clip    = fpclip,\n",
    "        step_between_clips = step_clips,\n",
    "        frame_stride = frame_stride,\n",
    "        tfms_torch   = get_tfms_torch(resize_fct=rsz_fct),\n",
    "        tfms_albu    = get_tfms_albu(p=albu_p)\n",
    "    )\n",
    "    valid_data = VideoDataset(\n",
    "        data_dir/'valid',\n",
    "        frames_per_clip    = fpclip,\n",
    "        step_between_clips = step_clips,\n",
    "        frame_stride = frame_stride,\n",
    "        tfms_torch   = get_tfms_torch(resize_fct=rsz_fct)\n",
    "    )\n",
    "    return train_data, valid_data"
   ]
  },
  {
   "cell_type": "raw",
   "metadata": {
    "hidden": true
   },
   "source": [
    "fpclip       = 32\n",
    "step_clips   = 1\n",
    "frame_stride = 2\n",
    "resize_fct   = 1\n",
    "\n",
    "train_data, valid_data = get_data(data_dir, fpclip, frame_stride, step_frames, resize_fct, albu_p=0.5)\n",
    "\n",
    "torch.save(train_data, f'{cache_dir}/train_fpc-{fpclip}_sc-{step_clips}_sf-{frame_stride}_rsz-{resize_fct}')\n",
    "torch.save(valid_data, f'{cache_dir}/valid_fpc-{fpclip}_sc-{step_clips}_sf-{frame_stride}_rsz-{resize_fct}')"
   ]
  },
  {
   "cell_type": "markdown",
   "metadata": {
    "heading_collapsed": true
   },
   "source": [
    "## Data Loaders"
   ]
  },
  {
   "cell_type": "code",
   "execution_count": 6,
   "metadata": {
    "ExecuteTime": {
     "end_time": "2019-12-20T04:11:04.852542Z",
     "start_time": "2019-12-20T04:11:04.849641Z"
    },
    "hidden": true
   },
   "outputs": [],
   "source": [
    "from torch.utils.data import DataLoader as DataLoader"
   ]
  },
  {
   "cell_type": "code",
   "execution_count": 7,
   "metadata": {
    "ExecuteTime": {
     "end_time": "2019-12-20T04:11:05.298000Z",
     "start_time": "2019-12-20T04:11:05.294834Z"
    },
    "hidden": true
   },
   "outputs": [],
   "source": [
    "train_sampler = FirstClipSampler(train_data.video_clips, 2)\n",
    "valid_sampler = FirstClipSampler(valid_data.video_clips, 2)\n",
    "bs = 2"
   ]
  },
  {
   "cell_type": "code",
   "execution_count": 8,
   "metadata": {
    "ExecuteTime": {
     "end_time": "2019-12-20T04:11:05.823472Z",
     "start_time": "2019-12-20T04:11:05.818197Z"
    },
    "hidden": true
   },
   "outputs": [],
   "source": [
    "def get_dls(train_data, valid_data,\n",
    "            train_sampler=FirstClipSampler(train_data.video_clips, 2),\n",
    "            valid_sampler=FirstClipSampler(valid_data.video_clips, 2),\n",
    "            bs=32, collate_fn=collate_fn):\n",
    "    \n",
    "    train_dl = DataLoader(train_data, batch_size=bs, sampler=train_sampler, collate_fn=collate_fn)\n",
    "    valid_dl = DataLoader(valid_data, batch_size=bs, sampler=valid_sampler, collate_fn=collate_fn)\n",
    "    \n",
    "    return train_dl, valid_dl"
   ]
  },
  {
   "cell_type": "code",
   "execution_count": 9,
   "metadata": {
    "ExecuteTime": {
     "end_time": "2019-12-20T04:11:06.521423Z",
     "start_time": "2019-12-20T04:11:06.518318Z"
    },
    "hidden": true
   },
   "outputs": [],
   "source": [
    "train_dl, valid_dl = get_dls(train_data, valid_data, bs=bs)"
   ]
  },
  {
   "cell_type": "code",
   "execution_count": 10,
   "metadata": {
    "ExecuteTime": {
     "end_time": "2019-12-20T04:11:08.324096Z",
     "start_time": "2019-12-20T04:11:07.036107Z"
    },
    "hidden": true
   },
   "outputs": [
    {
     "name": "stderr",
     "output_type": "stream",
     "text": [
      "/home/rahul/anaconda3/lib/python3.7/site-packages/torchvision/io/video.py:106: UserWarning: The pts_unit 'pts' gives wrong results and will be removed in a follow-up version. Please use pts_unit 'sec'.\n",
      "  warnings.warn(\"The pts_unit 'pts' gives wrong results and will be removed in a \" +\n"
     ]
    },
    {
     "data": {
      "text/plain": [
       "(torch.Size([2, 3, 16, 256, 454]), torch.Size([2]))"
      ]
     },
     "execution_count": 10,
     "metadata": {},
     "output_type": "execute_result"
    }
   ],
   "source": [
    "x,y = next(iter(train_dl))\n",
    "x.shape, y.shape"
   ]
  },
  {
   "cell_type": "markdown",
   "metadata": {
    "heading_collapsed": true
   },
   "source": [
    "## LR Finder"
   ]
  },
  {
   "cell_type": "code",
   "execution_count": 11,
   "metadata": {
    "ExecuteTime": {
     "end_time": "2019-12-20T04:11:09.560425Z",
     "start_time": "2019-12-20T04:11:09.544186Z"
    },
    "hidden": true
   },
   "outputs": [
    {
     "name": "stderr",
     "output_type": "stream",
     "text": [
      "/home/rahul/anaconda3/lib/python3.7/site-packages/tqdm/autonotebook/__init__.py:18: TqdmExperimentalWarning: Using `tqdm.autonotebook.tqdm` in notebook mode. Use `tqdm.tqdm` instead to force console mode (e.g. in jupyter console)\n",
      "  \" (e.g. in jupyter console)\", TqdmExperimentalWarning)\n"
     ]
    }
   ],
   "source": [
    "from torch_lr_finder import LRFinder, AccumulationLRFinder"
   ]
  },
  {
   "cell_type": "code",
   "execution_count": 12,
   "metadata": {
    "ExecuteTime": {
     "end_time": "2019-12-20T04:11:15.989775Z",
     "start_time": "2019-12-20T04:11:12.024816Z"
    },
    "hidden": true
   },
   "outputs": [],
   "source": [
    "model = torchvision.models.video.r2plus1d_18(pretrained=True).cuda()\n",
    "#model = model.half()"
   ]
  },
  {
   "cell_type": "code",
   "execution_count": 13,
   "metadata": {
    "ExecuteTime": {
     "end_time": "2019-12-20T04:11:15.994591Z",
     "start_time": "2019-12-20T04:11:15.991235Z"
    },
    "hidden": true
   },
   "outputs": [],
   "source": [
    "criterion = nn.CrossEntropyLoss()\n",
    "optimizer = torch.optim.Adam(model.parameters(), lr=1e-6, weight_decay=1e-2)"
   ]
  },
  {
   "cell_type": "code",
   "execution_count": 14,
   "metadata": {
    "ExecuteTime": {
     "end_time": "2019-12-20T04:11:16.012460Z",
     "start_time": "2019-12-20T04:11:15.995796Z"
    },
    "hidden": true
   },
   "outputs": [],
   "source": [
    "real_bs = 2\n",
    "acc_bs = 12\n",
    "acc_steps = acc_bs // real_bs"
   ]
  },
  {
   "cell_type": "code",
   "execution_count": 16,
   "metadata": {
    "ExecuteTime": {
     "end_time": "2019-12-20T04:38:24.234102Z",
     "start_time": "2019-12-20T04:34:04.346179Z"
    },
    "hidden": true
   },
   "outputs": [
    {
     "data": {
      "application/vnd.jupyter.widget-view+json": {
       "model_id": "02ff8953cff1482bbe5d0700880300a8",
       "version_major": 2,
       "version_minor": 0
      },
      "text/plain": [
       "HBox(children=(IntProgress(value=0, max=90), HTML(value='')))"
      ]
     },
     "metadata": {},
     "output_type": "display_data"
    },
    {
     "name": "stdout",
     "output_type": "stream",
     "text": [
      "Stopping early, the loss has diverged\n",
      "Learning rate search finished. See the graph with {finder_name}.plot()\n"
     ]
    },
    {
     "data": {
      "image/png": "[encoded data removed]",
      "text/plain": [
       "<Figure size 432x288 with 1 Axes>"
      ]
     },
     "metadata": {
      "needs_background": "light"
     },
     "output_type": "display_data"
    }
   ],
   "source": [
    "lr_finder = LRFinder(model, optimizer, criterion, device='cuda')\n",
    "lr_finder.range_test(train_dl, end_lr=10, num_iter=90)\n",
    "lr_finder.plot()\n",
    "lr_finder.reset()"
   ]
  },
  {
   "cell_type": "code",
   "execution_count": 15,
   "metadata": {
    "ExecuteTime": {
     "end_time": "2019-12-20T04:30:17.589406Z",
     "start_time": "2019-12-20T04:11:17.365261Z"
    },
    "hidden": true
   },
   "outputs": [
    {
     "data": {
      "application/vnd.jupyter.widget-view+json": {
       "model_id": "",
       "version_major": 2,
       "version_minor": 0
      },
      "text/plain": [
       "HBox(children=(IntProgress(value=0), HTML(value='')))"
      ]
     },
     "metadata": {},
     "output_type": "display_data"
    },
    {
     "name": "stdout",
     "output_type": "stream",
     "text": [
      "Stopping early, the loss has diverged\n",
      "Learning rate search finished. See the graph with {finder_name}.plot()\n"
     ]
    },
    {
     "data": {
      "image/png": "[encoded data removed]",
      "text/plain": [
       "<Figure size 432x288 with 1 Axes>"
      ]
     },
     "metadata": {
      "needs_background": "light"
     },
     "output_type": "display_data"
    }
   ],
   "source": [
    "lr_finder = AccumulationLRFinder(model, optimizer, criterion, device='cuda', accumulation_steps=acc_steps)\n",
    "lr_finder.range_test(train_dl, end_lr=10, num_iter=100, step_mode='exp')\n",
    "lr_finder.plot()\n",
    "lr_finder.reset()"
   ]
  },
  {
   "cell_type": "code",
   "execution_count": 19,
   "metadata": {
    "ExecuteTime": {
     "end_time": "2019-12-20T05:21:40.536648Z",
     "start_time": "2019-12-20T05:06:30.989758Z"
    },
    "hidden": true
   },
   "outputs": [
    {
     "name": "stdout",
     "output_type": "stream",
     "text": [
      "Selected optimization level O1:  Insert automatic casts around Pytorch functions and Tensor methods.\n",
      "\n",
      "Defaults for this optimization level are:\n",
      "enabled                : True\n",
      "opt_level              : O1\n",
      "cast_model_type        : None\n",
      "patch_torch_functions  : True\n",
      "keep_batchnorm_fp32    : None\n",
      "master_weights         : None\n",
      "loss_scale             : dynamic\n",
      "Processing user overrides (additional kwargs that are not None)...\n",
      "After processing overrides, optimization options are:\n",
      "enabled                : True\n",
      "opt_level              : O1\n",
      "cast_model_type        : None\n",
      "patch_torch_functions  : True\n",
      "keep_batchnorm_fp32    : None\n",
      "master_weights         : None\n",
      "loss_scale             : dynamic\n"
     ]
    },
    {
     "data": {
      "application/vnd.jupyter.widget-view+json": {
       "model_id": "",
       "version_major": 2,
       "version_minor": 0
      },
      "text/plain": [
       "HBox(children=(IntProgress(value=0), HTML(value='')))"
      ]
     },
     "metadata": {},
     "output_type": "display_data"
    },
    {
     "name": "stderr",
     "output_type": "stream",
     "text": [
      "/home/rahul/anaconda3/lib/python3.7/site-packages/torchvision/io/video.py:106: UserWarning: The pts_unit 'pts' gives wrong results and will be removed in a follow-up version. Please use pts_unit 'sec'.\n",
      "  warnings.warn(\"The pts_unit 'pts' gives wrong results and will be removed in a \" +\n"
     ]
    },
    {
     "name": "stdout",
     "output_type": "stream",
     "text": [
      "Gradient overflow.  Skipping step, loss scaler 0 reducing loss scale to 32768.0\n",
      "Stopping early, the loss has diverged\n",
      "Learning rate search finished. See the graph with {finder_name}.plot()\n"
     ]
    },
    {
     "data": {
      "image/png": "[encoded data removed]",
      "text/plain": [
       "<Figure size 432x288 with 1 Axes>"
      ]
     },
     "metadata": {
      "needs_background": "light"
     },
     "output_type": "display_data"
    }
   ],
   "source": [
    "from apex import amp\n",
    "model, optimizer = amp.initialize(model, optimizer)\n",
    "\n",
    "lr_finder = AccumulationLRFinder(model, optimizer, criterion, device='cuda', accumulation_steps=acc_steps)\n",
    "lr_finder.range_test(train_dl, end_lr=10, num_iter=100, step_mode='exp')\n",
    "lr_finder.plot()\n",
    "lr_finder.reset()"
   ]
  },
  {
   "cell_type": "code",
   "execution_count": 23,
   "metadata": {
    "ExecuteTime": {
     "end_time": "2019-12-20T05:23:54.093833Z",
     "start_time": "2019-12-20T05:23:54.020113Z"
    },
    "hidden": true
   },
   "outputs": [],
   "source": [
    "torch.cuda.empty_cache()"
   ]
  },
  {
   "cell_type": "markdown",
   "metadata": {
    "heading_collapsed": true
   },
   "source": [
    "## Vanilla PyTorch Training"
   ]
  },
  {
   "cell_type": "markdown",
   "metadata": {
    "heading_collapsed": true,
    "hidden": true
   },
   "source": [
    "### Helper Functions"
   ]
  },
  {
   "cell_type": "code",
   "execution_count": 30,
   "metadata": {
    "hidden": true
   },
   "outputs": [],
   "source": [
    "from visionmod import train_utils as utils\n",
    "import datetime\n",
    "import time"
   ]
  },
  {
   "cell_type": "code",
   "execution_count": 31,
   "metadata": {
    "hidden": true
   },
   "outputs": [],
   "source": [
    "def train_one_epoch(model, criterion, optimizer, lr_scheduler, data_loader, device, epoch, print_freq, apex=False):\n",
    "    model.train()\n",
    "    metric_logger = utils.MetricLogger(delimiter=\"  \")\n",
    "    metric_logger.add_meter('lr', utils.SmoothedValue(window_size=1, fmt='{value}'))\n",
    "    metric_logger.add_meter('clips/s', utils.SmoothedValue(window_size=10, fmt='{value:.3f}'))\n",
    "\n",
    "    header = 'Epoch: [{}]'.format(epoch)\n",
    "    for video, target in metric_logger.log_every(data_loader, print_freq, header):\n",
    "        start_time = time.time()\n",
    "        video, target = video.to(device), target.to(device)\n",
    "        output = model(video)\n",
    "        loss = criterion(output, target)\n",
    "\n",
    "        optimizer.zero_grad()\n",
    "        if apex:\n",
    "            with amp.scale_loss(loss, optimizer) as scaled_loss:\n",
    "                scaled_loss.backward()\n",
    "        else:\n",
    "            loss.backward()\n",
    "        optimizer.step()\n",
    "\n",
    "        acc1, acc5 = utils.accuracy(output, target, topk=(1, 5))\n",
    "        batch_size = video.shape[0]\n",
    "        metric_logger.update(loss=loss.item(), lr=optimizer.param_groups[0][\"lr\"])\n",
    "        metric_logger.meters['acc1'].update(acc1.item(), n=batch_size)\n",
    "        metric_logger.meters['acc5'].update(acc5.item(), n=batch_size)\n",
    "        metric_logger.meters['clips/s'].update(batch_size / (time.time() - start_time))\n",
    "        lr_scheduler.step()"
   ]
  },
  {
   "cell_type": "code",
   "execution_count": 32,
   "metadata": {
    "hidden": true
   },
   "outputs": [],
   "source": [
    "def evaluate(model, criterion, data_loader, device):\n",
    "    model.eval()\n",
    "    metric_logger = utils.MetricLogger(delimiter=\"  \")\n",
    "    header = 'Test:'\n",
    "    with torch.no_grad():\n",
    "        for video, target in metric_logger.log_every(data_loader, 100, header):\n",
    "            video = video.to(device, non_blocking=True)\n",
    "            target = target.to(device, non_blocking=True)\n",
    "            output = model(video)\n",
    "            loss = criterion(output, target)\n",
    "\n",
    "            acc1, acc5 = utils.accuracy(output, target, topk=(1, 5))\n",
    "            # FIXME need to take into account that the datasets\n",
    "            # could have been padded in distributed setup\n",
    "            batch_size = video.shape[0]\n",
    "            metric_logger.update(loss=loss.item())\n",
    "            metric_logger.meters['acc1'].update(acc1.item(), n=batch_size)\n",
    "            metric_logger.meters['acc5'].update(acc5.item(), n=batch_size)\n",
    "    # gather the stats from all processes\n",
    "    metric_logger.synchronize_between_processes()\n",
    "\n",
    "    print(' * Clip Acc@1 {top1.global_avg:.3f} Clip Acc@5 {top5.global_avg:.3f}'\n",
    "          .format(top1=metric_logger.acc1, top5=metric_logger.acc5))\n",
    "    return metric_logger.acc1.global_avg"
   ]
  },
  {
   "cell_type": "markdown",
   "metadata": {
    "heading_collapsed": true,
    "hidden": true
   },
   "source": [
    "### Training"
   ]
  },
  {
   "cell_type": "code",
   "execution_count": 33,
   "metadata": {
    "hidden": true
   },
   "outputs": [],
   "source": [
    "lr=1e-2\n",
    "optim = torch.optim.Adam(model.parameters(), lr)\n",
    "lr_scheduler = torch.optim.lr_scheduler.OneCycleLR(\n",
    "    optim, max_lr=5e-1, steps_per_epoch=len(train_dl), epochs=1\n",
    ")\n",
    "\n",
    "device = torch.device('cuda')"
   ]
  },
  {
   "cell_type": "code",
   "execution_count": 34,
   "metadata": {
    "hidden": true
   },
   "outputs": [],
   "source": [
    "metrics_dir = cache_dir/'train-metrics'"
   ]
  },
  {
   "cell_type": "code",
   "execution_count": 35,
   "metadata": {
    "hidden": true
   },
   "outputs": [
    {
     "name": "stdout",
     "output_type": "stream",
     "text": [
      "Epoch: [0]  [   0/2229]  eta: 2:03:16  lr: 0.020000000000000018  clips/s: 1.124  loss: 5.7354 (5.7354)  acc1: 0.0000 (0.0000)  acc5: 0.0000 (0.0000)  time: 3.3184  data: 1.5394  max mem: 9516\n"
     ]
    },
    {
     "ename": "KeyboardInterrupt",
     "evalue": "",
     "output_type": "error",
     "traceback": [
      "\u001b[0;31m---------------------------------------------------------------------------\u001b[0m",
      "\u001b[0;31mKeyboardInterrupt\u001b[0m                         Traceback (most recent call last)",
      "\u001b[0;32m<ipython-input-35-9a66be8b0126>\u001b[0m in \u001b[0;36m<module>\u001b[0;34m\u001b[0m\n\u001b[1;32m      2\u001b[0m \u001b[0;34m\u001b[0m\u001b[0m\n\u001b[1;32m      3\u001b[0m \u001b[0;32mfor\u001b[0m \u001b[0mepoch\u001b[0m \u001b[0;32min\u001b[0m \u001b[0mrange\u001b[0m\u001b[0;34m(\u001b[0m\u001b[0;36m10\u001b[0m\u001b[0;34m)\u001b[0m\u001b[0;34m:\u001b[0m\u001b[0;34m\u001b[0m\u001b[0;34m\u001b[0m\u001b[0m\n\u001b[0;32m----> 4\u001b[0;31m     \u001b[0mtrain_one_epoch\u001b[0m\u001b[0;34m(\u001b[0m\u001b[0mmodel\u001b[0m\u001b[0;34m,\u001b[0m \u001b[0mcriterion\u001b[0m\u001b[0;34m,\u001b[0m \u001b[0moptim\u001b[0m\u001b[0;34m,\u001b[0m \u001b[0mlr_scheduler\u001b[0m\u001b[0;34m,\u001b[0m \u001b[0mtrain_dl\u001b[0m\u001b[0;34m,\u001b[0m \u001b[0mdevice\u001b[0m\u001b[0;34m,\u001b[0m \u001b[0mepoch\u001b[0m\u001b[0;34m,\u001b[0m \u001b[0mprint_freq\u001b[0m\u001b[0;34m=\u001b[0m\u001b[0;36m100\u001b[0m\u001b[0;34m)\u001b[0m\u001b[0;34m\u001b[0m\u001b[0;34m\u001b[0m\u001b[0m\n\u001b[0m\u001b[1;32m      5\u001b[0m     \u001b[0mevaluate\u001b[0m\u001b[0;34m(\u001b[0m\u001b[0mmodel\u001b[0m\u001b[0;34m,\u001b[0m \u001b[0mcriterion\u001b[0m\u001b[0;34m,\u001b[0m \u001b[0mvalid_dl\u001b[0m\u001b[0;34m,\u001b[0m \u001b[0mdevice\u001b[0m\u001b[0;34m)\u001b[0m\u001b[0;34m\u001b[0m\u001b[0;34m\u001b[0m\u001b[0m\n\u001b[1;32m      6\u001b[0m     checkpoint = {\n",
      "\u001b[0;32m<ipython-input-31-6310a4290436>\u001b[0m in \u001b[0;36mtrain_one_epoch\u001b[0;34m(model, criterion, optimizer, lr_scheduler, data_loader, device, epoch, print_freq, apex)\u001b[0m\n\u001b[1;32m     22\u001b[0m         \u001b[0macc1\u001b[0m\u001b[0;34m,\u001b[0m \u001b[0macc5\u001b[0m \u001b[0;34m=\u001b[0m \u001b[0mutils\u001b[0m\u001b[0;34m.\u001b[0m\u001b[0maccuracy\u001b[0m\u001b[0;34m(\u001b[0m\u001b[0moutput\u001b[0m\u001b[0;34m,\u001b[0m \u001b[0mtarget\u001b[0m\u001b[0;34m,\u001b[0m \u001b[0mtopk\u001b[0m\u001b[0;34m=\u001b[0m\u001b[0;34m(\u001b[0m\u001b[0;36m1\u001b[0m\u001b[0;34m,\u001b[0m \u001b[0;36m5\u001b[0m\u001b[0;34m)\u001b[0m\u001b[0;34m)\u001b[0m\u001b[0;34m\u001b[0m\u001b[0;34m\u001b[0m\u001b[0m\n\u001b[1;32m     23\u001b[0m         \u001b[0mbatch_size\u001b[0m \u001b[0;34m=\u001b[0m \u001b[0mvideo\u001b[0m\u001b[0;34m.\u001b[0m\u001b[0mshape\u001b[0m\u001b[0;34m[\u001b[0m\u001b[0;36m0\u001b[0m\u001b[0;34m]\u001b[0m\u001b[0;34m\u001b[0m\u001b[0;34m\u001b[0m\u001b[0m\n\u001b[0;32m---> 24\u001b[0;31m         \u001b[0mmetric_logger\u001b[0m\u001b[0;34m.\u001b[0m\u001b[0mupdate\u001b[0m\u001b[0;34m(\u001b[0m\u001b[0mloss\u001b[0m\u001b[0;34m=\u001b[0m\u001b[0mloss\u001b[0m\u001b[0;34m.\u001b[0m\u001b[0mitem\u001b[0m\u001b[0;34m(\u001b[0m\u001b[0;34m)\u001b[0m\u001b[0;34m,\u001b[0m \u001b[0mlr\u001b[0m\u001b[0;34m=\u001b[0m\u001b[0moptimizer\u001b[0m\u001b[0;34m.\u001b[0m\u001b[0mparam_groups\u001b[0m\u001b[0;34m[\u001b[0m\u001b[0;36m0\u001b[0m\u001b[0;34m]\u001b[0m\u001b[0;34m[\u001b[0m\u001b[0;34m\"lr\"\u001b[0m\u001b[0;34m]\u001b[0m\u001b[0;34m)\u001b[0m\u001b[0;34m\u001b[0m\u001b[0;34m\u001b[0m\u001b[0m\n\u001b[0m\u001b[1;32m     25\u001b[0m         \u001b[0mmetric_logger\u001b[0m\u001b[0;34m.\u001b[0m\u001b[0mmeters\u001b[0m\u001b[0;34m[\u001b[0m\u001b[0;34m'acc1'\u001b[0m\u001b[0;34m]\u001b[0m\u001b[0;34m.\u001b[0m\u001b[0mupdate\u001b[0m\u001b[0;34m(\u001b[0m\u001b[0macc1\u001b[0m\u001b[0;34m.\u001b[0m\u001b[0mitem\u001b[0m\u001b[0;34m(\u001b[0m\u001b[0;34m)\u001b[0m\u001b[0;34m,\u001b[0m \u001b[0mn\u001b[0m\u001b[0;34m=\u001b[0m\u001b[0mbatch_size\u001b[0m\u001b[0;34m)\u001b[0m\u001b[0;34m\u001b[0m\u001b[0;34m\u001b[0m\u001b[0m\n\u001b[1;32m     26\u001b[0m         \u001b[0mmetric_logger\u001b[0m\u001b[0;34m.\u001b[0m\u001b[0mmeters\u001b[0m\u001b[0;34m[\u001b[0m\u001b[0;34m'acc5'\u001b[0m\u001b[0;34m]\u001b[0m\u001b[0;34m.\u001b[0m\u001b[0mupdate\u001b[0m\u001b[0;34m(\u001b[0m\u001b[0macc5\u001b[0m\u001b[0;34m.\u001b[0m\u001b[0mitem\u001b[0m\u001b[0;34m(\u001b[0m\u001b[0;34m)\u001b[0m\u001b[0;34m,\u001b[0m \u001b[0mn\u001b[0m\u001b[0;34m=\u001b[0m\u001b[0mbatch_size\u001b[0m\u001b[0;34m)\u001b[0m\u001b[0;34m\u001b[0m\u001b[0;34m\u001b[0m\u001b[0m\n",
      "\u001b[0;31mKeyboardInterrupt\u001b[0m: "
     ]
    }
   ],
   "source": [
    "start_time = time.time()\n",
    "\n",
    "for epoch in range(10):\n",
    "    train_one_epoch(model, criterion, optim, lr_scheduler, train_dl, device, epoch, print_freq=100)\n",
    "    evaluate(model, criterion, valid_dl, device)\n",
    "    checkpoint = {\n",
    "        'model': model_without_ddp.state_dict(),\n",
    "        'optimizer': optimizer.state_dict(),\n",
    "        'lr_scheduler': lr_scheduler.state_dict(),\n",
    "        'epoch': epoch,\n",
    "        'args': args}\n",
    "    utils.save_on_master(\n",
    "        checkpoint,\n",
    "        os.path.join(str(metrics_dir), 'model_{}.pth'.format(epoch)))\n",
    "    utils.save_on_master(\n",
    "        checkpoint,\n",
    "        os.path.join(str(metrics_dir), 'checkpoint.pth'))\n",
    "    \n",
    "total_time = time.time() - start_time\n",
    "total_time_str = str(datetime.timedelta(seconds=int(total_time)))\n",
    "print('Training time {}'.format(total_time_str))"
   ]
  },
  {
   "cell_type": "code",
   "execution_count": 36,
   "metadata": {
    "hidden": true
   },
   "outputs": [],
   "source": [
    "torch.cuda.empty_cache()"
   ]
  },
  {
   "cell_type": "markdown",
   "metadata": {},
   "source": [
    "# PyTorch Lightning Training"
   ]
  },
  {
   "cell_type": "code",
   "execution_count": 2,
   "metadata": {
    "ExecuteTime": {
     "end_time": "2019-12-20T13:30:00.413700Z",
     "start_time": "2019-12-20T13:30:00.163331Z"
    }
   },
   "outputs": [],
   "source": [
    "import pytorch_lightning as pl\n",
    "from pytorch_lightning import Trainer\n",
    "from torch.nn import functional as F"
   ]
  },
  {
   "cell_type": "code",
   "execution_count": 3,
   "metadata": {
    "ExecuteTime": {
     "end_time": "2019-12-20T13:30:00.521116Z",
     "start_time": "2019-12-20T13:30:00.518112Z"
    }
   },
   "outputs": [],
   "source": [
    "data_dir = Path('/home/rahul/datasets/tennis-func//')\n",
    "cache_dir = data_dir/'.cache'"
   ]
  },
  {
   "cell_type": "code",
   "execution_count": 4,
   "metadata": {
    "ExecuteTime": {
     "end_time": "2019-12-20T13:30:01.025422Z",
     "start_time": "2019-12-20T13:30:00.964739Z"
    }
   },
   "outputs": [],
   "source": [
    "train_data = torch.load(cache_dir/'train_fpc-32_sc-1_sf-2_rsz-2')\n",
    "valid_data = torch.load(cache_dir/'valid_fpc-32_sc-1_sf-2_rsz-2')"
   ]
  },
  {
   "cell_type": "code",
   "execution_count": 5,
   "metadata": {
    "ExecuteTime": {
     "end_time": "2019-12-20T13:30:01.748061Z",
     "start_time": "2019-12-20T13:30:01.732789Z"
    }
   },
   "outputs": [],
   "source": [
    "class VideoClassification(pl.LightningModule):\n",
    "    def __init__(self):\n",
    "        super(VideoClassification, self).__init__()\n",
    "        self.model = torchvision.models.video.r2plus1d_18(pretrained=True)\n",
    "        \n",
    "    def forward(self, x):\n",
    "        return self.model.forward(x)\n",
    "    \n",
    "    def training_step(self, batch, batch_nb):\n",
    "        x,y = batch\n",
    "        y_hat = self.forward(x)\n",
    "        loss = F.cross_entropy(y_hat, y)\n",
    "        tensorboard_logs = {'train_loss': loss}\n",
    "        return {'loss': loss, 'log': tensorboard_logs}\n",
    "    \n",
    "    def validation_step(self, batch, batch_nb):\n",
    "        x, y = batch\n",
    "        y_hat = self.forward(x)\n",
    "        pred_class = torch.argmax(y_hat, dim=1)\n",
    "        val_acc = torch.sum(y == pred_class).item() / (len(y) * 1.)\n",
    "        return {'val_loss': F.cross_entropy(y_hat, y),\n",
    "                'val_accuracy': torch.tensor(val_acc)}\n",
    "    \n",
    "    def validation_end(self, outputs):\n",
    "        avg_loss = torch.stack([x['val_loss'] for x in outputs]).mean()\n",
    "        avg_accuracy = torch.stack([x['val_accuracy'] for x in outputs]).mean()\n",
    "        tensorboard_logs = {'val_loss': avg_loss,\n",
    "                            'val_accuracy': avg_accuracy}\n",
    "        return {'avg_val_loss': avg_loss,\n",
    "                'avg_val_accuracy': avg_accuracy,\n",
    "                'log': tensorboard_logs}\n",
    "    \n",
    "    def configure_optimizers(self):\n",
    "        optim = torch.optim.Adam(self.model.parameters(), lr=1e-2)\n",
    "        lr_scheduler = torch.optim.lr_scheduler.OneCycleLR(\n",
    "            optim, max_lr=5e-1, epochs=1,\n",
    "            steps_per_epoch=len(self.train_dataloader())\n",
    "        )\n",
    "        return [optim], [lr_scheduler]\n",
    "    \n",
    "    @pl.data_loader\n",
    "    def train_dataloader(self):\n",
    "        return torch.utils.data.DataLoader(train_data, batch_size=2,\n",
    "                                           sampler=FirstClipSampler(train_data.video_clips, 1),\n",
    "                                           collate_fn=collate_fn)\n",
    "    @pl.data_loader\n",
    "    def val_dataloader(self):\n",
    "        return torch.utils.data.DataLoader(valid_data, batch_size=2,\n",
    "                                           sampler=FirstClipSampler(valid_data.video_clips, 1),\n",
    "                                           collate_fn=collate_fn)"
   ]
  },
  {
   "cell_type": "code",
   "execution_count": 6,
   "metadata": {
    "ExecuteTime": {
     "end_time": "2019-12-20T13:30:15.708091Z",
     "start_time": "2019-12-20T13:30:15.243327Z"
    }
   },
   "outputs": [],
   "source": [
    "model = VideoClassification()\n",
    "trainer = Trainer(gpus=[0],use_amp=True, accumulate_grad_batches=16,\n",
    "                  max_nb_epochs=5, row_log_interval=10)"
   ]
  },
  {
   "cell_type": "code",
   "execution_count": 7,
   "metadata": {
    "ExecuteTime": {
     "end_time": "2019-12-20T17:11:53.002223Z",
     "start_time": "2019-12-20T13:30:16.540272Z"
    },
    "scrolled": false
   },
   "outputs": [
    {
     "name": "stderr",
     "output_type": "stream",
     "text": [
      "\r",
      "Validation sanity check:   0%|          | 0/5 [00:00<?, ?batch/s]"
     ]
    },
    {
     "name": "stdout",
     "output_type": "stream",
     "text": [
      "Selected optimization level O1:  Insert automatic casts around Pytorch functions and Tensor methods.\n",
      "\n",
      "Defaults for this optimization level are:\n",
      "enabled                : True\n",
      "opt_level              : O1\n",
      "cast_model_type        : None\n",
      "patch_torch_functions  : True\n",
      "keep_batchnorm_fp32    : None\n",
      "master_weights         : None\n",
      "loss_scale             : dynamic\n",
      "Processing user overrides (additional kwargs that are not None)...\n",
      "After processing overrides, optimization options are:\n",
      "enabled                : True\n",
      "opt_level              : O1\n",
      "cast_model_type        : None\n",
      "patch_torch_functions  : True\n",
      "keep_batchnorm_fp32    : None\n",
      "master_weights         : None\n",
      "loss_scale             : dynamic\n"
     ]
    },
    {
     "name": "stderr",
     "output_type": "stream",
     "text": [
      "/home/rahul/anaconda3/lib/python3.7/site-packages/torchvision/io/video.py:106: UserWarning: The pts_unit 'pts' gives wrong results and will be removed in a follow-up version. Please use pts_unit 'sec'.\n",
      "  warnings.warn(\"The pts_unit 'pts' gives wrong results and will be removed in a \" +\n",
      "Epoch 1:   5%|▍         | 64/1285 [02:41<46:56,  2.31s/batch, batch_nb=63, gpu=0, loss=3.646, v_nb=1]"
     ]
    },
    {
     "name": "stdout",
     "output_type": "stream",
     "text": [
      "Gradient overflow.  Skipping step, loss scaler 0 reducing loss scale to 32768.0\n"
     ]
    },
    {
     "name": "stderr",
     "output_type": "stream",
     "text": [
      "Epoch 1:  87%|████████▋ | 1118/1285 [48:17<06:06,  2.20s/batch, batch_nb=1117, gpu=0, loss=1.015, v_nb=1]\n",
      "Validating:   0%|          | 0/167 [00:00<?, ?batch/s]\u001b[A\n",
      "Epoch 1:  87%|████████▋ | 1119/1285 [48:19<05:39,  2.05s/batch, batch_nb=1117, gpu=0, loss=1.015, v_nb=1]\n",
      "Epoch 1:  87%|████████▋ | 1120/1285 [48:21<05:28,  1.99s/batch, batch_nb=1117, gpu=0, loss=1.015, v_nb=1]\n",
      "Epoch 1:  87%|████████▋ | 1121/1285 [48:23<05:14,  1.91s/batch, batch_nb=1117, gpu=0, loss=1.015, v_nb=1]\n",
      "Epoch 1:  87%|████████▋ | 1122/1285 [48:25<05:07,  1.89s/batch, batch_nb=1117, gpu=0, loss=1.015, v_nb=1]\n",
      "Epoch 1:  87%|████████▋ | 1123/1285 [48:26<04:52,  1.81s/batch, batch_nb=1117, gpu=0, loss=1.015, v_nb=1]\n",
      "Epoch 1:  87%|████████▋ | 1124/1285 [48:28<04:46,  1.78s/batch, batch_nb=1117, gpu=0, loss=1.015, v_nb=1]\n",
      "Epoch 1:  88%|████████▊ | 1125/1285 [48:30<04:47,  1.80s/batch, batch_nb=1117, gpu=0, loss=1.015, v_nb=1]\n",
      "Epoch 1:  88%|████████▊ | 1126/1285 [48:31<04:39,  1.76s/batch, batch_nb=1117, gpu=0, loss=1.015, v_nb=1]\n",
      "Epoch 1:  88%|████████▊ | 1127/1285 [48:33<04:39,  1.77s/batch, batch_nb=1117, gpu=0, loss=1.015, v_nb=1]\n",
      "Epoch 1:  88%|████████▊ | 1128/1285 [48:35<04:38,  1.78s/batch, batch_nb=1117, gpu=0, loss=1.015, v_nb=1]\n",
      "Epoch 1:  88%|████████▊ | 1129/1285 [48:37<04:41,  1.80s/batch, batch_nb=1117, gpu=0, loss=1.015, v_nb=1]\n",
      "Epoch 1:  88%|████████▊ | 1130/1285 [48:39<04:46,  1.85s/batch, batch_nb=1117, gpu=0, loss=1.015, v_nb=1]\n",
      "Epoch 1:  88%|████████▊ | 1131/1285 [48:40<04:32,  1.77s/batch, batch_nb=1117, gpu=0, loss=1.015, v_nb=1]\n",
      "Epoch 1:  88%|████████▊ | 1132/1285 [48:42<04:27,  1.75s/batch, batch_nb=1117, gpu=0, loss=1.015, v_nb=1]\n",
      "Epoch 1:  88%|████████▊ | 1133/1285 [48:44<04:44,  1.87s/batch, batch_nb=1117, gpu=0, loss=1.015, v_nb=1]\n",
      "Epoch 1:  88%|████████▊ | 1134/1285 [48:46<04:35,  1.82s/batch, batch_nb=1117, gpu=0, loss=1.015, v_nb=1]\n",
      "Epoch 1:  88%|████████▊ | 1135/1285 [48:48<04:25,  1.77s/batch, batch_nb=1117, gpu=0, loss=1.015, v_nb=1]\n",
      "Epoch 1:  88%|████████▊ | 1136/1285 [48:49<04:19,  1.74s/batch, batch_nb=1117, gpu=0, loss=1.015, v_nb=1]\n",
      "Epoch 1:  88%|████████▊ | 1137/1285 [48:51<04:21,  1.76s/batch, batch_nb=1117, gpu=0, loss=1.015, v_nb=1]\n",
      "Epoch 1:  89%|████████▊ | 1138/1285 [48:53<04:18,  1.76s/batch, batch_nb=1117, gpu=0, loss=1.015, v_nb=1]\n",
      "Epoch 1:  89%|████████▊ | 1139/1285 [48:55<04:20,  1.78s/batch, batch_nb=1117, gpu=0, loss=1.015, v_nb=1]\n",
      "Epoch 1:  89%|████████▊ | 1140/1285 [48:56<04:12,  1.74s/batch, batch_nb=1117, gpu=0, loss=1.015, v_nb=1]\n",
      "Epoch 1:  89%|████████▉ | 1141/1285 [48:58<04:13,  1.76s/batch, batch_nb=1117, gpu=0, loss=1.015, v_nb=1]\n",
      "Epoch 1:  89%|████████▉ | 1142/1285 [49:00<04:08,  1.74s/batch, batch_nb=1117, gpu=0, loss=1.015, v_nb=1]\n",
      "Epoch 1:  89%|████████▉ | 1143/1285 [49:01<04:01,  1.70s/batch, batch_nb=1117, gpu=0, loss=1.015, v_nb=1]\n",
      "Epoch 1:  89%|████████▉ | 1144/1285 [49:03<04:00,  1.71s/batch, batch_nb=1117, gpu=0, loss=1.015, v_nb=1]\n",
      "Epoch 1:  89%|████████▉ | 1145/1285 [49:05<03:56,  1.69s/batch, batch_nb=1117, gpu=0, loss=1.015, v_nb=1]\n",
      "Epoch 1:  89%|████████▉ | 1146/1285 [49:06<03:55,  1.69s/batch, batch_nb=1117, gpu=0, loss=1.015, v_nb=1]\n",
      "Epoch 1:  89%|████████▉ | 1147/1285 [49:08<03:54,  1.70s/batch, batch_nb=1117, gpu=0, loss=1.015, v_nb=1]\n",
      "Epoch 1:  89%|████████▉ | 1148/1285 [49:10<03:55,  1.72s/batch, batch_nb=1117, gpu=0, loss=1.015, v_nb=1]\n",
      "Epoch 1:  89%|████████▉ | 1149/1285 [49:12<04:05,  1.80s/batch, batch_nb=1117, gpu=0, loss=1.015, v_nb=1]\n",
      "Epoch 1:  89%|████████▉ | 1150/1285 [49:14<04:02,  1.80s/batch, batch_nb=1117, gpu=0, loss=1.015, v_nb=1]\n",
      "Epoch 1:  90%|████████▉ | 1151/1285 [49:16<04:08,  1.85s/batch, batch_nb=1117, gpu=0, loss=1.015, v_nb=1]\n",
      "Epoch 1:  90%|████████▉ | 1152/1285 [49:18<04:06,  1.86s/batch, batch_nb=1117, gpu=0, loss=1.015, v_nb=1]\n",
      "Epoch 1:  90%|████████▉ | 1153/1285 [49:19<03:59,  1.81s/batch, batch_nb=1117, gpu=0, loss=1.015, v_nb=1]\n",
      "Epoch 1:  90%|████████▉ | 1154/1285 [49:21<03:49,  1.75s/batch, batch_nb=1117, gpu=0, loss=1.015, v_nb=1]\n",
      "Epoch 1:  90%|████████▉ | 1155/1285 [49:23<03:46,  1.74s/batch, batch_nb=1117, gpu=0, loss=1.015, v_nb=1]\n",
      "Epoch 1:  90%|████████▉ | 1156/1285 [49:24<03:36,  1.68s/batch, batch_nb=1117, gpu=0, loss=1.015, v_nb=1]\n",
      "Epoch 1:  90%|█████████ | 1157/1285 [49:26<03:41,  1.73s/batch, batch_nb=1117, gpu=0, loss=1.015, v_nb=1]\n",
      "Epoch 1:  90%|█████████ | 1158/1285 [49:28<03:36,  1.70s/batch, batch_nb=1117, gpu=0, loss=1.015, v_nb=1]\n",
      "Epoch 1:  90%|█████████ | 1159/1285 [49:29<03:36,  1.72s/batch, batch_nb=1117, gpu=0, loss=1.015, v_nb=1]\n",
      "Epoch 1:  90%|█████████ | 1160/1285 [49:31<03:47,  1.82s/batch, batch_nb=1117, gpu=0, loss=1.015, v_nb=1]\n",
      "Epoch 1:  90%|█████████ | 1161/1285 [49:33<03:42,  1.79s/batch, batch_nb=1117, gpu=0, loss=1.015, v_nb=1]\n",
      "Epoch 1:  90%|█████████ | 1162/1285 [49:35<03:42,  1.81s/batch, batch_nb=1117, gpu=0, loss=1.015, v_nb=1]\n",
      "Epoch 1:  91%|█████████ | 1163/1285 [49:37<03:37,  1.78s/batch, batch_nb=1117, gpu=0, loss=1.015, v_nb=1]\n",
      "Epoch 1:  91%|█████████ | 1164/1285 [49:38<03:31,  1.75s/batch, batch_nb=1117, gpu=0, loss=1.015, v_nb=1]\n",
      "Epoch 1:  91%|█████████ | 1165/1285 [49:40<03:28,  1.74s/batch, batch_nb=1117, gpu=0, loss=1.015, v_nb=1]\n",
      "Epoch 1:  91%|█████████ | 1166/1285 [49:42<03:25,  1.73s/batch, batch_nb=1117, gpu=0, loss=1.015, v_nb=1]\n",
      "Epoch 1:  91%|█████████ | 1167/1285 [49:44<03:24,  1.73s/batch, batch_nb=1117, gpu=0, loss=1.015, v_nb=1]\n",
      "Epoch 1:  91%|█████████ | 1168/1285 [49:45<03:17,  1.69s/batch, batch_nb=1117, gpu=0, loss=1.015, v_nb=1]\n",
      "Epoch 1:  91%|█████████ | 1169/1285 [49:47<03:22,  1.75s/batch, batch_nb=1117, gpu=0, loss=1.015, v_nb=1]\n",
      "Epoch 1:  91%|█████████ | 1170/1285 [49:49<03:17,  1.72s/batch, batch_nb=1117, gpu=0, loss=1.015, v_nb=1]\n",
      "Epoch 1:  91%|█████████ | 1171/1285 [49:50<03:13,  1.69s/batch, batch_nb=1117, gpu=0, loss=1.015, v_nb=1]\n",
      "Epoch 1:  91%|█████████ | 1172/1285 [49:52<03:11,  1.70s/batch, batch_nb=1117, gpu=0, loss=1.015, v_nb=1]\n",
      "Epoch 1:  91%|█████████▏| 1173/1285 [49:54<03:10,  1.70s/batch, batch_nb=1117, gpu=0, loss=1.015, v_nb=1]\n",
      "Epoch 1:  91%|█████████▏| 1174/1285 [49:55<03:07,  1.69s/batch, batch_nb=1117, gpu=0, loss=1.015, v_nb=1]\n",
      "Epoch 1:  91%|█████████▏| 1175/1285 [49:57<03:07,  1.71s/batch, batch_nb=1117, gpu=0, loss=1.015, v_nb=1]\n",
      "Epoch 1:  92%|█████████▏| 1176/1285 [49:59<03:03,  1.68s/batch, batch_nb=1117, gpu=0, loss=1.015, v_nb=1]\n",
      "Epoch 1:  92%|█████████▏| 1177/1285 [50:00<03:01,  1.68s/batch, batch_nb=1117, gpu=0, loss=1.015, v_nb=1]\n",
      "Epoch 1:  92%|█████████▏| 1178/1285 [50:02<02:56,  1.65s/batch, batch_nb=1117, gpu=0, loss=1.015, v_nb=1]\n",
      "Epoch 1:  92%|█████████▏| 1179/1285 [50:04<02:55,  1.65s/batch, batch_nb=1117, gpu=0, loss=1.015, v_nb=1]\n",
      "Epoch 1:  92%|█████████▏| 1180/1285 [50:06<02:59,  1.71s/batch, batch_nb=1117, gpu=0, loss=1.015, v_nb=1]\n",
      "Epoch 1:  92%|█████████▏| 1181/1285 [50:07<02:55,  1.69s/batch, batch_nb=1117, gpu=0, loss=1.015, v_nb=1]\n",
      "Epoch 1:  92%|█████████▏| 1182/1285 [50:09<02:54,  1.70s/batch, batch_nb=1117, gpu=0, loss=1.015, v_nb=1]\n",
      "Epoch 1:  92%|█████████▏| 1183/1285 [50:10<02:47,  1.64s/batch, batch_nb=1117, gpu=0, loss=1.015, v_nb=1]\n",
      "Epoch 1:  92%|█████████▏| 1184/1285 [50:12<02:47,  1.66s/batch, batch_nb=1117, gpu=0, loss=1.015, v_nb=1]\n",
      "Epoch 1:  92%|█████████▏| 1185/1285 [50:14<02:49,  1.69s/batch, batch_nb=1117, gpu=0, loss=1.015, v_nb=1]\n",
      "Epoch 1:  92%|█████████▏| 1186/1285 [50:16<02:46,  1.69s/batch, batch_nb=1117, gpu=0, loss=1.015, v_nb=1]\n",
      "Epoch 1:  92%|█████████▏| 1187/1285 [50:17<02:46,  1.70s/batch, batch_nb=1117, gpu=0, loss=1.015, v_nb=1]\n",
      "Epoch 1:  92%|█████████▏| 1188/1285 [50:19<02:38,  1.63s/batch, batch_nb=1117, gpu=0, loss=1.015, v_nb=1]\n",
      "Epoch 1:  93%|█████████▎| 1189/1285 [50:20<02:36,  1.64s/batch, batch_nb=1117, gpu=0, loss=1.015, v_nb=1]\n",
      "Epoch 1:  93%|█████████▎| 1190/1285 [50:22<02:34,  1.62s/batch, batch_nb=1117, gpu=0, loss=1.015, v_nb=1]\n",
      "Epoch 1:  93%|█████████▎| 1191/1285 [50:24<02:32,  1.62s/batch, batch_nb=1117, gpu=0, loss=1.015, v_nb=1]\n",
      "Epoch 1:  93%|█████████▎| 1192/1285 [50:25<02:28,  1.59s/batch, batch_nb=1117, gpu=0, loss=1.015, v_nb=1]\n",
      "Epoch 1:  93%|█████████▎| 1193/1285 [50:27<02:22,  1.55s/batch, batch_nb=1117, gpu=0, loss=1.015, v_nb=1]\n"
     ]
    },
    {
     "name": "stderr",
     "output_type": "stream",
     "text": [
      "Epoch 1:  93%|█████████▎| 1194/1285 [50:28<02:21,  1.56s/batch, batch_nb=1117, gpu=0, loss=1.015, v_nb=1]\n",
      "Epoch 1:  93%|█████████▎| 1195/1285 [50:30<02:23,  1.60s/batch, batch_nb=1117, gpu=0, loss=1.015, v_nb=1]\n",
      "Epoch 1:  93%|█████████▎| 1196/1285 [50:32<02:25,  1.64s/batch, batch_nb=1117, gpu=0, loss=1.015, v_nb=1]\n",
      "Epoch 1:  93%|█████████▎| 1197/1285 [50:34<02:34,  1.75s/batch, batch_nb=1117, gpu=0, loss=1.015, v_nb=1]\n",
      "Epoch 1:  93%|█████████▎| 1198/1285 [50:35<02:29,  1.72s/batch, batch_nb=1117, gpu=0, loss=1.015, v_nb=1]\n",
      "Epoch 1:  93%|█████████▎| 1199/1285 [50:37<02:22,  1.66s/batch, batch_nb=1117, gpu=0, loss=1.015, v_nb=1]\n",
      "Epoch 1:  93%|█████████▎| 1200/1285 [50:38<02:20,  1.65s/batch, batch_nb=1117, gpu=0, loss=1.015, v_nb=1]\n",
      "Epoch 1:  93%|█████████▎| 1201/1285 [50:40<02:18,  1.64s/batch, batch_nb=1117, gpu=0, loss=1.015, v_nb=1]\n",
      "Epoch 1:  94%|█████████▎| 1202/1285 [50:42<02:17,  1.65s/batch, batch_nb=1117, gpu=0, loss=1.015, v_nb=1]\n",
      "Epoch 1:  94%|█████████▎| 1203/1285 [50:43<02:13,  1.63s/batch, batch_nb=1117, gpu=0, loss=1.015, v_nb=1]\n",
      "Epoch 1:  94%|█████████▎| 1204/1285 [50:45<02:14,  1.66s/batch, batch_nb=1117, gpu=0, loss=1.015, v_nb=1]\n",
      "Epoch 1:  94%|█████████▍| 1205/1285 [50:47<02:12,  1.66s/batch, batch_nb=1117, gpu=0, loss=1.015, v_nb=1]\n",
      "Epoch 1:  94%|█████████▍| 1206/1285 [50:49<02:19,  1.76s/batch, batch_nb=1117, gpu=0, loss=1.015, v_nb=1]\n",
      "Epoch 1:  94%|█████████▍| 1207/1285 [50:50<02:14,  1.73s/batch, batch_nb=1117, gpu=0, loss=1.015, v_nb=1]\n",
      "Epoch 1:  94%|█████████▍| 1208/1285 [50:52<02:10,  1.70s/batch, batch_nb=1117, gpu=0, loss=1.015, v_nb=1]\n",
      "Epoch 1:  94%|█████████▍| 1209/1285 [50:54<02:07,  1.68s/batch, batch_nb=1117, gpu=0, loss=1.015, v_nb=1]\n",
      "Epoch 1:  94%|█████████▍| 1210/1285 [50:55<02:07,  1.71s/batch, batch_nb=1117, gpu=0, loss=1.015, v_nb=1]\n",
      "Epoch 1:  94%|█████████▍| 1211/1285 [50:57<02:05,  1.70s/batch, batch_nb=1117, gpu=0, loss=1.015, v_nb=1]\n",
      "Epoch 1:  94%|█████████▍| 1212/1285 [50:59<02:03,  1.69s/batch, batch_nb=1117, gpu=0, loss=1.015, v_nb=1]\n",
      "Epoch 1:  94%|█████████▍| 1213/1285 [51:00<01:55,  1.60s/batch, batch_nb=1117, gpu=0, loss=1.015, v_nb=1]\n",
      "Epoch 1:  94%|█████████▍| 1214/1285 [51:02<01:50,  1.56s/batch, batch_nb=1117, gpu=0, loss=1.015, v_nb=1]\n",
      "Epoch 1:  95%|█████████▍| 1215/1285 [51:03<01:52,  1.61s/batch, batch_nb=1117, gpu=0, loss=1.015, v_nb=1]\n",
      "Epoch 1:  95%|█████████▍| 1216/1285 [51:05<01:57,  1.70s/batch, batch_nb=1117, gpu=0, loss=1.015, v_nb=1]\n",
      "Epoch 1:  95%|█████████▍| 1217/1285 [51:07<01:52,  1.66s/batch, batch_nb=1117, gpu=0, loss=1.015, v_nb=1]\n",
      "Epoch 1:  95%|█████████▍| 1218/1285 [51:08<01:51,  1.66s/batch, batch_nb=1117, gpu=0, loss=1.015, v_nb=1]\n",
      "Epoch 1:  95%|█████████▍| 1219/1285 [51:10<01:44,  1.58s/batch, batch_nb=1117, gpu=0, loss=1.015, v_nb=1]\n",
      "Epoch 1:  95%|█████████▍| 1220/1285 [51:12<01:45,  1.62s/batch, batch_nb=1117, gpu=0, loss=1.015, v_nb=1]\n",
      "Epoch 1:  95%|█████████▌| 1221/1285 [51:13<01:41,  1.58s/batch, batch_nb=1117, gpu=0, loss=1.015, v_nb=1]\n",
      "Epoch 1:  95%|█████████▌| 1222/1285 [51:15<01:41,  1.62s/batch, batch_nb=1117, gpu=0, loss=1.015, v_nb=1]\n",
      "Epoch 1:  95%|█████████▌| 1223/1285 [51:16<01:39,  1.60s/batch, batch_nb=1117, gpu=0, loss=1.015, v_nb=1]\n",
      "Epoch 1:  95%|█████████▌| 1224/1285 [51:18<01:37,  1.60s/batch, batch_nb=1117, gpu=0, loss=1.015, v_nb=1]\n",
      "Epoch 1:  95%|█████████▌| 1225/1285 [51:20<01:39,  1.66s/batch, batch_nb=1117, gpu=0, loss=1.015, v_nb=1]\n",
      "Epoch 1:  95%|█████████▌| 1226/1285 [51:21<01:36,  1.63s/batch, batch_nb=1117, gpu=0, loss=1.015, v_nb=1]\n",
      "Epoch 1:  95%|█████████▌| 1227/1285 [51:23<01:34,  1.64s/batch, batch_nb=1117, gpu=0, loss=1.015, v_nb=1]\n",
      "Epoch 1:  96%|█████████▌| 1228/1285 [51:25<01:33,  1.64s/batch, batch_nb=1117, gpu=0, loss=1.015, v_nb=1]\n",
      "Epoch 1:  96%|█████████▌| 1229/1285 [51:26<01:31,  1.64s/batch, batch_nb=1117, gpu=0, loss=1.015, v_nb=1]\n",
      "Epoch 1:  96%|█████████▌| 1230/1285 [51:28<01:34,  1.71s/batch, batch_nb=1117, gpu=0, loss=1.015, v_nb=1]\n",
      "Epoch 1:  96%|█████████▌| 1231/1285 [51:30<01:30,  1.68s/batch, batch_nb=1117, gpu=0, loss=1.015, v_nb=1]\n",
      "Epoch 1:  96%|█████████▌| 1232/1285 [51:32<01:33,  1.76s/batch, batch_nb=1117, gpu=0, loss=1.015, v_nb=1]\n",
      "Epoch 1:  96%|█████████▌| 1233/1285 [51:33<01:30,  1.75s/batch, batch_nb=1117, gpu=0, loss=1.015, v_nb=1]\n",
      "Epoch 1:  96%|█████████▌| 1234/1285 [51:35<01:27,  1.72s/batch, batch_nb=1117, gpu=0, loss=1.015, v_nb=1]\n",
      "Epoch 1:  96%|█████████▌| 1235/1285 [51:37<01:26,  1.72s/batch, batch_nb=1117, gpu=0, loss=1.015, v_nb=1]\n",
      "Epoch 1:  96%|█████████▌| 1236/1285 [51:38<01:21,  1.67s/batch, batch_nb=1117, gpu=0, loss=1.015, v_nb=1]\n",
      "Epoch 1:  96%|█████████▋| 1237/1285 [51:40<01:20,  1.67s/batch, batch_nb=1117, gpu=0, loss=1.015, v_nb=1]\n",
      "Epoch 1:  96%|█████████▋| 1238/1285 [51:42<01:18,  1.67s/batch, batch_nb=1117, gpu=0, loss=1.015, v_nb=1]\n",
      "Epoch 1:  96%|█████████▋| 1239/1285 [51:43<01:17,  1.69s/batch, batch_nb=1117, gpu=0, loss=1.015, v_nb=1]\n",
      "Epoch 1:  96%|█████████▋| 1240/1285 [51:45<01:19,  1.77s/batch, batch_nb=1117, gpu=0, loss=1.015, v_nb=1]\n",
      "Epoch 1:  97%|█████████▋| 1241/1285 [51:47<01:19,  1.80s/batch, batch_nb=1117, gpu=0, loss=1.015, v_nb=1]\n",
      "Epoch 1:  97%|█████████▋| 1242/1285 [51:49<01:15,  1.75s/batch, batch_nb=1117, gpu=0, loss=1.015, v_nb=1]\n",
      "Epoch 1:  97%|█████████▋| 1243/1285 [51:50<01:11,  1.71s/batch, batch_nb=1117, gpu=0, loss=1.015, v_nb=1]\n",
      "Epoch 1:  97%|█████████▋| 1244/1285 [51:52<01:10,  1.73s/batch, batch_nb=1117, gpu=0, loss=1.015, v_nb=1]\n",
      "Epoch 1:  97%|█████████▋| 1245/1285 [51:54<01:11,  1.79s/batch, batch_nb=1117, gpu=0, loss=1.015, v_nb=1]\n",
      "Epoch 1:  97%|█████████▋| 1246/1285 [51:56<01:06,  1.71s/batch, batch_nb=1117, gpu=0, loss=1.015, v_nb=1]\n",
      "Epoch 1:  97%|█████████▋| 1247/1285 [51:57<01:04,  1.71s/batch, batch_nb=1117, gpu=0, loss=1.015, v_nb=1]\n",
      "Epoch 1:  97%|█████████▋| 1248/1285 [52:00<01:12,  1.97s/batch, batch_nb=1117, gpu=0, loss=1.015, v_nb=1]\n",
      "Epoch 1:  97%|█████████▋| 1249/1285 [52:02<01:06,  1.85s/batch, batch_nb=1117, gpu=0, loss=1.015, v_nb=1]\n",
      "Epoch 1:  97%|█████████▋| 1250/1285 [52:03<01:04,  1.84s/batch, batch_nb=1117, gpu=0, loss=1.015, v_nb=1]\n",
      "Epoch 1:  97%|█████████▋| 1251/1285 [52:05<01:00,  1.78s/batch, batch_nb=1117, gpu=0, loss=1.015, v_nb=1]\n",
      "Epoch 1:  97%|█████████▋| 1252/1285 [52:07<00:56,  1.72s/batch, batch_nb=1117, gpu=0, loss=1.015, v_nb=1]\n",
      "Epoch 1:  98%|█████████▊| 1253/1285 [52:08<00:54,  1.71s/batch, batch_nb=1117, gpu=0, loss=1.015, v_nb=1]\n",
      "Epoch 1:  98%|█████████▊| 1254/1285 [52:10<00:52,  1.69s/batch, batch_nb=1117, gpu=0, loss=1.015, v_nb=1]\n",
      "Epoch 1:  98%|█████████▊| 1255/1285 [52:11<00:50,  1.67s/batch, batch_nb=1117, gpu=0, loss=1.015, v_nb=1]\n",
      "Epoch 1:  98%|█████████▊| 1256/1285 [52:13<00:49,  1.72s/batch, batch_nb=1117, gpu=0, loss=1.015, v_nb=1]\n",
      "Epoch 1:  98%|█████████▊| 1257/1285 [52:15<00:47,  1.70s/batch, batch_nb=1117, gpu=0, loss=1.015, v_nb=1]\n",
      "Epoch 1:  98%|█████████▊| 1258/1285 [52:17<00:46,  1.72s/batch, batch_nb=1117, gpu=0, loss=1.015, v_nb=1]\n",
      "Epoch 1:  98%|█████████▊| 1259/1285 [52:18<00:43,  1.67s/batch, batch_nb=1117, gpu=0, loss=1.015, v_nb=1]\n",
      "Epoch 1:  98%|█████████▊| 1260/1285 [52:20<00:42,  1.70s/batch, batch_nb=1117, gpu=0, loss=1.015, v_nb=1]\n",
      "Epoch 1:  98%|█████████▊| 1261/1285 [52:22<00:42,  1.75s/batch, batch_nb=1117, gpu=0, loss=1.015, v_nb=1]\n",
      "Epoch 1:  98%|█████████▊| 1262/1285 [52:24<00:40,  1.77s/batch, batch_nb=1117, gpu=0, loss=1.015, v_nb=1]\n",
      "Epoch 1:  98%|█████████▊| 1263/1285 [52:25<00:38,  1.73s/batch, batch_nb=1117, gpu=0, loss=1.015, v_nb=1]\n",
      "Epoch 1:  98%|█████████▊| 1264/1285 [52:27<00:34,  1.66s/batch, batch_nb=1117, gpu=0, loss=1.015, v_nb=1]\n",
      "Epoch 1:  98%|█████████▊| 1265/1285 [52:29<00:33,  1.68s/batch, batch_nb=1117, gpu=0, loss=1.015, v_nb=1]\n",
      "Epoch 1:  99%|█████████▊| 1266/1285 [52:30<00:31,  1.67s/batch, batch_nb=1117, gpu=0, loss=1.015, v_nb=1]\n",
      "Epoch 1:  99%|█████████▊| 1267/1285 [52:32<00:30,  1.68s/batch, batch_nb=1117, gpu=0, loss=1.015, v_nb=1]\n",
      "Epoch 1:  99%|█████████▊| 1268/1285 [52:34<00:28,  1.66s/batch, batch_nb=1117, gpu=0, loss=1.015, v_nb=1]\n",
      "Epoch 1:  99%|█████████▉| 1269/1285 [52:35<00:26,  1.65s/batch, batch_nb=1117, gpu=0, loss=1.015, v_nb=1]\n",
      "Epoch 1:  99%|█████████▉| 1270/1285 [52:37<00:24,  1.63s/batch, batch_nb=1117, gpu=0, loss=1.015, v_nb=1]\n"
     ]
    },
    {
     "name": "stderr",
     "output_type": "stream",
     "text": [
      "Epoch 1:  99%|█████████▉| 1271/1285 [52:38<00:22,  1.62s/batch, batch_nb=1117, gpu=0, loss=1.015, v_nb=1]\n",
      "Epoch 1:  99%|█████████▉| 1272/1285 [52:40<00:21,  1.64s/batch, batch_nb=1117, gpu=0, loss=1.015, v_nb=1]\n",
      "Epoch 1:  99%|█████████▉| 1273/1285 [52:42<00:20,  1.69s/batch, batch_nb=1117, gpu=0, loss=1.015, v_nb=1]\n",
      "Epoch 1:  99%|█████████▉| 1274/1285 [52:44<00:18,  1.69s/batch, batch_nb=1117, gpu=0, loss=1.015, v_nb=1]\n",
      "Epoch 1:  99%|█████████▉| 1275/1285 [52:45<00:16,  1.67s/batch, batch_nb=1117, gpu=0, loss=1.015, v_nb=1]\n",
      "Epoch 1:  99%|█████████▉| 1276/1285 [52:47<00:14,  1.66s/batch, batch_nb=1117, gpu=0, loss=1.015, v_nb=1]\n",
      "Epoch 1:  99%|█████████▉| 1277/1285 [52:49<00:13,  1.67s/batch, batch_nb=1117, gpu=0, loss=1.015, v_nb=1]\n",
      "Epoch 1:  99%|█████████▉| 1278/1285 [52:50<00:11,  1.71s/batch, batch_nb=1117, gpu=0, loss=1.015, v_nb=1]\n",
      "Epoch 1: 100%|█████████▉| 1279/1285 [52:52<00:10,  1.78s/batch, batch_nb=1117, gpu=0, loss=1.015, v_nb=1]\n",
      "Epoch 1: 100%|█████████▉| 1280/1285 [52:54<00:08,  1.72s/batch, batch_nb=1117, gpu=0, loss=1.015, v_nb=1]\n",
      "Epoch 1: 100%|█████████▉| 1281/1285 [52:56<00:07,  1.83s/batch, batch_nb=1117, gpu=0, loss=1.015, v_nb=1]\n",
      "Epoch 1: 100%|█████████▉| 1282/1285 [52:58<00:05,  1.79s/batch, batch_nb=1117, gpu=0, loss=1.015, v_nb=1]\n",
      "Epoch 1: 100%|█████████▉| 1283/1285 [52:59<00:03,  1.75s/batch, batch_nb=1117, gpu=0, loss=1.015, v_nb=1]\n",
      "Epoch 1: 100%|█████████▉| 1284/1285 [53:01<00:01,  1.71s/batch, batch_nb=1117, gpu=0, loss=1.015, v_nb=1]\n",
      "Epoch 1: 100%|██████████| 1285/1285 [53:03<00:00,  1.71s/batch, batch_nb=1117, gpu=0, loss=1.015, v_nb=1]\n",
      "                                                                \u001b[A/home/rahul/anaconda3/lib/python3.7/site-packages/torch/optim/lr_scheduler.py:91: UserWarning: Seems like `optimizer.step()` has been overridden after learning rate scheduler initialization. Please, make sure to call `optimizer.step()` before `lr_scheduler.step()`. See more details at https://pytorch.org/docs/stable/optim.html#how-to-adjust-learning-rate\n",
      "  \"https://pytorch.org/docs/stable/optim.html#how-to-adjust-learning-rate\", UserWarning)\n",
      "Epoch 2:  87%|████████▋ | 1118/1285 [48:30<06:07,  2.20s/batch, batch_nb=1117, gpu=0, loss=0.727, v_nb=1]\n",
      "Validating:   0%|          | 0/167 [00:00<?, ?batch/s]\u001b[A\n",
      "Epoch 2:  87%|████████▋ | 1119/1285 [48:32<05:40,  2.05s/batch, batch_nb=1117, gpu=0, loss=0.727, v_nb=1]\n",
      "Epoch 2:  87%|████████▋ | 1120/1285 [48:34<05:20,  1.94s/batch, batch_nb=1117, gpu=0, loss=0.727, v_nb=1]\n",
      "Epoch 2:  87%|████████▋ | 1121/1285 [48:35<05:01,  1.84s/batch, batch_nb=1117, gpu=0, loss=0.727, v_nb=1]\n",
      "Epoch 2:  87%|████████▋ | 1122/1285 [48:37<04:46,  1.76s/batch, batch_nb=1117, gpu=0, loss=0.727, v_nb=1]\n",
      "Epoch 2:  87%|████████▋ | 1123/1285 [48:39<04:44,  1.76s/batch, batch_nb=1117, gpu=0, loss=0.727, v_nb=1]\n",
      "Epoch 2:  87%|████████▋ | 1124/1285 [48:40<04:30,  1.68s/batch, batch_nb=1117, gpu=0, loss=0.727, v_nb=1]\n",
      "Epoch 2:  88%|████████▊ | 1125/1285 [48:42<04:30,  1.69s/batch, batch_nb=1117, gpu=0, loss=0.727, v_nb=1]\n",
      "Epoch 2:  88%|████████▊ | 1126/1285 [48:44<04:33,  1.72s/batch, batch_nb=1117, gpu=0, loss=0.727, v_nb=1]\n",
      "Epoch 2:  88%|████████▊ | 1127/1285 [48:45<04:32,  1.73s/batch, batch_nb=1117, gpu=0, loss=0.727, v_nb=1]\n",
      "Epoch 2:  88%|████████▊ | 1128/1285 [48:47<04:26,  1.70s/batch, batch_nb=1117, gpu=0, loss=0.727, v_nb=1]\n",
      "Epoch 2:  88%|████████▊ | 1129/1285 [48:49<04:24,  1.70s/batch, batch_nb=1117, gpu=0, loss=0.727, v_nb=1]\n",
      "Epoch 2:  88%|████████▊ | 1130/1285 [48:51<04:27,  1.72s/batch, batch_nb=1117, gpu=0, loss=0.727, v_nb=1]\n",
      "Epoch 2:  88%|████████▊ | 1131/1285 [48:52<04:21,  1.70s/batch, batch_nb=1117, gpu=0, loss=0.727, v_nb=1]\n",
      "Epoch 2:  88%|████████▊ | 1132/1285 [48:54<04:12,  1.65s/batch, batch_nb=1117, gpu=0, loss=0.727, v_nb=1]\n",
      "Epoch 2:  88%|████████▊ | 1133/1285 [48:56<04:29,  1.77s/batch, batch_nb=1117, gpu=0, loss=0.727, v_nb=1]\n",
      "Epoch 2:  88%|████████▊ | 1134/1285 [48:57<04:21,  1.73s/batch, batch_nb=1117, gpu=0, loss=0.727, v_nb=1]\n",
      "Epoch 2:  88%|████████▊ | 1135/1285 [48:59<04:21,  1.74s/batch, batch_nb=1117, gpu=0, loss=0.727, v_nb=1]\n",
      "Epoch 2:  88%|████████▊ | 1136/1285 [49:01<04:24,  1.78s/batch, batch_nb=1117, gpu=0, loss=0.727, v_nb=1]\n",
      "Epoch 2:  88%|████████▊ | 1137/1285 [49:03<04:32,  1.84s/batch, batch_nb=1117, gpu=0, loss=0.727, v_nb=1]\n",
      "Epoch 2:  89%|████████▊ | 1138/1285 [49:05<04:26,  1.81s/batch, batch_nb=1117, gpu=0, loss=0.727, v_nb=1]\n",
      "Epoch 2:  89%|████████▊ | 1139/1285 [49:06<04:16,  1.76s/batch, batch_nb=1117, gpu=0, loss=0.727, v_nb=1]\n",
      "Epoch 2:  89%|████████▊ | 1140/1285 [49:08<04:10,  1.73s/batch, batch_nb=1117, gpu=0, loss=0.727, v_nb=1]\n",
      "Epoch 2:  89%|████████▉ | 1141/1285 [49:10<03:58,  1.65s/batch, batch_nb=1117, gpu=0, loss=0.727, v_nb=1]\n",
      "Epoch 2:  89%|████████▉ | 1142/1285 [49:11<03:59,  1.67s/batch, batch_nb=1117, gpu=0, loss=0.727, v_nb=1]\n",
      "Epoch 2:  89%|████████▉ | 1143/1285 [49:13<04:10,  1.77s/batch, batch_nb=1117, gpu=0, loss=0.727, v_nb=1]\n",
      "Epoch 2:  89%|████████▉ | 1144/1285 [49:15<03:54,  1.66s/batch, batch_nb=1117, gpu=0, loss=0.727, v_nb=1]\n",
      "Epoch 2:  89%|████████▉ | 1145/1285 [49:16<03:55,  1.69s/batch, batch_nb=1117, gpu=0, loss=0.727, v_nb=1]\n",
      "Epoch 2:  89%|████████▉ | 1146/1285 [49:18<03:53,  1.68s/batch, batch_nb=1117, gpu=0, loss=0.727, v_nb=1]\n",
      "Epoch 2:  89%|████████▉ | 1147/1285 [49:20<03:52,  1.69s/batch, batch_nb=1117, gpu=0, loss=0.727, v_nb=1]\n",
      "Epoch 2:  89%|████████▉ | 1148/1285 [49:21<03:48,  1.67s/batch, batch_nb=1117, gpu=0, loss=0.727, v_nb=1]\n",
      "Epoch 2:  89%|████████▉ | 1149/1285 [49:23<03:41,  1.63s/batch, batch_nb=1117, gpu=0, loss=0.727, v_nb=1]\n",
      "Epoch 2:  89%|████████▉ | 1150/1285 [49:25<03:38,  1.62s/batch, batch_nb=1117, gpu=0, loss=0.727, v_nb=1]\n",
      "Epoch 2:  90%|████████▉ | 1151/1285 [49:26<03:33,  1.59s/batch, batch_nb=1117, gpu=0, loss=0.727, v_nb=1]\n",
      "Epoch 2:  90%|████████▉ | 1152/1285 [49:28<03:35,  1.62s/batch, batch_nb=1117, gpu=0, loss=0.727, v_nb=1]\n",
      "Epoch 2:  90%|████████▉ | 1153/1285 [49:29<03:34,  1.62s/batch, batch_nb=1117, gpu=0, loss=0.727, v_nb=1]\n",
      "Epoch 2:  90%|████████▉ | 1154/1285 [49:31<03:37,  1.66s/batch, batch_nb=1117, gpu=0, loss=0.727, v_nb=1]\n",
      "Epoch 2:  90%|████████▉ | 1155/1285 [49:33<03:30,  1.62s/batch, batch_nb=1117, gpu=0, loss=0.727, v_nb=1]\n",
      "Epoch 2:  90%|████████▉ | 1156/1285 [49:34<03:28,  1.61s/batch, batch_nb=1117, gpu=0, loss=0.727, v_nb=1]\n",
      "Epoch 2:  90%|█████████ | 1157/1285 [49:36<03:22,  1.58s/batch, batch_nb=1117, gpu=0, loss=0.727, v_nb=1]\n",
      "Epoch 2:  90%|█████████ | 1158/1285 [49:37<03:24,  1.61s/batch, batch_nb=1117, gpu=0, loss=0.727, v_nb=1]\n",
      "Epoch 2:  90%|█████████ | 1159/1285 [49:39<03:21,  1.60s/batch, batch_nb=1117, gpu=0, loss=0.727, v_nb=1]\n",
      "Epoch 2:  90%|█████████ | 1160/1285 [49:41<03:27,  1.66s/batch, batch_nb=1117, gpu=0, loss=0.727, v_nb=1]\n",
      "Epoch 2:  90%|█████████ | 1161/1285 [49:43<03:28,  1.69s/batch, batch_nb=1117, gpu=0, loss=0.727, v_nb=1]\n",
      "Epoch 2:  90%|█████████ | 1162/1285 [49:44<03:28,  1.70s/batch, batch_nb=1117, gpu=0, loss=0.727, v_nb=1]\n",
      "Epoch 2:  91%|█████████ | 1163/1285 [49:46<03:21,  1.65s/batch, batch_nb=1117, gpu=0, loss=0.727, v_nb=1]\n",
      "Epoch 2:  91%|█████████ | 1164/1285 [49:47<03:17,  1.63s/batch, batch_nb=1117, gpu=0, loss=0.727, v_nb=1]\n",
      "Epoch 2:  91%|█████████ | 1165/1285 [49:49<03:16,  1.63s/batch, batch_nb=1117, gpu=0, loss=0.727, v_nb=1]\n",
      "Epoch 2:  91%|█████████ | 1166/1285 [49:51<03:10,  1.60s/batch, batch_nb=1117, gpu=0, loss=0.727, v_nb=1]\n",
      "Epoch 2:  91%|█████████ | 1167/1285 [49:52<03:06,  1.58s/batch, batch_nb=1117, gpu=0, loss=0.727, v_nb=1]\n",
      "Epoch 2:  91%|█████████ | 1168/1285 [49:54<03:10,  1.62s/batch, batch_nb=1117, gpu=0, loss=0.727, v_nb=1]\n",
      "Epoch 2:  91%|█████████ | 1169/1285 [49:55<03:06,  1.61s/batch, batch_nb=1117, gpu=0, loss=0.727, v_nb=1]\n",
      "Epoch 2:  91%|█████████ | 1170/1285 [49:57<03:09,  1.65s/batch, batch_nb=1117, gpu=0, loss=0.727, v_nb=1]\n",
      "Epoch 2:  91%|█████████ | 1171/1285 [49:59<03:07,  1.65s/batch, batch_nb=1117, gpu=0, loss=0.727, v_nb=1]\n",
      "Epoch 2:  91%|█████████ | 1172/1285 [50:00<03:07,  1.66s/batch, batch_nb=1117, gpu=0, loss=0.727, v_nb=1]\n",
      "Epoch 2:  91%|█████████▏| 1173/1285 [50:02<03:06,  1.67s/batch, batch_nb=1117, gpu=0, loss=0.727, v_nb=1]\n"
     ]
    },
    {
     "name": "stderr",
     "output_type": "stream",
     "text": [
      "Epoch 2:  91%|█████████▏| 1174/1285 [50:04<03:02,  1.64s/batch, batch_nb=1117, gpu=0, loss=0.727, v_nb=1]\n",
      "Epoch 2:  91%|█████████▏| 1175/1285 [50:05<03:02,  1.66s/batch, batch_nb=1117, gpu=0, loss=0.727, v_nb=1]\n",
      "Epoch 2:  92%|█████████▏| 1176/1285 [50:07<03:01,  1.67s/batch, batch_nb=1117, gpu=0, loss=0.727, v_nb=1]\n",
      "Epoch 2:  92%|█████████▏| 1177/1285 [50:09<02:55,  1.62s/batch, batch_nb=1117, gpu=0, loss=0.727, v_nb=1]\n",
      "Epoch 2:  92%|█████████▏| 1178/1285 [50:10<02:58,  1.67s/batch, batch_nb=1117, gpu=0, loss=0.727, v_nb=1]\n",
      "Epoch 2:  92%|█████████▏| 1179/1285 [50:12<02:58,  1.68s/batch, batch_nb=1117, gpu=0, loss=0.727, v_nb=1]\n",
      "Epoch 2:  92%|█████████▏| 1180/1285 [50:14<02:53,  1.65s/batch, batch_nb=1117, gpu=0, loss=0.727, v_nb=1]\n",
      "Epoch 2:  92%|█████████▏| 1181/1285 [50:16<02:59,  1.73s/batch, batch_nb=1117, gpu=0, loss=0.727, v_nb=1]\n",
      "Epoch 2:  92%|█████████▏| 1182/1285 [50:17<02:54,  1.69s/batch, batch_nb=1117, gpu=0, loss=0.727, v_nb=1]\n",
      "Epoch 2:  92%|█████████▏| 1183/1285 [50:19<02:47,  1.64s/batch, batch_nb=1117, gpu=0, loss=0.727, v_nb=1]\n",
      "Epoch 2:  92%|█████████▏| 1184/1285 [50:20<02:44,  1.63s/batch, batch_nb=1117, gpu=0, loss=0.727, v_nb=1]\n",
      "Epoch 2:  92%|█████████▏| 1185/1285 [50:22<02:45,  1.66s/batch, batch_nb=1117, gpu=0, loss=0.727, v_nb=1]\n",
      "Epoch 2:  92%|█████████▏| 1186/1285 [50:24<02:45,  1.67s/batch, batch_nb=1117, gpu=0, loss=0.727, v_nb=1]\n",
      "Epoch 2:  92%|█████████▏| 1187/1285 [50:26<02:44,  1.68s/batch, batch_nb=1117, gpu=0, loss=0.727, v_nb=1]\n",
      "Epoch 2:  92%|█████████▏| 1188/1285 [50:27<02:44,  1.69s/batch, batch_nb=1117, gpu=0, loss=0.727, v_nb=1]\n",
      "Epoch 2:  93%|█████████▎| 1189/1285 [50:29<02:45,  1.72s/batch, batch_nb=1117, gpu=0, loss=0.727, v_nb=1]\n",
      "Epoch 2:  93%|█████████▎| 1190/1285 [50:31<02:41,  1.69s/batch, batch_nb=1117, gpu=0, loss=0.727, v_nb=1]\n",
      "Epoch 2:  93%|█████████▎| 1191/1285 [50:32<02:33,  1.64s/batch, batch_nb=1117, gpu=0, loss=0.727, v_nb=1]\n",
      "Epoch 2:  93%|█████████▎| 1192/1285 [50:34<02:31,  1.63s/batch, batch_nb=1117, gpu=0, loss=0.727, v_nb=1]\n",
      "Epoch 2:  93%|█████████▎| 1193/1285 [50:35<02:30,  1.63s/batch, batch_nb=1117, gpu=0, loss=0.727, v_nb=1]\n",
      "Epoch 2:  93%|█████████▎| 1194/1285 [50:37<02:28,  1.63s/batch, batch_nb=1117, gpu=0, loss=0.727, v_nb=1]\n",
      "Epoch 2:  93%|█████████▎| 1195/1285 [50:39<02:32,  1.69s/batch, batch_nb=1117, gpu=0, loss=0.727, v_nb=1]\n",
      "Epoch 2:  93%|█████████▎| 1196/1285 [50:41<02:32,  1.71s/batch, batch_nb=1117, gpu=0, loss=0.727, v_nb=1]\n",
      "Epoch 2:  93%|█████████▎| 1197/1285 [50:42<02:28,  1.69s/batch, batch_nb=1117, gpu=0, loss=0.727, v_nb=1]\n",
      "Epoch 2:  93%|█████████▎| 1198/1285 [50:44<02:29,  1.72s/batch, batch_nb=1117, gpu=0, loss=0.727, v_nb=1]\n",
      "Epoch 2:  93%|█████████▎| 1199/1285 [50:46<02:42,  1.89s/batch, batch_nb=1117, gpu=0, loss=0.727, v_nb=1]\n",
      "Epoch 2:  93%|█████████▎| 1200/1285 [50:48<02:40,  1.89s/batch, batch_nb=1117, gpu=0, loss=0.727, v_nb=1]\n",
      "Epoch 2:  93%|█████████▎| 1201/1285 [50:50<02:30,  1.79s/batch, batch_nb=1117, gpu=0, loss=0.727, v_nb=1]\n",
      "Epoch 2:  94%|█████████▎| 1202/1285 [50:51<02:24,  1.74s/batch, batch_nb=1117, gpu=0, loss=0.727, v_nb=1]\n",
      "Epoch 2:  94%|█████████▎| 1203/1285 [50:53<02:24,  1.76s/batch, batch_nb=1117, gpu=0, loss=0.727, v_nb=1]\n",
      "Epoch 2:  94%|█████████▎| 1204/1285 [50:55<02:14,  1.66s/batch, batch_nb=1117, gpu=0, loss=0.727, v_nb=1]\n",
      "Epoch 2:  94%|█████████▍| 1205/1285 [50:56<02:12,  1.66s/batch, batch_nb=1117, gpu=0, loss=0.727, v_nb=1]\n",
      "Epoch 2:  94%|█████████▍| 1206/1285 [50:58<02:18,  1.76s/batch, batch_nb=1117, gpu=0, loss=0.727, v_nb=1]\n",
      "Epoch 2:  94%|█████████▍| 1207/1285 [51:00<02:13,  1.72s/batch, batch_nb=1117, gpu=0, loss=0.727, v_nb=1]\n",
      "Epoch 2:  94%|█████████▍| 1208/1285 [51:02<02:14,  1.75s/batch, batch_nb=1117, gpu=0, loss=0.727, v_nb=1]\n",
      "Epoch 2:  94%|█████████▍| 1209/1285 [51:03<02:13,  1.76s/batch, batch_nb=1117, gpu=0, loss=0.727, v_nb=1]\n",
      "Epoch 2:  94%|█████████▍| 1210/1285 [51:05<02:09,  1.73s/batch, batch_nb=1117, gpu=0, loss=0.727, v_nb=1]\n",
      "Epoch 2:  94%|█████████▍| 1211/1285 [51:07<02:05,  1.69s/batch, batch_nb=1117, gpu=0, loss=0.727, v_nb=1]\n",
      "Epoch 2:  94%|█████████▍| 1212/1285 [51:08<02:00,  1.65s/batch, batch_nb=1117, gpu=0, loss=0.727, v_nb=1]\n",
      "Epoch 2:  94%|█████████▍| 1213/1285 [51:10<02:00,  1.68s/batch, batch_nb=1117, gpu=0, loss=0.727, v_nb=1]\n",
      "Epoch 2:  94%|█████████▍| 1214/1285 [51:12<01:57,  1.66s/batch, batch_nb=1117, gpu=0, loss=0.727, v_nb=1]\n",
      "Epoch 2:  95%|█████████▍| 1215/1285 [51:13<01:56,  1.66s/batch, batch_nb=1117, gpu=0, loss=0.727, v_nb=1]\n",
      "Epoch 2:  95%|█████████▍| 1216/1285 [51:15<01:52,  1.64s/batch, batch_nb=1117, gpu=0, loss=0.727, v_nb=1]\n",
      "Epoch 2:  95%|█████████▍| 1217/1285 [51:17<01:52,  1.66s/batch, batch_nb=1117, gpu=0, loss=0.727, v_nb=1]\n",
      "Epoch 2:  95%|█████████▍| 1218/1285 [51:18<01:51,  1.67s/batch, batch_nb=1117, gpu=0, loss=0.727, v_nb=1]\n",
      "Epoch 2:  95%|█████████▍| 1219/1285 [51:20<01:49,  1.66s/batch, batch_nb=1117, gpu=0, loss=0.727, v_nb=1]\n",
      "Epoch 2:  95%|█████████▍| 1220/1285 [51:22<01:51,  1.71s/batch, batch_nb=1117, gpu=0, loss=0.727, v_nb=1]\n",
      "Epoch 2:  95%|█████████▌| 1221/1285 [51:23<01:48,  1.69s/batch, batch_nb=1117, gpu=0, loss=0.727, v_nb=1]\n",
      "Epoch 2:  95%|█████████▌| 1222/1285 [51:25<01:44,  1.66s/batch, batch_nb=1117, gpu=0, loss=0.727, v_nb=1]\n",
      "Epoch 2:  95%|█████████▌| 1223/1285 [51:27<01:40,  1.61s/batch, batch_nb=1117, gpu=0, loss=0.727, v_nb=1]\n",
      "Epoch 2:  95%|█████████▌| 1224/1285 [51:28<01:42,  1.68s/batch, batch_nb=1117, gpu=0, loss=0.727, v_nb=1]\n",
      "Epoch 2:  95%|█████████▌| 1225/1285 [51:30<01:41,  1.69s/batch, batch_nb=1117, gpu=0, loss=0.727, v_nb=1]\n",
      "Epoch 2:  95%|█████████▌| 1226/1285 [51:32<01:39,  1.69s/batch, batch_nb=1117, gpu=0, loss=0.727, v_nb=1]\n",
      "Epoch 2:  95%|█████████▌| 1227/1285 [51:33<01:36,  1.66s/batch, batch_nb=1117, gpu=0, loss=0.727, v_nb=1]\n",
      "Epoch 2:  96%|█████████▌| 1228/1285 [51:35<01:36,  1.69s/batch, batch_nb=1117, gpu=0, loss=0.727, v_nb=1]\n",
      "Epoch 2:  96%|█████████▌| 1229/1285 [51:37<01:36,  1.73s/batch, batch_nb=1117, gpu=0, loss=0.727, v_nb=1]\n",
      "Epoch 2:  96%|█████████▌| 1230/1285 [51:39<01:33,  1.71s/batch, batch_nb=1117, gpu=0, loss=0.727, v_nb=1]\n",
      "Epoch 2:  96%|█████████▌| 1231/1285 [51:40<01:31,  1.69s/batch, batch_nb=1117, gpu=0, loss=0.727, v_nb=1]\n",
      "Epoch 2:  96%|█████████▌| 1232/1285 [51:42<01:30,  1.70s/batch, batch_nb=1117, gpu=0, loss=0.727, v_nb=1]\n",
      "Epoch 2:  96%|█████████▌| 1233/1285 [51:44<01:27,  1.69s/batch, batch_nb=1117, gpu=0, loss=0.727, v_nb=1]\n",
      "Epoch 2:  96%|█████████▌| 1234/1285 [51:45<01:27,  1.72s/batch, batch_nb=1117, gpu=0, loss=0.727, v_nb=1]\n",
      "Epoch 2:  96%|█████████▌| 1235/1285 [51:47<01:26,  1.73s/batch, batch_nb=1117, gpu=0, loss=0.727, v_nb=1]\n",
      "Epoch 2:  96%|█████████▌| 1236/1285 [51:49<01:23,  1.71s/batch, batch_nb=1117, gpu=0, loss=0.727, v_nb=1]\n",
      "Epoch 2:  96%|█████████▋| 1237/1285 [51:51<01:23,  1.75s/batch, batch_nb=1117, gpu=0, loss=0.727, v_nb=1]\n",
      "Epoch 2:  96%|█████████▋| 1238/1285 [51:53<01:23,  1.78s/batch, batch_nb=1117, gpu=0, loss=0.727, v_nb=1]\n",
      "Epoch 2:  96%|█████████▋| 1239/1285 [51:54<01:20,  1.75s/batch, batch_nb=1117, gpu=0, loss=0.727, v_nb=1]\n",
      "Epoch 2:  96%|█████████▋| 1240/1285 [51:56<01:18,  1.74s/batch, batch_nb=1117, gpu=0, loss=0.727, v_nb=1]\n",
      "Epoch 2:  97%|█████████▋| 1241/1285 [51:58<01:15,  1.72s/batch, batch_nb=1117, gpu=0, loss=0.727, v_nb=1]\n",
      "Epoch 2:  97%|█████████▋| 1242/1285 [51:59<01:11,  1.67s/batch, batch_nb=1117, gpu=0, loss=0.727, v_nb=1]\n",
      "Epoch 2:  97%|█████████▋| 1243/1285 [52:01<01:08,  1.63s/batch, batch_nb=1117, gpu=0, loss=0.727, v_nb=1]\n",
      "Epoch 2:  97%|█████████▋| 1244/1285 [52:02<01:06,  1.63s/batch, batch_nb=1117, gpu=0, loss=0.727, v_nb=1]\n",
      "Epoch 2:  97%|█████████▋| 1245/1285 [52:04<01:05,  1.64s/batch, batch_nb=1117, gpu=0, loss=0.727, v_nb=1]\n",
      "Epoch 2:  97%|█████████▋| 1246/1285 [52:06<01:04,  1.66s/batch, batch_nb=1117, gpu=0, loss=0.727, v_nb=1]\n",
      "Epoch 2:  97%|█████████▋| 1247/1285 [52:07<01:02,  1.64s/batch, batch_nb=1117, gpu=0, loss=0.727, v_nb=1]\n",
      "Epoch 2:  97%|█████████▋| 1248/1285 [52:09<01:02,  1.69s/batch, batch_nb=1117, gpu=0, loss=0.727, v_nb=1]\n",
      "Epoch 2:  97%|█████████▋| 1249/1285 [52:11<01:00,  1.69s/batch, batch_nb=1117, gpu=0, loss=0.727, v_nb=1]\n",
      "Epoch 2:  97%|█████████▋| 1250/1285 [52:13<01:01,  1.76s/batch, batch_nb=1117, gpu=0, loss=0.727, v_nb=1]\n"
     ]
    },
    {
     "name": "stderr",
     "output_type": "stream",
     "text": [
      "Epoch 2:  97%|█████████▋| 1251/1285 [52:14<00:58,  1.73s/batch, batch_nb=1117, gpu=0, loss=0.727, v_nb=1]\n",
      "Epoch 2:  97%|█████████▋| 1252/1285 [52:16<00:56,  1.70s/batch, batch_nb=1117, gpu=0, loss=0.727, v_nb=1]\n",
      "Epoch 2:  98%|█████████▊| 1253/1285 [52:18<00:53,  1.67s/batch, batch_nb=1117, gpu=0, loss=0.727, v_nb=1]\n",
      "Epoch 2:  98%|█████████▊| 1254/1285 [52:19<00:50,  1.64s/batch, batch_nb=1117, gpu=0, loss=0.727, v_nb=1]\n",
      "Epoch 2:  98%|█████████▊| 1255/1285 [52:21<00:48,  1.62s/batch, batch_nb=1117, gpu=0, loss=0.727, v_nb=1]\n",
      "Epoch 2:  98%|█████████▊| 1256/1285 [52:22<00:46,  1.61s/batch, batch_nb=1117, gpu=0, loss=0.727, v_nb=1]\n",
      "Epoch 2:  98%|█████████▊| 1257/1285 [52:24<00:44,  1.58s/batch, batch_nb=1117, gpu=0, loss=0.727, v_nb=1]\n",
      "Epoch 2:  98%|█████████▊| 1258/1285 [52:25<00:42,  1.58s/batch, batch_nb=1117, gpu=0, loss=0.727, v_nb=1]\n",
      "Epoch 2:  98%|█████████▊| 1259/1285 [52:27<00:41,  1.61s/batch, batch_nb=1117, gpu=0, loss=0.727, v_nb=1]\n",
      "Epoch 2:  98%|█████████▊| 1260/1285 [52:29<00:42,  1.70s/batch, batch_nb=1117, gpu=0, loss=0.727, v_nb=1]\n",
      "Epoch 2:  98%|█████████▊| 1261/1285 [52:31<00:40,  1.67s/batch, batch_nb=1117, gpu=0, loss=0.727, v_nb=1]\n",
      "Epoch 2:  98%|█████████▊| 1262/1285 [52:32<00:39,  1.70s/batch, batch_nb=1117, gpu=0, loss=0.727, v_nb=1]\n",
      "Epoch 2:  98%|█████████▊| 1263/1285 [52:34<00:38,  1.73s/batch, batch_nb=1117, gpu=0, loss=0.727, v_nb=1]\n",
      "Epoch 2:  98%|█████████▊| 1264/1285 [52:36<00:35,  1.71s/batch, batch_nb=1117, gpu=0, loss=0.727, v_nb=1]\n",
      "Epoch 2:  98%|█████████▊| 1265/1285 [52:38<00:34,  1.70s/batch, batch_nb=1117, gpu=0, loss=0.727, v_nb=1]\n",
      "Epoch 2:  99%|█████████▊| 1266/1285 [52:39<00:31,  1.65s/batch, batch_nb=1117, gpu=0, loss=0.727, v_nb=1]\n",
      "Epoch 2:  99%|█████████▊| 1267/1285 [52:41<00:29,  1.62s/batch, batch_nb=1117, gpu=0, loss=0.727, v_nb=1]\n",
      "Epoch 2:  99%|█████████▊| 1268/1285 [52:42<00:27,  1.63s/batch, batch_nb=1117, gpu=0, loss=0.727, v_nb=1]\n",
      "Epoch 2:  99%|█████████▉| 1269/1285 [52:44<00:25,  1.60s/batch, batch_nb=1117, gpu=0, loss=0.727, v_nb=1]\n",
      "Epoch 2:  99%|█████████▉| 1270/1285 [52:45<00:23,  1.59s/batch, batch_nb=1117, gpu=0, loss=0.727, v_nb=1]\n",
      "Epoch 2:  99%|█████████▉| 1271/1285 [52:47<00:23,  1.66s/batch, batch_nb=1117, gpu=0, loss=0.727, v_nb=1]\n",
      "Epoch 2:  99%|█████████▉| 1272/1285 [52:49<00:20,  1.61s/batch, batch_nb=1117, gpu=0, loss=0.727, v_nb=1]\n",
      "Epoch 2:  99%|█████████▉| 1273/1285 [52:50<00:19,  1.60s/batch, batch_nb=1117, gpu=0, loss=0.727, v_nb=1]\n",
      "Epoch 2:  99%|█████████▉| 1274/1285 [52:52<00:17,  1.63s/batch, batch_nb=1117, gpu=0, loss=0.727, v_nb=1]\n",
      "Epoch 2:  99%|█████████▉| 1275/1285 [52:54<00:16,  1.66s/batch, batch_nb=1117, gpu=0, loss=0.727, v_nb=1]\n",
      "Epoch 2:  99%|█████████▉| 1276/1285 [52:55<00:14,  1.62s/batch, batch_nb=1117, gpu=0, loss=0.727, v_nb=1]\n",
      "Epoch 2:  99%|█████████▉| 1277/1285 [52:57<00:13,  1.65s/batch, batch_nb=1117, gpu=0, loss=0.727, v_nb=1]\n",
      "Epoch 2:  99%|█████████▉| 1278/1285 [52:59<00:11,  1.67s/batch, batch_nb=1117, gpu=0, loss=0.727, v_nb=1]\n",
      "Epoch 2: 100%|█████████▉| 1279/1285 [53:00<00:09,  1.65s/batch, batch_nb=1117, gpu=0, loss=0.727, v_nb=1]\n",
      "Epoch 2: 100%|█████████▉| 1280/1285 [53:02<00:08,  1.66s/batch, batch_nb=1117, gpu=0, loss=0.727, v_nb=1]\n",
      "Epoch 2: 100%|█████████▉| 1281/1285 [53:04<00:06,  1.66s/batch, batch_nb=1117, gpu=0, loss=0.727, v_nb=1]\n",
      "Epoch 2: 100%|█████████▉| 1282/1285 [53:05<00:05,  1.68s/batch, batch_nb=1117, gpu=0, loss=0.727, v_nb=1]\n",
      "Epoch 2: 100%|█████████▉| 1283/1285 [53:07<00:03,  1.73s/batch, batch_nb=1117, gpu=0, loss=0.727, v_nb=1]\n",
      "Epoch 2: 100%|█████████▉| 1284/1285 [53:09<00:01,  1.69s/batch, batch_nb=1117, gpu=0, loss=0.727, v_nb=1]\n",
      "Epoch 2: 100%|██████████| 1285/1285 [53:11<00:00,  1.70s/batch, batch_nb=1117, gpu=0, loss=0.727, v_nb=1]\n",
      "Epoch 3:  87%|████████▋ | 1118/1285 [48:53<06:30,  2.34s/batch, batch_nb=1117, gpu=0, loss=0.704, v_nb=1]\n",
      "Validating:   0%|          | 0/167 [00:00<?, ?batch/s]\u001b[A\n",
      "Epoch 3:  87%|████████▋ | 1119/1285 [48:54<05:53,  2.13s/batch, batch_nb=1117, gpu=0, loss=0.704, v_nb=1]\n",
      "Epoch 3:  87%|████████▋ | 1120/1285 [48:56<05:32,  2.01s/batch, batch_nb=1117, gpu=0, loss=0.704, v_nb=1]\n",
      "Epoch 3:  87%|████████▋ | 1121/1285 [48:58<05:16,  1.93s/batch, batch_nb=1117, gpu=0, loss=0.704, v_nb=1]\n",
      "Epoch 3:  87%|████████▋ | 1122/1285 [48:59<05:05,  1.87s/batch, batch_nb=1117, gpu=0, loss=0.704, v_nb=1]\n",
      "Epoch 3:  87%|████████▋ | 1123/1285 [49:01<04:55,  1.82s/batch, batch_nb=1117, gpu=0, loss=0.704, v_nb=1]\n",
      "Epoch 3:  87%|████████▋ | 1124/1285 [49:03<04:48,  1.79s/batch, batch_nb=1117, gpu=0, loss=0.704, v_nb=1]\n",
      "Epoch 3:  88%|████████▊ | 1125/1285 [49:04<04:38,  1.74s/batch, batch_nb=1117, gpu=0, loss=0.704, v_nb=1]\n",
      "Epoch 3:  88%|████████▊ | 1126/1285 [49:06<04:38,  1.75s/batch, batch_nb=1117, gpu=0, loss=0.704, v_nb=1]\n",
      "Epoch 3:  88%|████████▊ | 1127/1285 [49:08<04:26,  1.68s/batch, batch_nb=1117, gpu=0, loss=0.704, v_nb=1]\n",
      "Epoch 3:  88%|████████▊ | 1128/1285 [49:09<04:21,  1.66s/batch, batch_nb=1117, gpu=0, loss=0.704, v_nb=1]\n",
      "Epoch 3:  88%|████████▊ | 1129/1285 [49:11<04:28,  1.72s/batch, batch_nb=1117, gpu=0, loss=0.704, v_nb=1]\n",
      "Epoch 3:  88%|████████▊ | 1130/1285 [49:13<04:33,  1.77s/batch, batch_nb=1117, gpu=0, loss=0.704, v_nb=1]\n",
      "Epoch 3:  88%|████████▊ | 1131/1285 [49:15<04:25,  1.73s/batch, batch_nb=1117, gpu=0, loss=0.704, v_nb=1]\n",
      "Epoch 3:  88%|████████▊ | 1132/1285 [49:17<04:28,  1.75s/batch, batch_nb=1117, gpu=0, loss=0.704, v_nb=1]\n",
      "Epoch 3:  88%|████████▊ | 1133/1285 [49:18<04:24,  1.74s/batch, batch_nb=1117, gpu=0, loss=0.704, v_nb=1]\n",
      "Epoch 3:  88%|████████▊ | 1134/1285 [49:20<04:23,  1.74s/batch, batch_nb=1117, gpu=0, loss=0.704, v_nb=1]\n",
      "Epoch 3:  88%|████████▊ | 1135/1285 [49:22<04:15,  1.71s/batch, batch_nb=1117, gpu=0, loss=0.704, v_nb=1]\n",
      "Epoch 3:  88%|████████▊ | 1136/1285 [49:23<04:17,  1.73s/batch, batch_nb=1117, gpu=0, loss=0.704, v_nb=1]\n",
      "Epoch 3:  88%|████████▊ | 1137/1285 [49:25<04:17,  1.74s/batch, batch_nb=1117, gpu=0, loss=0.704, v_nb=1]\n",
      "Epoch 3:  89%|████████▊ | 1138/1285 [49:27<04:22,  1.78s/batch, batch_nb=1117, gpu=0, loss=0.704, v_nb=1]\n",
      "Epoch 3:  89%|████████▊ | 1139/1285 [49:29<04:23,  1.80s/batch, batch_nb=1117, gpu=0, loss=0.704, v_nb=1]\n",
      "Epoch 3:  89%|████████▊ | 1140/1285 [49:31<04:15,  1.76s/batch, batch_nb=1117, gpu=0, loss=0.704, v_nb=1]\n",
      "Epoch 3:  89%|████████▉ | 1141/1285 [49:32<04:12,  1.75s/batch, batch_nb=1117, gpu=0, loss=0.704, v_nb=1]\n",
      "Epoch 3:  89%|████████▉ | 1142/1285 [49:34<04:11,  1.76s/batch, batch_nb=1117, gpu=0, loss=0.704, v_nb=1]\n",
      "Epoch 3:  89%|████████▉ | 1143/1285 [49:36<04:05,  1.73s/batch, batch_nb=1117, gpu=0, loss=0.704, v_nb=1]\n",
      "Epoch 3:  89%|████████▉ | 1144/1285 [49:37<03:58,  1.69s/batch, batch_nb=1117, gpu=0, loss=0.704, v_nb=1]\n",
      "Epoch 3:  89%|████████▉ | 1145/1285 [49:39<03:57,  1.70s/batch, batch_nb=1117, gpu=0, loss=0.704, v_nb=1]\n",
      "Epoch 3:  89%|████████▉ | 1146/1285 [49:41<03:53,  1.68s/batch, batch_nb=1117, gpu=0, loss=0.704, v_nb=1]\n",
      "Epoch 3:  89%|████████▉ | 1147/1285 [49:42<03:45,  1.64s/batch, batch_nb=1117, gpu=0, loss=0.704, v_nb=1]\n",
      "Epoch 3:  89%|████████▉ | 1148/1285 [49:44<03:49,  1.67s/batch, batch_nb=1117, gpu=0, loss=0.704, v_nb=1]\n",
      "Epoch 3:  89%|████████▉ | 1149/1285 [49:46<03:52,  1.71s/batch, batch_nb=1117, gpu=0, loss=0.704, v_nb=1]\n",
      "Epoch 3:  89%|████████▉ | 1150/1285 [49:48<04:00,  1.78s/batch, batch_nb=1117, gpu=0, loss=0.704, v_nb=1]\n",
      "Epoch 3:  90%|████████▉ | 1151/1285 [49:50<04:00,  1.79s/batch, batch_nb=1117, gpu=0, loss=0.704, v_nb=1]\n",
      "Epoch 3:  90%|████████▉ | 1152/1285 [49:51<03:53,  1.76s/batch, batch_nb=1117, gpu=0, loss=0.704, v_nb=1]\n",
      "Epoch 3:  90%|████████▉ | 1153/1285 [49:53<03:54,  1.78s/batch, batch_nb=1117, gpu=0, loss=0.704, v_nb=1]\n",
      "Epoch 3:  90%|████████▉ | 1154/1285 [49:55<03:48,  1.75s/batch, batch_nb=1117, gpu=0, loss=0.704, v_nb=1]\n",
      "Epoch 3:  90%|████████▉ | 1155/1285 [49:56<03:41,  1.70s/batch, batch_nb=1117, gpu=0, loss=0.704, v_nb=1]\n",
      "Epoch 3:  90%|████████▉ | 1156/1285 [49:58<03:40,  1.71s/batch, batch_nb=1117, gpu=0, loss=0.704, v_nb=1]\n",
      "Epoch 3:  90%|█████████ | 1157/1285 [50:00<03:39,  1.71s/batch, batch_nb=1117, gpu=0, loss=0.704, v_nb=1]\n",
      "Epoch 3:  90%|█████████ | 1158/1285 [50:02<03:44,  1.76s/batch, batch_nb=1117, gpu=0, loss=0.704, v_nb=1]\n"
     ]
    },
    {
     "name": "stderr",
     "output_type": "stream",
     "text": [
      "Epoch 3:  90%|█████████ | 1159/1285 [50:03<03:37,  1.72s/batch, batch_nb=1117, gpu=0, loss=0.704, v_nb=1]\n",
      "Epoch 3:  90%|█████████ | 1160/1285 [50:05<03:35,  1.72s/batch, batch_nb=1117, gpu=0, loss=0.704, v_nb=1]\n",
      "Epoch 3:  90%|█████████ | 1161/1285 [50:07<03:30,  1.70s/batch, batch_nb=1117, gpu=0, loss=0.704, v_nb=1]\n",
      "Epoch 3:  90%|█████████ | 1162/1285 [50:08<03:29,  1.70s/batch, batch_nb=1117, gpu=0, loss=0.704, v_nb=1]\n",
      "Epoch 3:  91%|█████████ | 1163/1285 [50:10<03:25,  1.69s/batch, batch_nb=1117, gpu=0, loss=0.704, v_nb=1]\n",
      "Epoch 3:  91%|█████████ | 1164/1285 [50:12<03:25,  1.70s/batch, batch_nb=1117, gpu=0, loss=0.704, v_nb=1]\n",
      "Epoch 3:  91%|█████████ | 1165/1285 [50:13<03:23,  1.70s/batch, batch_nb=1117, gpu=0, loss=0.704, v_nb=1]\n",
      "Epoch 3:  91%|█████████ | 1166/1285 [50:15<03:15,  1.64s/batch, batch_nb=1117, gpu=0, loss=0.704, v_nb=1]\n",
      "Epoch 3:  91%|█████████ | 1167/1285 [50:17<03:15,  1.65s/batch, batch_nb=1117, gpu=0, loss=0.704, v_nb=1]\n",
      "Epoch 3:  91%|█████████ | 1168/1285 [50:18<03:15,  1.67s/batch, batch_nb=1117, gpu=0, loss=0.704, v_nb=1]\n",
      "Epoch 3:  91%|█████████ | 1169/1285 [50:20<03:13,  1.67s/batch, batch_nb=1117, gpu=0, loss=0.704, v_nb=1]\n",
      "Epoch 3:  91%|█████████ | 1170/1285 [50:22<03:12,  1.67s/batch, batch_nb=1117, gpu=0, loss=0.704, v_nb=1]\n",
      "Epoch 3:  91%|█████████ | 1171/1285 [50:24<03:19,  1.75s/batch, batch_nb=1117, gpu=0, loss=0.704, v_nb=1]\n",
      "Epoch 3:  91%|█████████ | 1172/1285 [50:25<03:16,  1.74s/batch, batch_nb=1117, gpu=0, loss=0.704, v_nb=1]\n",
      "Epoch 3:  91%|█████████▏| 1173/1285 [50:27<03:08,  1.68s/batch, batch_nb=1117, gpu=0, loss=0.704, v_nb=1]\n",
      "Epoch 3:  91%|█████████▏| 1174/1285 [50:29<03:12,  1.73s/batch, batch_nb=1117, gpu=0, loss=0.704, v_nb=1]\n",
      "Epoch 3:  91%|█████████▏| 1175/1285 [50:30<03:08,  1.71s/batch, batch_nb=1117, gpu=0, loss=0.704, v_nb=1]\n",
      "Epoch 3:  92%|█████████▏| 1176/1285 [50:32<03:08,  1.73s/batch, batch_nb=1117, gpu=0, loss=0.704, v_nb=1]\n",
      "Epoch 3:  92%|█████████▏| 1177/1285 [50:34<03:01,  1.68s/batch, batch_nb=1117, gpu=0, loss=0.704, v_nb=1]\n",
      "Epoch 3:  92%|█████████▏| 1178/1285 [50:35<03:04,  1.72s/batch, batch_nb=1117, gpu=0, loss=0.704, v_nb=1]\n",
      "Epoch 3:  92%|█████████▏| 1179/1285 [50:37<02:57,  1.68s/batch, batch_nb=1117, gpu=0, loss=0.704, v_nb=1]\n",
      "Epoch 3:  92%|█████████▏| 1180/1285 [50:39<02:52,  1.65s/batch, batch_nb=1117, gpu=0, loss=0.704, v_nb=1]\n",
      "Epoch 3:  92%|█████████▏| 1181/1285 [50:41<02:59,  1.73s/batch, batch_nb=1117, gpu=0, loss=0.704, v_nb=1]\n",
      "Epoch 3:  92%|█████████▏| 1182/1285 [50:42<02:58,  1.74s/batch, batch_nb=1117, gpu=0, loss=0.704, v_nb=1]\n",
      "Epoch 3:  92%|█████████▏| 1183/1285 [50:44<02:56,  1.73s/batch, batch_nb=1117, gpu=0, loss=0.704, v_nb=1]\n",
      "Epoch 3:  92%|█████████▏| 1184/1285 [50:46<02:51,  1.70s/batch, batch_nb=1117, gpu=0, loss=0.704, v_nb=1]\n",
      "Epoch 3:  92%|█████████▏| 1185/1285 [50:47<02:50,  1.71s/batch, batch_nb=1117, gpu=0, loss=0.704, v_nb=1]\n",
      "Epoch 3:  92%|█████████▏| 1186/1285 [50:49<02:51,  1.73s/batch, batch_nb=1117, gpu=0, loss=0.704, v_nb=1]\n",
      "Epoch 3:  92%|█████████▏| 1187/1285 [50:51<02:48,  1.72s/batch, batch_nb=1117, gpu=0, loss=0.704, v_nb=1]\n",
      "Epoch 3:  92%|█████████▏| 1188/1285 [50:53<02:46,  1.71s/batch, batch_nb=1117, gpu=0, loss=0.704, v_nb=1]\n",
      "Epoch 3:  93%|█████████▎| 1189/1285 [50:54<02:39,  1.67s/batch, batch_nb=1117, gpu=0, loss=0.704, v_nb=1]\n",
      "Epoch 3:  93%|█████████▎| 1190/1285 [50:56<02:36,  1.65s/batch, batch_nb=1117, gpu=0, loss=0.704, v_nb=1]\n",
      "Epoch 3:  93%|█████████▎| 1191/1285 [50:58<02:41,  1.72s/batch, batch_nb=1117, gpu=0, loss=0.704, v_nb=1]\n",
      "Epoch 3:  93%|█████████▎| 1192/1285 [50:59<02:37,  1.70s/batch, batch_nb=1117, gpu=0, loss=0.704, v_nb=1]\n",
      "Epoch 3:  93%|█████████▎| 1193/1285 [51:01<02:35,  1.69s/batch, batch_nb=1117, gpu=0, loss=0.704, v_nb=1]\n",
      "Epoch 3:  93%|█████████▎| 1194/1285 [51:02<02:30,  1.65s/batch, batch_nb=1117, gpu=0, loss=0.704, v_nb=1]\n",
      "Epoch 3:  93%|█████████▎| 1195/1285 [51:04<02:30,  1.67s/batch, batch_nb=1117, gpu=0, loss=0.704, v_nb=1]\n",
      "Epoch 3:  93%|█████████▎| 1196/1285 [51:06<02:41,  1.82s/batch, batch_nb=1117, gpu=0, loss=0.704, v_nb=1]\n",
      "Epoch 3:  93%|█████████▎| 1197/1285 [51:08<02:31,  1.73s/batch, batch_nb=1117, gpu=0, loss=0.704, v_nb=1]\n",
      "Epoch 3:  93%|█████████▎| 1198/1285 [51:10<02:32,  1.75s/batch, batch_nb=1117, gpu=0, loss=0.704, v_nb=1]\n",
      "Epoch 3:  93%|█████████▎| 1199/1285 [51:11<02:31,  1.77s/batch, batch_nb=1117, gpu=0, loss=0.704, v_nb=1]\n",
      "Epoch 3:  93%|█████████▎| 1200/1285 [51:13<02:31,  1.78s/batch, batch_nb=1117, gpu=0, loss=0.704, v_nb=1]\n",
      "Epoch 3:  93%|█████████▎| 1201/1285 [51:15<02:25,  1.74s/batch, batch_nb=1117, gpu=0, loss=0.704, v_nb=1]\n",
      "Epoch 3:  94%|█████████▎| 1202/1285 [51:17<02:31,  1.82s/batch, batch_nb=1117, gpu=0, loss=0.704, v_nb=1]\n",
      "Epoch 3:  94%|█████████▎| 1203/1285 [51:19<02:23,  1.75s/batch, batch_nb=1117, gpu=0, loss=0.704, v_nb=1]\n",
      "Epoch 3:  94%|█████████▎| 1204/1285 [51:20<02:17,  1.70s/batch, batch_nb=1117, gpu=0, loss=0.704, v_nb=1]\n",
      "Epoch 3:  94%|█████████▍| 1205/1285 [51:22<02:11,  1.65s/batch, batch_nb=1117, gpu=0, loss=0.704, v_nb=1]\n",
      "Epoch 3:  94%|█████████▍| 1206/1285 [51:23<02:14,  1.70s/batch, batch_nb=1117, gpu=0, loss=0.704, v_nb=1]\n",
      "Epoch 3:  94%|█████████▍| 1207/1285 [51:25<02:14,  1.72s/batch, batch_nb=1117, gpu=0, loss=0.704, v_nb=1]\n",
      "Epoch 3:  94%|█████████▍| 1208/1285 [51:27<02:11,  1.71s/batch, batch_nb=1117, gpu=0, loss=0.704, v_nb=1]\n",
      "Epoch 3:  94%|█████████▍| 1209/1285 [51:29<02:12,  1.74s/batch, batch_nb=1117, gpu=0, loss=0.704, v_nb=1]\n",
      "Epoch 3:  94%|█████████▍| 1210/1285 [51:31<02:13,  1.78s/batch, batch_nb=1117, gpu=0, loss=0.704, v_nb=1]\n",
      "Epoch 3:  94%|█████████▍| 1211/1285 [51:32<02:08,  1.74s/batch, batch_nb=1117, gpu=0, loss=0.704, v_nb=1]\n",
      "Epoch 3:  94%|█████████▍| 1212/1285 [51:34<02:06,  1.73s/batch, batch_nb=1117, gpu=0, loss=0.704, v_nb=1]\n",
      "Epoch 3:  94%|█████████▍| 1213/1285 [51:36<02:02,  1.70s/batch, batch_nb=1117, gpu=0, loss=0.704, v_nb=1]\n",
      "Epoch 3:  94%|█████████▍| 1214/1285 [51:37<02:01,  1.71s/batch, batch_nb=1117, gpu=0, loss=0.704, v_nb=1]\n",
      "Epoch 3:  95%|█████████▍| 1215/1285 [51:39<02:03,  1.77s/batch, batch_nb=1117, gpu=0, loss=0.704, v_nb=1]\n",
      "Epoch 3:  95%|█████████▍| 1216/1285 [51:41<01:59,  1.73s/batch, batch_nb=1117, gpu=0, loss=0.704, v_nb=1]\n",
      "Epoch 3:  95%|█████████▍| 1217/1285 [51:43<02:00,  1.77s/batch, batch_nb=1117, gpu=0, loss=0.704, v_nb=1]\n",
      "Epoch 3:  95%|█████████▍| 1218/1285 [51:45<02:03,  1.85s/batch, batch_nb=1117, gpu=0, loss=0.704, v_nb=1]\n",
      "Epoch 3:  95%|█████████▍| 1219/1285 [51:46<01:54,  1.74s/batch, batch_nb=1117, gpu=0, loss=0.704, v_nb=1]\n",
      "Epoch 3:  95%|█████████▍| 1220/1285 [51:48<01:51,  1.71s/batch, batch_nb=1117, gpu=0, loss=0.704, v_nb=1]\n",
      "Epoch 3:  95%|█████████▌| 1221/1285 [51:50<01:49,  1.72s/batch, batch_nb=1117, gpu=0, loss=0.704, v_nb=1]\n",
      "Epoch 3:  95%|█████████▌| 1222/1285 [51:51<01:46,  1.69s/batch, batch_nb=1117, gpu=0, loss=0.704, v_nb=1]\n",
      "Epoch 3:  95%|█████████▌| 1223/1285 [51:53<01:46,  1.72s/batch, batch_nb=1117, gpu=0, loss=0.704, v_nb=1]\n",
      "Epoch 3:  95%|█████████▌| 1224/1285 [51:55<01:44,  1.71s/batch, batch_nb=1117, gpu=0, loss=0.704, v_nb=1]\n",
      "Epoch 3:  95%|█████████▌| 1225/1285 [51:56<01:40,  1.68s/batch, batch_nb=1117, gpu=0, loss=0.704, v_nb=1]\n",
      "Epoch 3:  95%|█████████▌| 1226/1285 [51:58<01:42,  1.74s/batch, batch_nb=1117, gpu=0, loss=0.704, v_nb=1]\n",
      "Epoch 3:  95%|█████████▌| 1227/1285 [52:00<01:38,  1.70s/batch, batch_nb=1117, gpu=0, loss=0.704, v_nb=1]\n",
      "Epoch 3:  96%|█████████▌| 1228/1285 [52:01<01:36,  1.69s/batch, batch_nb=1117, gpu=0, loss=0.704, v_nb=1]\n",
      "Epoch 3:  96%|█████████▌| 1229/1285 [52:03<01:34,  1.68s/batch, batch_nb=1117, gpu=0, loss=0.704, v_nb=1]\n",
      "Epoch 3:  96%|█████████▌| 1230/1285 [52:05<01:32,  1.68s/batch, batch_nb=1117, gpu=0, loss=0.704, v_nb=1]\n",
      "Epoch 3:  96%|█████████▌| 1231/1285 [52:07<01:31,  1.70s/batch, batch_nb=1117, gpu=0, loss=0.704, v_nb=1]\n",
      "Epoch 3:  96%|█████████▌| 1232/1285 [52:08<01:29,  1.69s/batch, batch_nb=1117, gpu=0, loss=0.704, v_nb=1]\n",
      "Epoch 3:  96%|█████████▌| 1233/1285 [52:10<01:26,  1.67s/batch, batch_nb=1117, gpu=0, loss=0.704, v_nb=1]\n",
      "Epoch 3:  96%|█████████▌| 1234/1285 [52:11<01:24,  1.65s/batch, batch_nb=1117, gpu=0, loss=0.704, v_nb=1]\n",
      "Epoch 3:  96%|█████████▌| 1235/1285 [52:13<01:24,  1.70s/batch, batch_nb=1117, gpu=0, loss=0.704, v_nb=1]\n"
     ]
    },
    {
     "name": "stderr",
     "output_type": "stream",
     "text": [
      "Epoch 3:  96%|█████████▌| 1236/1285 [52:15<01:25,  1.74s/batch, batch_nb=1117, gpu=0, loss=0.704, v_nb=1]\n",
      "Epoch 3:  96%|█████████▋| 1237/1285 [52:17<01:23,  1.74s/batch, batch_nb=1117, gpu=0, loss=0.704, v_nb=1]\n",
      "Epoch 3:  96%|█████████▋| 1238/1285 [52:19<01:21,  1.73s/batch, batch_nb=1117, gpu=0, loss=0.704, v_nb=1]\n",
      "Epoch 3:  96%|█████████▋| 1239/1285 [52:20<01:17,  1.68s/batch, batch_nb=1117, gpu=0, loss=0.704, v_nb=1]\n",
      "Epoch 3:  96%|█████████▋| 1240/1285 [52:22<01:15,  1.67s/batch, batch_nb=1117, gpu=0, loss=0.704, v_nb=1]\n",
      "Epoch 3:  97%|█████████▋| 1241/1285 [52:23<01:13,  1.68s/batch, batch_nb=1117, gpu=0, loss=0.704, v_nb=1]\n",
      "Epoch 3:  97%|█████████▋| 1242/1285 [52:25<01:11,  1.65s/batch, batch_nb=1117, gpu=0, loss=0.704, v_nb=1]\n",
      "Epoch 3:  97%|█████████▋| 1243/1285 [52:27<01:09,  1.66s/batch, batch_nb=1117, gpu=0, loss=0.704, v_nb=1]\n",
      "Epoch 3:  97%|█████████▋| 1244/1285 [52:28<01:08,  1.68s/batch, batch_nb=1117, gpu=0, loss=0.704, v_nb=1]\n",
      "Epoch 3:  97%|█████████▋| 1245/1285 [52:30<01:07,  1.68s/batch, batch_nb=1117, gpu=0, loss=0.704, v_nb=1]\n",
      "Epoch 3:  97%|█████████▋| 1246/1285 [52:32<01:05,  1.69s/batch, batch_nb=1117, gpu=0, loss=0.704, v_nb=1]\n",
      "Epoch 3:  97%|█████████▋| 1247/1285 [52:34<01:04,  1.71s/batch, batch_nb=1117, gpu=0, loss=0.704, v_nb=1]\n",
      "Epoch 3:  97%|█████████▋| 1248/1285 [52:35<01:02,  1.69s/batch, batch_nb=1117, gpu=0, loss=0.704, v_nb=1]\n",
      "Epoch 3:  97%|█████████▋| 1249/1285 [52:37<00:59,  1.66s/batch, batch_nb=1117, gpu=0, loss=0.704, v_nb=1]\n",
      "Epoch 3:  97%|█████████▋| 1250/1285 [52:38<00:56,  1.62s/batch, batch_nb=1117, gpu=0, loss=0.704, v_nb=1]\n",
      "Epoch 3:  97%|█████████▋| 1251/1285 [52:40<00:55,  1.62s/batch, batch_nb=1117, gpu=0, loss=0.704, v_nb=1]\n",
      "Epoch 3:  97%|█████████▋| 1252/1285 [52:42<00:53,  1.61s/batch, batch_nb=1117, gpu=0, loss=0.704, v_nb=1]\n",
      "Epoch 3:  98%|█████████▊| 1253/1285 [52:43<00:53,  1.66s/batch, batch_nb=1117, gpu=0, loss=0.704, v_nb=1]\n",
      "Epoch 3:  98%|█████████▊| 1254/1285 [52:45<00:51,  1.65s/batch, batch_nb=1117, gpu=0, loss=0.704, v_nb=1]\n",
      "Epoch 3:  98%|█████████▊| 1255/1285 [52:48<00:58,  1.95s/batch, batch_nb=1117, gpu=0, loss=0.704, v_nb=1]\n",
      "Epoch 3:  98%|█████████▊| 1256/1285 [52:49<00:54,  1.89s/batch, batch_nb=1117, gpu=0, loss=0.704, v_nb=1]\n",
      "Epoch 3:  98%|█████████▊| 1257/1285 [52:51<00:50,  1.81s/batch, batch_nb=1117, gpu=0, loss=0.704, v_nb=1]\n",
      "Epoch 3:  98%|█████████▊| 1258/1285 [52:53<00:48,  1.78s/batch, batch_nb=1117, gpu=0, loss=0.704, v_nb=1]\n",
      "Epoch 3:  98%|█████████▊| 1259/1285 [52:54<00:45,  1.76s/batch, batch_nb=1117, gpu=0, loss=0.704, v_nb=1]\n",
      "Epoch 3:  98%|█████████▊| 1260/1285 [52:56<00:44,  1.77s/batch, batch_nb=1117, gpu=0, loss=0.704, v_nb=1]\n",
      "Epoch 3:  98%|█████████▊| 1261/1285 [52:58<00:42,  1.77s/batch, batch_nb=1117, gpu=0, loss=0.704, v_nb=1]\n",
      "Epoch 3:  98%|█████████▊| 1262/1285 [53:00<00:40,  1.75s/batch, batch_nb=1117, gpu=0, loss=0.704, v_nb=1]\n",
      "Epoch 3:  98%|█████████▊| 1263/1285 [53:02<00:39,  1.78s/batch, batch_nb=1117, gpu=0, loss=0.704, v_nb=1]\n",
      "Epoch 3:  98%|█████████▊| 1264/1285 [53:03<00:36,  1.73s/batch, batch_nb=1117, gpu=0, loss=0.704, v_nb=1]\n",
      "Epoch 3:  98%|█████████▊| 1265/1285 [53:05<00:33,  1.69s/batch, batch_nb=1117, gpu=0, loss=0.704, v_nb=1]\n",
      "Epoch 3:  99%|█████████▊| 1266/1285 [53:06<00:31,  1.64s/batch, batch_nb=1117, gpu=0, loss=0.704, v_nb=1]\n",
      "Epoch 3:  99%|█████████▊| 1267/1285 [53:08<00:29,  1.65s/batch, batch_nb=1117, gpu=0, loss=0.704, v_nb=1]\n",
      "Epoch 3:  99%|█████████▊| 1268/1285 [53:10<00:27,  1.63s/batch, batch_nb=1117, gpu=0, loss=0.704, v_nb=1]\n",
      "Epoch 3:  99%|█████████▉| 1269/1285 [53:11<00:26,  1.67s/batch, batch_nb=1117, gpu=0, loss=0.704, v_nb=1]\n",
      "Epoch 3:  99%|█████████▉| 1270/1285 [53:13<00:25,  1.68s/batch, batch_nb=1117, gpu=0, loss=0.704, v_nb=1]\n",
      "Epoch 3:  99%|█████████▉| 1271/1285 [53:15<00:23,  1.69s/batch, batch_nb=1117, gpu=0, loss=0.704, v_nb=1]\n",
      "Epoch 3:  99%|█████████▉| 1272/1285 [53:16<00:22,  1.69s/batch, batch_nb=1117, gpu=0, loss=0.704, v_nb=1]\n",
      "Epoch 3:  99%|█████████▉| 1273/1285 [53:18<00:20,  1.69s/batch, batch_nb=1117, gpu=0, loss=0.704, v_nb=1]\n",
      "Epoch 3:  99%|█████████▉| 1274/1285 [53:20<00:19,  1.73s/batch, batch_nb=1117, gpu=0, loss=0.704, v_nb=1]\n",
      "Epoch 3:  99%|█████████▉| 1275/1285 [53:22<00:16,  1.69s/batch, batch_nb=1117, gpu=0, loss=0.704, v_nb=1]\n",
      "Epoch 3:  99%|█████████▉| 1276/1285 [53:23<00:15,  1.70s/batch, batch_nb=1117, gpu=0, loss=0.704, v_nb=1]\n",
      "Epoch 3:  99%|█████████▉| 1277/1285 [53:25<00:13,  1.70s/batch, batch_nb=1117, gpu=0, loss=0.704, v_nb=1]\n",
      "Epoch 3:  99%|█████████▉| 1278/1285 [53:27<00:11,  1.71s/batch, batch_nb=1117, gpu=0, loss=0.704, v_nb=1]\n",
      "Epoch 3: 100%|█████████▉| 1279/1285 [53:28<00:10,  1.72s/batch, batch_nb=1117, gpu=0, loss=0.704, v_nb=1]\n",
      "Epoch 3: 100%|█████████▉| 1280/1285 [53:30<00:08,  1.69s/batch, batch_nb=1117, gpu=0, loss=0.704, v_nb=1]\n",
      "Epoch 3: 100%|█████████▉| 1281/1285 [53:32<00:06,  1.71s/batch, batch_nb=1117, gpu=0, loss=0.704, v_nb=1]\n",
      "Epoch 3: 100%|█████████▉| 1282/1285 [53:34<00:05,  1.71s/batch, batch_nb=1117, gpu=0, loss=0.704, v_nb=1]\n",
      "Epoch 3: 100%|█████████▉| 1283/1285 [53:35<00:03,  1.75s/batch, batch_nb=1117, gpu=0, loss=0.704, v_nb=1]\n",
      "Epoch 3: 100%|█████████▉| 1284/1285 [53:37<00:01,  1.74s/batch, batch_nb=1117, gpu=0, loss=0.704, v_nb=1]\n",
      "Epoch 3: 100%|██████████| 1285/1285 [53:39<00:00,  1.72s/batch, batch_nb=1117, gpu=0, loss=0.704, v_nb=1]\n",
      "Epoch 4:  87%|████████▋ | 1118/1285 [48:25<05:43,  2.06s/batch, batch_nb=1117, gpu=0, loss=0.696, v_nb=1]\n",
      "Validating:   0%|          | 0/167 [00:00<?, ?batch/s]\u001b[A\n",
      "Epoch 4:  87%|████████▋ | 1119/1285 [48:27<05:24,  1.96s/batch, batch_nb=1117, gpu=0, loss=0.696, v_nb=1]\n",
      "Epoch 4:  87%|████████▋ | 1120/1285 [48:28<04:56,  1.79s/batch, batch_nb=1117, gpu=0, loss=0.696, v_nb=1]\n",
      "Epoch 4:  87%|████████▋ | 1121/1285 [48:30<04:46,  1.75s/batch, batch_nb=1117, gpu=0, loss=0.696, v_nb=1]\n",
      "Epoch 4:  87%|████████▋ | 1122/1285 [48:32<04:42,  1.74s/batch, batch_nb=1117, gpu=0, loss=0.696, v_nb=1]\n",
      "Epoch 4:  87%|████████▋ | 1123/1285 [48:33<04:39,  1.73s/batch, batch_nb=1117, gpu=0, loss=0.696, v_nb=1]\n",
      "Epoch 4:  87%|████████▋ | 1124/1285 [48:35<04:31,  1.69s/batch, batch_nb=1117, gpu=0, loss=0.696, v_nb=1]\n",
      "Epoch 4:  88%|████████▊ | 1125/1285 [48:37<04:31,  1.70s/batch, batch_nb=1117, gpu=0, loss=0.696, v_nb=1]\n",
      "Epoch 4:  88%|████████▊ | 1126/1285 [48:38<04:22,  1.65s/batch, batch_nb=1117, gpu=0, loss=0.696, v_nb=1]\n",
      "Epoch 4:  88%|████████▊ | 1127/1285 [48:40<04:13,  1.61s/batch, batch_nb=1117, gpu=0, loss=0.696, v_nb=1]\n",
      "Epoch 4:  88%|████████▊ | 1128/1285 [48:41<04:16,  1.63s/batch, batch_nb=1117, gpu=0, loss=0.696, v_nb=1]\n",
      "Epoch 4:  88%|████████▊ | 1129/1285 [48:43<04:10,  1.61s/batch, batch_nb=1117, gpu=0, loss=0.696, v_nb=1]\n",
      "Epoch 4:  88%|████████▊ | 1130/1285 [48:44<04:06,  1.59s/batch, batch_nb=1117, gpu=0, loss=0.696, v_nb=1]\n",
      "Epoch 4:  88%|████████▊ | 1131/1285 [48:46<04:03,  1.58s/batch, batch_nb=1117, gpu=0, loss=0.696, v_nb=1]\n",
      "Epoch 4:  88%|████████▊ | 1132/1285 [48:47<03:56,  1.54s/batch, batch_nb=1117, gpu=0, loss=0.696, v_nb=1]\n",
      "Epoch 4:  88%|████████▊ | 1133/1285 [48:49<03:53,  1.53s/batch, batch_nb=1117, gpu=0, loss=0.696, v_nb=1]\n",
      "Epoch 4:  88%|████████▊ | 1134/1285 [48:51<03:55,  1.56s/batch, batch_nb=1117, gpu=0, loss=0.696, v_nb=1]\n",
      "Epoch 4:  88%|████████▊ | 1135/1285 [48:52<04:04,  1.63s/batch, batch_nb=1117, gpu=0, loss=0.696, v_nb=1]\n",
      "Epoch 4:  88%|████████▊ | 1136/1285 [48:54<03:59,  1.61s/batch, batch_nb=1117, gpu=0, loss=0.696, v_nb=1]\n",
      "Epoch 4:  88%|████████▊ | 1137/1285 [48:55<03:50,  1.56s/batch, batch_nb=1117, gpu=0, loss=0.696, v_nb=1]\n",
      "Epoch 4:  89%|████████▊ | 1138/1285 [48:57<03:48,  1.56s/batch, batch_nb=1117, gpu=0, loss=0.696, v_nb=1]\n",
      "Epoch 4:  89%|████████▊ | 1139/1285 [48:58<03:40,  1.51s/batch, batch_nb=1117, gpu=0, loss=0.696, v_nb=1]\n",
      "Epoch 4:  89%|████████▊ | 1140/1285 [49:00<03:41,  1.53s/batch, batch_nb=1117, gpu=0, loss=0.696, v_nb=1]\n",
      "Epoch 4:  89%|████████▉ | 1141/1285 [49:02<03:47,  1.58s/batch, batch_nb=1117, gpu=0, loss=0.696, v_nb=1]\n",
      "Epoch 4:  89%|████████▉ | 1142/1285 [49:03<03:45,  1.58s/batch, batch_nb=1117, gpu=0, loss=0.696, v_nb=1]\n",
      "Epoch 4:  89%|████████▉ | 1143/1285 [49:05<03:41,  1.56s/batch, batch_nb=1117, gpu=0, loss=0.696, v_nb=1]\n"
     ]
    },
    {
     "name": "stderr",
     "output_type": "stream",
     "text": [
      "Epoch 4:  89%|████████▉ | 1144/1285 [49:06<03:42,  1.58s/batch, batch_nb=1117, gpu=0, loss=0.696, v_nb=1]\n",
      "Epoch 4:  89%|████████▉ | 1145/1285 [49:08<03:38,  1.56s/batch, batch_nb=1117, gpu=0, loss=0.696, v_nb=1]\n",
      "Epoch 4:  89%|████████▉ | 1146/1285 [49:09<03:37,  1.56s/batch, batch_nb=1117, gpu=0, loss=0.696, v_nb=1]\n",
      "Epoch 4:  89%|████████▉ | 1147/1285 [49:11<03:35,  1.56s/batch, batch_nb=1117, gpu=0, loss=0.696, v_nb=1]\n",
      "Epoch 4:  89%|████████▉ | 1148/1285 [49:13<03:39,  1.60s/batch, batch_nb=1117, gpu=0, loss=0.696, v_nb=1]\n",
      "Epoch 4:  89%|████████▉ | 1149/1285 [49:14<03:38,  1.61s/batch, batch_nb=1117, gpu=0, loss=0.696, v_nb=1]\n",
      "Epoch 4:  89%|████████▉ | 1150/1285 [49:16<03:36,  1.61s/batch, batch_nb=1117, gpu=0, loss=0.696, v_nb=1]\n",
      "Epoch 4:  90%|████████▉ | 1151/1285 [49:18<03:37,  1.62s/batch, batch_nb=1117, gpu=0, loss=0.696, v_nb=1]\n",
      "Epoch 4:  90%|████████▉ | 1152/1285 [49:19<03:32,  1.60s/batch, batch_nb=1117, gpu=0, loss=0.696, v_nb=1]\n",
      "Epoch 4:  90%|████████▉ | 1153/1285 [49:21<03:27,  1.57s/batch, batch_nb=1117, gpu=0, loss=0.696, v_nb=1]\n",
      "Epoch 4:  90%|████████▉ | 1154/1285 [49:22<03:28,  1.59s/batch, batch_nb=1117, gpu=0, loss=0.696, v_nb=1]\n",
      "Epoch 4:  90%|████████▉ | 1155/1285 [49:24<03:28,  1.60s/batch, batch_nb=1117, gpu=0, loss=0.696, v_nb=1]\n",
      "Epoch 4:  90%|████████▉ | 1156/1285 [49:26<03:27,  1.61s/batch, batch_nb=1117, gpu=0, loss=0.696, v_nb=1]\n",
      "Epoch 4:  90%|█████████ | 1157/1285 [49:27<03:31,  1.65s/batch, batch_nb=1117, gpu=0, loss=0.696, v_nb=1]\n",
      "Epoch 4:  90%|█████████ | 1158/1285 [49:29<03:19,  1.57s/batch, batch_nb=1117, gpu=0, loss=0.696, v_nb=1]\n",
      "Epoch 4:  90%|█████████ | 1159/1285 [49:30<03:18,  1.58s/batch, batch_nb=1117, gpu=0, loss=0.696, v_nb=1]\n",
      "Epoch 4:  90%|█████████ | 1160/1285 [49:32<03:13,  1.55s/batch, batch_nb=1117, gpu=0, loss=0.696, v_nb=1]\n",
      "Epoch 4:  90%|█████████ | 1161/1285 [49:33<03:12,  1.55s/batch, batch_nb=1117, gpu=0, loss=0.696, v_nb=1]\n",
      "Epoch 4:  90%|█████████ | 1162/1285 [49:35<03:09,  1.54s/batch, batch_nb=1117, gpu=0, loss=0.696, v_nb=1]\n",
      "Epoch 4:  91%|█████████ | 1163/1285 [49:36<03:05,  1.52s/batch, batch_nb=1117, gpu=0, loss=0.696, v_nb=1]\n",
      "Epoch 4:  91%|█████████ | 1164/1285 [49:38<03:07,  1.55s/batch, batch_nb=1117, gpu=0, loss=0.696, v_nb=1]\n",
      "Epoch 4:  91%|█████████ | 1165/1285 [49:39<03:06,  1.55s/batch, batch_nb=1117, gpu=0, loss=0.696, v_nb=1]\n",
      "Epoch 4:  91%|█████████ | 1166/1285 [49:41<03:08,  1.58s/batch, batch_nb=1117, gpu=0, loss=0.696, v_nb=1]\n",
      "Epoch 4:  91%|█████████ | 1167/1285 [49:43<03:05,  1.57s/batch, batch_nb=1117, gpu=0, loss=0.696, v_nb=1]\n",
      "Epoch 4:  91%|█████████ | 1168/1285 [49:44<03:02,  1.56s/batch, batch_nb=1117, gpu=0, loss=0.696, v_nb=1]\n",
      "Epoch 4:  91%|█████████ | 1169/1285 [49:46<03:07,  1.62s/batch, batch_nb=1117, gpu=0, loss=0.696, v_nb=1]\n",
      "Epoch 4:  91%|█████████ | 1170/1285 [49:48<03:06,  1.62s/batch, batch_nb=1117, gpu=0, loss=0.696, v_nb=1]\n",
      "Epoch 4:  91%|█████████ | 1171/1285 [49:49<03:08,  1.65s/batch, batch_nb=1117, gpu=0, loss=0.696, v_nb=1]\n",
      "Epoch 4:  91%|█████████ | 1172/1285 [49:51<03:05,  1.64s/batch, batch_nb=1117, gpu=0, loss=0.696, v_nb=1]\n",
      "Epoch 4:  91%|█████████▏| 1173/1285 [49:52<03:01,  1.62s/batch, batch_nb=1117, gpu=0, loss=0.696, v_nb=1]\n",
      "Epoch 4:  91%|█████████▏| 1174/1285 [49:54<02:58,  1.61s/batch, batch_nb=1117, gpu=0, loss=0.696, v_nb=1]\n",
      "Epoch 4:  91%|█████████▏| 1175/1285 [49:57<03:24,  1.86s/batch, batch_nb=1117, gpu=0, loss=0.696, v_nb=1]\n",
      "Epoch 4:  92%|█████████▏| 1176/1285 [49:58<03:13,  1.78s/batch, batch_nb=1117, gpu=0, loss=0.696, v_nb=1]\n",
      "Epoch 4:  92%|█████████▏| 1177/1285 [50:00<03:06,  1.73s/batch, batch_nb=1117, gpu=0, loss=0.696, v_nb=1]\n",
      "Epoch 4:  92%|█████████▏| 1178/1285 [50:02<03:07,  1.75s/batch, batch_nb=1117, gpu=0, loss=0.696, v_nb=1]\n",
      "Epoch 4:  92%|█████████▏| 1179/1285 [50:03<02:59,  1.69s/batch, batch_nb=1117, gpu=0, loss=0.696, v_nb=1]\n",
      "Epoch 4:  92%|█████████▏| 1180/1285 [50:05<02:52,  1.64s/batch, batch_nb=1117, gpu=0, loss=0.696, v_nb=1]\n",
      "Epoch 4:  92%|█████████▏| 1181/1285 [50:06<02:53,  1.67s/batch, batch_nb=1117, gpu=0, loss=0.696, v_nb=1]\n",
      "Epoch 4:  92%|█████████▏| 1182/1285 [50:08<02:53,  1.69s/batch, batch_nb=1117, gpu=0, loss=0.696, v_nb=1]\n",
      "Epoch 4:  92%|█████████▏| 1183/1285 [50:10<02:49,  1.66s/batch, batch_nb=1117, gpu=0, loss=0.696, v_nb=1]\n",
      "Epoch 4:  92%|█████████▏| 1184/1285 [50:12<02:59,  1.78s/batch, batch_nb=1117, gpu=0, loss=0.696, v_nb=1]\n",
      "Epoch 4:  92%|█████████▏| 1185/1285 [50:13<02:51,  1.71s/batch, batch_nb=1117, gpu=0, loss=0.696, v_nb=1]\n",
      "Epoch 4:  92%|█████████▏| 1186/1285 [50:15<02:50,  1.72s/batch, batch_nb=1117, gpu=0, loss=0.696, v_nb=1]\n",
      "Epoch 4:  92%|█████████▏| 1187/1285 [50:17<02:45,  1.69s/batch, batch_nb=1117, gpu=0, loss=0.696, v_nb=1]\n",
      "Epoch 4:  92%|█████████▏| 1188/1285 [50:18<02:35,  1.60s/batch, batch_nb=1117, gpu=0, loss=0.696, v_nb=1]\n",
      "Epoch 4:  93%|█████████▎| 1189/1285 [50:20<02:36,  1.63s/batch, batch_nb=1117, gpu=0, loss=0.696, v_nb=1]\n",
      "Epoch 4:  93%|█████████▎| 1190/1285 [50:21<02:32,  1.61s/batch, batch_nb=1117, gpu=0, loss=0.696, v_nb=1]\n",
      "Epoch 4:  93%|█████████▎| 1191/1285 [50:23<02:29,  1.59s/batch, batch_nb=1117, gpu=0, loss=0.696, v_nb=1]\n",
      "Epoch 4:  93%|█████████▎| 1192/1285 [50:25<02:33,  1.65s/batch, batch_nb=1117, gpu=0, loss=0.696, v_nb=1]\n",
      "Epoch 4:  93%|█████████▎| 1193/1285 [50:26<02:31,  1.65s/batch, batch_nb=1117, gpu=0, loss=0.696, v_nb=1]\n",
      "Epoch 4:  93%|█████████▎| 1194/1285 [50:28<02:28,  1.64s/batch, batch_nb=1117, gpu=0, loss=0.696, v_nb=1]\n",
      "Epoch 4:  93%|█████████▎| 1195/1285 [50:29<02:25,  1.62s/batch, batch_nb=1117, gpu=0, loss=0.696, v_nb=1]\n",
      "Epoch 4:  93%|█████████▎| 1196/1285 [50:31<02:25,  1.64s/batch, batch_nb=1117, gpu=0, loss=0.696, v_nb=1]\n",
      "Epoch 4:  93%|█████████▎| 1197/1285 [50:33<02:22,  1.62s/batch, batch_nb=1117, gpu=0, loss=0.696, v_nb=1]\n",
      "Epoch 4:  93%|█████████▎| 1198/1285 [50:34<02:21,  1.63s/batch, batch_nb=1117, gpu=0, loss=0.696, v_nb=1]\n",
      "Epoch 4:  93%|█████████▎| 1199/1285 [50:36<02:24,  1.68s/batch, batch_nb=1117, gpu=0, loss=0.696, v_nb=1]\n",
      "Epoch 4:  93%|█████████▎| 1200/1285 [50:38<02:22,  1.68s/batch, batch_nb=1117, gpu=0, loss=0.696, v_nb=1]\n",
      "Epoch 4:  93%|█████████▎| 1201/1285 [50:39<02:19,  1.66s/batch, batch_nb=1117, gpu=0, loss=0.696, v_nb=1]\n",
      "Epoch 4:  94%|█████████▎| 1202/1285 [50:41<02:20,  1.69s/batch, batch_nb=1117, gpu=0, loss=0.696, v_nb=1]\n",
      "Epoch 4:  94%|█████████▎| 1203/1285 [50:43<02:17,  1.67s/batch, batch_nb=1117, gpu=0, loss=0.696, v_nb=1]\n",
      "Epoch 4:  94%|█████████▎| 1204/1285 [50:44<02:11,  1.63s/batch, batch_nb=1117, gpu=0, loss=0.696, v_nb=1]\n",
      "Epoch 4:  94%|█████████▍| 1205/1285 [50:46<02:09,  1.61s/batch, batch_nb=1117, gpu=0, loss=0.696, v_nb=1]\n",
      "Epoch 4:  94%|█████████▍| 1206/1285 [50:48<02:08,  1.63s/batch, batch_nb=1117, gpu=0, loss=0.696, v_nb=1]\n",
      "Epoch 4:  94%|█████████▍| 1207/1285 [50:49<02:05,  1.61s/batch, batch_nb=1117, gpu=0, loss=0.696, v_nb=1]\n",
      "Epoch 4:  94%|█████████▍| 1208/1285 [50:51<02:02,  1.60s/batch, batch_nb=1117, gpu=0, loss=0.696, v_nb=1]\n",
      "Epoch 4:  94%|█████████▍| 1209/1285 [50:52<02:00,  1.58s/batch, batch_nb=1117, gpu=0, loss=0.696, v_nb=1]\n",
      "Epoch 4:  94%|█████████▍| 1210/1285 [50:54<02:04,  1.66s/batch, batch_nb=1117, gpu=0, loss=0.696, v_nb=1]\n",
      "Epoch 4:  94%|█████████▍| 1211/1285 [50:56<02:02,  1.66s/batch, batch_nb=1117, gpu=0, loss=0.696, v_nb=1]\n",
      "Epoch 4:  94%|█████████▍| 1212/1285 [50:58<02:03,  1.69s/batch, batch_nb=1117, gpu=0, loss=0.696, v_nb=1]\n",
      "Epoch 4:  94%|█████████▍| 1213/1285 [50:59<01:58,  1.64s/batch, batch_nb=1117, gpu=0, loss=0.696, v_nb=1]\n",
      "Epoch 4:  94%|█████████▍| 1214/1285 [51:01<02:00,  1.69s/batch, batch_nb=1117, gpu=0, loss=0.696, v_nb=1]\n",
      "Epoch 4:  95%|█████████▍| 1215/1285 [51:02<01:54,  1.64s/batch, batch_nb=1117, gpu=0, loss=0.696, v_nb=1]\n",
      "Epoch 4:  95%|█████████▍| 1216/1285 [51:04<01:59,  1.73s/batch, batch_nb=1117, gpu=0, loss=0.696, v_nb=1]\n",
      "Epoch 4:  95%|█████████▍| 1217/1285 [51:06<01:52,  1.66s/batch, batch_nb=1117, gpu=0, loss=0.696, v_nb=1]\n",
      "Epoch 4:  95%|█████████▍| 1218/1285 [51:08<01:53,  1.69s/batch, batch_nb=1117, gpu=0, loss=0.696, v_nb=1]\n",
      "Epoch 4:  95%|█████████▍| 1219/1285 [51:09<01:52,  1.70s/batch, batch_nb=1117, gpu=0, loss=0.696, v_nb=1]\n",
      "Epoch 4:  95%|█████████▍| 1220/1285 [51:11<01:48,  1.67s/batch, batch_nb=1117, gpu=0, loss=0.696, v_nb=1]\n"
     ]
    },
    {
     "name": "stderr",
     "output_type": "stream",
     "text": [
      "Epoch 4:  95%|█████████▌| 1221/1285 [51:13<01:51,  1.74s/batch, batch_nb=1117, gpu=0, loss=0.696, v_nb=1]\n",
      "Epoch 4:  95%|█████████▌| 1222/1285 [51:14<01:47,  1.70s/batch, batch_nb=1117, gpu=0, loss=0.696, v_nb=1]\n",
      "Epoch 4:  95%|█████████▌| 1223/1285 [51:16<01:43,  1.67s/batch, batch_nb=1117, gpu=0, loss=0.696, v_nb=1]\n",
      "Epoch 4:  95%|█████████▌| 1224/1285 [51:18<01:40,  1.65s/batch, batch_nb=1117, gpu=0, loss=0.696, v_nb=1]\n",
      "Epoch 4:  95%|█████████▌| 1225/1285 [51:19<01:39,  1.65s/batch, batch_nb=1117, gpu=0, loss=0.696, v_nb=1]\n",
      "Epoch 4:  95%|█████████▌| 1226/1285 [51:21<01:35,  1.62s/batch, batch_nb=1117, gpu=0, loss=0.696, v_nb=1]\n",
      "Epoch 4:  95%|█████████▌| 1227/1285 [51:22<01:32,  1.59s/batch, batch_nb=1117, gpu=0, loss=0.696, v_nb=1]\n",
      "Epoch 4:  96%|█████████▌| 1228/1285 [51:24<01:29,  1.57s/batch, batch_nb=1117, gpu=0, loss=0.696, v_nb=1]\n",
      "Epoch 4:  96%|█████████▌| 1229/1285 [51:25<01:25,  1.53s/batch, batch_nb=1117, gpu=0, loss=0.696, v_nb=1]\n",
      "Epoch 4:  96%|█████████▌| 1230/1285 [51:27<01:24,  1.54s/batch, batch_nb=1117, gpu=0, loss=0.696, v_nb=1]\n",
      "Epoch 4:  96%|█████████▌| 1231/1285 [51:29<01:27,  1.62s/batch, batch_nb=1117, gpu=0, loss=0.696, v_nb=1]\n",
      "Epoch 4:  96%|█████████▌| 1232/1285 [51:30<01:26,  1.64s/batch, batch_nb=1117, gpu=0, loss=0.696, v_nb=1]\n",
      "Epoch 4:  96%|█████████▌| 1233/1285 [51:32<01:24,  1.63s/batch, batch_nb=1117, gpu=0, loss=0.696, v_nb=1]\n",
      "Epoch 4:  96%|█████████▌| 1234/1285 [51:34<01:26,  1.69s/batch, batch_nb=1117, gpu=0, loss=0.696, v_nb=1]\n",
      "Epoch 4:  96%|█████████▌| 1235/1285 [51:35<01:22,  1.66s/batch, batch_nb=1117, gpu=0, loss=0.696, v_nb=1]\n",
      "Epoch 4:  96%|█████████▌| 1236/1285 [51:37<01:21,  1.67s/batch, batch_nb=1117, gpu=0, loss=0.696, v_nb=1]\n",
      "Epoch 4:  96%|█████████▋| 1237/1285 [51:39<01:18,  1.64s/batch, batch_nb=1117, gpu=0, loss=0.696, v_nb=1]\n",
      "Epoch 4:  96%|█████████▋| 1238/1285 [51:40<01:19,  1.69s/batch, batch_nb=1117, gpu=0, loss=0.696, v_nb=1]\n",
      "Epoch 4:  96%|█████████▋| 1239/1285 [51:42<01:17,  1.68s/batch, batch_nb=1117, gpu=0, loss=0.696, v_nb=1]\n",
      "Epoch 4:  96%|█████████▋| 1240/1285 [51:44<01:14,  1.65s/batch, batch_nb=1117, gpu=0, loss=0.696, v_nb=1]\n",
      "Epoch 4:  97%|█████████▋| 1241/1285 [51:45<01:12,  1.64s/batch, batch_nb=1117, gpu=0, loss=0.696, v_nb=1]\n",
      "Epoch 4:  97%|█████████▋| 1242/1285 [51:47<01:12,  1.69s/batch, batch_nb=1117, gpu=0, loss=0.696, v_nb=1]\n",
      "Epoch 4:  97%|█████████▋| 1243/1285 [51:49<01:10,  1.67s/batch, batch_nb=1117, gpu=0, loss=0.696, v_nb=1]\n",
      "Epoch 4:  97%|█████████▋| 1244/1285 [51:50<01:08,  1.68s/batch, batch_nb=1117, gpu=0, loss=0.696, v_nb=1]\n",
      "Epoch 4:  97%|█████████▋| 1245/1285 [51:52<01:08,  1.72s/batch, batch_nb=1117, gpu=0, loss=0.696, v_nb=1]\n",
      "Epoch 4:  97%|█████████▋| 1246/1285 [51:54<01:04,  1.66s/batch, batch_nb=1117, gpu=0, loss=0.696, v_nb=1]\n",
      "Epoch 4:  97%|█████████▋| 1247/1285 [51:55<01:01,  1.63s/batch, batch_nb=1117, gpu=0, loss=0.696, v_nb=1]\n",
      "Epoch 4:  97%|█████████▋| 1248/1285 [51:57<00:58,  1.58s/batch, batch_nb=1117, gpu=0, loss=0.696, v_nb=1]\n",
      "Epoch 4:  97%|█████████▋| 1249/1285 [51:58<00:57,  1.58s/batch, batch_nb=1117, gpu=0, loss=0.696, v_nb=1]\n",
      "Epoch 4:  97%|█████████▋| 1250/1285 [52:00<00:56,  1.61s/batch, batch_nb=1117, gpu=0, loss=0.696, v_nb=1]\n",
      "Epoch 4:  97%|█████████▋| 1251/1285 [52:02<00:56,  1.65s/batch, batch_nb=1117, gpu=0, loss=0.696, v_nb=1]\n",
      "Epoch 4:  97%|█████████▋| 1252/1285 [52:03<00:54,  1.66s/batch, batch_nb=1117, gpu=0, loss=0.696, v_nb=1]\n",
      "Epoch 4:  98%|█████████▊| 1253/1285 [52:05<00:53,  1.67s/batch, batch_nb=1117, gpu=0, loss=0.696, v_nb=1]\n",
      "Epoch 4:  98%|█████████▊| 1254/1285 [52:07<00:54,  1.76s/batch, batch_nb=1117, gpu=0, loss=0.696, v_nb=1]\n",
      "Epoch 4:  98%|█████████▊| 1255/1285 [52:09<00:51,  1.70s/batch, batch_nb=1117, gpu=0, loss=0.696, v_nb=1]\n",
      "Epoch 4:  98%|█████████▊| 1256/1285 [52:10<00:50,  1.73s/batch, batch_nb=1117, gpu=0, loss=0.696, v_nb=1]\n",
      "Epoch 4:  98%|█████████▊| 1257/1285 [52:12<00:46,  1.67s/batch, batch_nb=1117, gpu=0, loss=0.696, v_nb=1]\n",
      "Epoch 4:  98%|█████████▊| 1258/1285 [52:14<00:44,  1.66s/batch, batch_nb=1117, gpu=0, loss=0.696, v_nb=1]\n",
      "Epoch 4:  98%|█████████▊| 1259/1285 [52:15<00:43,  1.68s/batch, batch_nb=1117, gpu=0, loss=0.696, v_nb=1]\n",
      "Epoch 4:  98%|█████████▊| 1260/1285 [52:17<00:41,  1.65s/batch, batch_nb=1117, gpu=0, loss=0.696, v_nb=1]\n",
      "Epoch 4:  98%|█████████▊| 1261/1285 [52:19<00:41,  1.75s/batch, batch_nb=1117, gpu=0, loss=0.696, v_nb=1]\n",
      "Epoch 4:  98%|█████████▊| 1262/1285 [52:21<00:39,  1.70s/batch, batch_nb=1117, gpu=0, loss=0.696, v_nb=1]\n",
      "Epoch 4:  98%|█████████▊| 1263/1285 [52:22<00:35,  1.63s/batch, batch_nb=1117, gpu=0, loss=0.696, v_nb=1]\n",
      "Epoch 4:  98%|█████████▊| 1264/1285 [52:24<00:34,  1.63s/batch, batch_nb=1117, gpu=0, loss=0.696, v_nb=1]\n",
      "Epoch 4:  98%|█████████▊| 1265/1285 [52:25<00:32,  1.64s/batch, batch_nb=1117, gpu=0, loss=0.696, v_nb=1]\n",
      "Epoch 4:  99%|█████████▊| 1266/1285 [52:27<00:31,  1.67s/batch, batch_nb=1117, gpu=0, loss=0.696, v_nb=1]\n",
      "Epoch 4:  99%|█████████▊| 1267/1285 [52:28<00:28,  1.60s/batch, batch_nb=1117, gpu=0, loss=0.696, v_nb=1]\n",
      "Epoch 4:  99%|█████████▊| 1268/1285 [52:30<00:27,  1.60s/batch, batch_nb=1117, gpu=0, loss=0.696, v_nb=1]\n",
      "Epoch 4:  99%|█████████▉| 1269/1285 [52:32<00:25,  1.58s/batch, batch_nb=1117, gpu=0, loss=0.696, v_nb=1]\n",
      "Epoch 4:  99%|█████████▉| 1270/1285 [52:33<00:23,  1.57s/batch, batch_nb=1117, gpu=0, loss=0.696, v_nb=1]\n",
      "Epoch 4:  99%|█████████▉| 1271/1285 [52:35<00:22,  1.61s/batch, batch_nb=1117, gpu=0, loss=0.696, v_nb=1]\n",
      "Epoch 4:  99%|█████████▉| 1272/1285 [52:36<00:20,  1.58s/batch, batch_nb=1117, gpu=0, loss=0.696, v_nb=1]\n",
      "Epoch 4:  99%|█████████▉| 1273/1285 [52:38<00:19,  1.60s/batch, batch_nb=1117, gpu=0, loss=0.696, v_nb=1]\n",
      "Epoch 4:  99%|█████████▉| 1274/1285 [52:40<00:17,  1.58s/batch, batch_nb=1117, gpu=0, loss=0.696, v_nb=1]\n",
      "Epoch 4:  99%|█████████▉| 1275/1285 [52:41<00:16,  1.60s/batch, batch_nb=1117, gpu=0, loss=0.696, v_nb=1]\n",
      "Epoch 4:  99%|█████████▉| 1276/1285 [52:43<00:14,  1.62s/batch, batch_nb=1117, gpu=0, loss=0.696, v_nb=1]\n",
      "Epoch 4:  99%|█████████▉| 1277/1285 [52:44<00:12,  1.60s/batch, batch_nb=1117, gpu=0, loss=0.696, v_nb=1]\n",
      "Epoch 4:  99%|█████████▉| 1278/1285 [52:46<00:10,  1.53s/batch, batch_nb=1117, gpu=0, loss=0.696, v_nb=1]\n",
      "Epoch 4: 100%|█████████▉| 1279/1285 [52:47<00:09,  1.53s/batch, batch_nb=1117, gpu=0, loss=0.696, v_nb=1]\n",
      "Epoch 4: 100%|█████████▉| 1280/1285 [52:49<00:07,  1.57s/batch, batch_nb=1117, gpu=0, loss=0.696, v_nb=1]\n",
      "Epoch 4: 100%|█████████▉| 1281/1285 [52:51<00:06,  1.58s/batch, batch_nb=1117, gpu=0, loss=0.696, v_nb=1]\n",
      "Epoch 4: 100%|█████████▉| 1282/1285 [52:52<00:04,  1.55s/batch, batch_nb=1117, gpu=0, loss=0.696, v_nb=1]\n",
      "Epoch 4: 100%|█████████▉| 1283/1285 [52:54<00:03,  1.61s/batch, batch_nb=1117, gpu=0, loss=0.696, v_nb=1]\n",
      "Epoch 4: 100%|█████████▉| 1284/1285 [52:55<00:01,  1.61s/batch, batch_nb=1117, gpu=0, loss=0.696, v_nb=1]\n",
      "Epoch 4: 100%|██████████| 1285/1285 [52:57<00:00,  1.55s/batch, batch_nb=1117, gpu=0, loss=0.696, v_nb=1]\n",
      "Epoch 5:  15%|█▌        | 199/1285 [08:32<47:42,  2.64s/batch, batch_nb=198, gpu=0, loss=0.697, v_nb=1]  "
     ]
    },
    {
     "ename": "KeyboardInterrupt",
     "evalue": "",
     "output_type": "error",
     "traceback": [
      "\u001b[0;31m---------------------------------------------------------------------------\u001b[0m",
      "\u001b[0;31mKeyboardInterrupt\u001b[0m                         Traceback (most recent call last)",
      "\u001b[0;32m<ipython-input-7-45d4afebefac>\u001b[0m in \u001b[0;36m<module>\u001b[0;34m\u001b[0m\n\u001b[0;32m----> 1\u001b[0;31m \u001b[0mtrainer\u001b[0m\u001b[0;34m.\u001b[0m\u001b[0mfit\u001b[0m\u001b[0;34m(\u001b[0m\u001b[0mmodel\u001b[0m\u001b[0;34m)\u001b[0m\u001b[0;34m\u001b[0m\u001b[0;34m\u001b[0m\u001b[0m\n\u001b[0m",
      "\u001b[0;32m~/anaconda3/lib/python3.7/site-packages/pytorch_lightning/trainer/trainer.py\u001b[0m in \u001b[0;36mfit\u001b[0;34m(self, model)\u001b[0m\n\u001b[1;32m    349\u001b[0m \u001b[0;34m\u001b[0m\u001b[0m\n\u001b[1;32m    350\u001b[0m         \u001b[0;32melif\u001b[0m \u001b[0mself\u001b[0m\u001b[0;34m.\u001b[0m\u001b[0msingle_gpu\u001b[0m\u001b[0;34m:\u001b[0m\u001b[0;34m\u001b[0m\u001b[0;34m\u001b[0m\u001b[0m\n\u001b[0;32m--> 351\u001b[0;31m             \u001b[0mself\u001b[0m\u001b[0;34m.\u001b[0m\u001b[0msingle_gpu_train\u001b[0m\u001b[0;34m(\u001b[0m\u001b[0mmodel\u001b[0m\u001b[0;34m)\u001b[0m\u001b[0;34m\u001b[0m\u001b[0;34m\u001b[0m\u001b[0m\n\u001b[0m\u001b[1;32m    352\u001b[0m \u001b[0;34m\u001b[0m\u001b[0m\n\u001b[1;32m    353\u001b[0m         \u001b[0;31m# ON CPU\u001b[0m\u001b[0;34m\u001b[0m\u001b[0;34m\u001b[0m\u001b[0;34m\u001b[0m\u001b[0m\n",
      "\u001b[0;32m~/anaconda3/lib/python3.7/site-packages/pytorch_lightning/trainer/dp_mixin.py\u001b[0m in \u001b[0;36msingle_gpu_train\u001b[0;34m(self, model)\u001b[0m\n\u001b[1;32m     75\u001b[0m             \u001b[0mself\u001b[0m\u001b[0;34m.\u001b[0m\u001b[0moptimizers\u001b[0m \u001b[0;34m=\u001b[0m \u001b[0moptimizers\u001b[0m\u001b[0;34m\u001b[0m\u001b[0;34m\u001b[0m\u001b[0m\n\u001b[1;32m     76\u001b[0m \u001b[0;34m\u001b[0m\u001b[0m\n\u001b[0;32m---> 77\u001b[0;31m         \u001b[0mself\u001b[0m\u001b[0;34m.\u001b[0m\u001b[0mrun_pretrain_routine\u001b[0m\u001b[0;34m(\u001b[0m\u001b[0mmodel\u001b[0m\u001b[0;34m)\u001b[0m\u001b[0;34m\u001b[0m\u001b[0;34m\u001b[0m\u001b[0m\n\u001b[0m\u001b[1;32m     78\u001b[0m \u001b[0;34m\u001b[0m\u001b[0m\n\u001b[1;32m     79\u001b[0m     \u001b[0;32mdef\u001b[0m \u001b[0mdp_train\u001b[0m\u001b[0;34m(\u001b[0m\u001b[0mself\u001b[0m\u001b[0;34m,\u001b[0m \u001b[0mmodel\u001b[0m\u001b[0;34m)\u001b[0m\u001b[0;34m:\u001b[0m\u001b[0;34m\u001b[0m\u001b[0;34m\u001b[0m\u001b[0m\n",
      "\u001b[0;32m~/anaconda3/lib/python3.7/site-packages/pytorch_lightning/trainer/trainer.py\u001b[0m in \u001b[0;36mrun_pretrain_routine\u001b[0;34m(self, model)\u001b[0m\n\u001b[1;32m    469\u001b[0m \u001b[0;34m\u001b[0m\u001b[0m\n\u001b[1;32m    470\u001b[0m         \u001b[0;31m# CORE TRAINING LOOP\u001b[0m\u001b[0;34m\u001b[0m\u001b[0;34m\u001b[0m\u001b[0;34m\u001b[0m\u001b[0m\n\u001b[0;32m--> 471\u001b[0;31m         \u001b[0mself\u001b[0m\u001b[0;34m.\u001b[0m\u001b[0mtrain\u001b[0m\u001b[0;34m(\u001b[0m\u001b[0;34m)\u001b[0m\u001b[0;34m\u001b[0m\u001b[0;34m\u001b[0m\u001b[0m\n\u001b[0m\u001b[1;32m    472\u001b[0m \u001b[0;34m\u001b[0m\u001b[0m\n\u001b[1;32m    473\u001b[0m     \u001b[0;32mdef\u001b[0m \u001b[0mtest\u001b[0m\u001b[0;34m(\u001b[0m\u001b[0mself\u001b[0m\u001b[0;34m,\u001b[0m \u001b[0mmodel\u001b[0m\u001b[0;34m=\u001b[0m\u001b[0;32mNone\u001b[0m\u001b[0;34m)\u001b[0m\u001b[0;34m:\u001b[0m\u001b[0;34m\u001b[0m\u001b[0;34m\u001b[0m\u001b[0m\n",
      "\u001b[0;32m~/anaconda3/lib/python3.7/site-packages/pytorch_lightning/trainer/train_loop_mixin.py\u001b[0m in \u001b[0;36mtrain\u001b[0;34m(self)\u001b[0m\n\u001b[1;32m     58\u001b[0m             \u001b[0;31m# RUN TNG EPOCH\u001b[0m\u001b[0;34m\u001b[0m\u001b[0;34m\u001b[0m\u001b[0;34m\u001b[0m\u001b[0m\n\u001b[1;32m     59\u001b[0m             \u001b[0;31m# -----------------\u001b[0m\u001b[0;34m\u001b[0m\u001b[0;34m\u001b[0m\u001b[0;34m\u001b[0m\u001b[0m\n\u001b[0;32m---> 60\u001b[0;31m             \u001b[0mself\u001b[0m\u001b[0;34m.\u001b[0m\u001b[0mrun_training_epoch\u001b[0m\u001b[0;34m(\u001b[0m\u001b[0;34m)\u001b[0m\u001b[0;34m\u001b[0m\u001b[0;34m\u001b[0m\u001b[0m\n\u001b[0m\u001b[1;32m     61\u001b[0m \u001b[0;34m\u001b[0m\u001b[0m\n\u001b[1;32m     62\u001b[0m             \u001b[0;31m# update LR schedulers\u001b[0m\u001b[0;34m\u001b[0m\u001b[0;34m\u001b[0m\u001b[0;34m\u001b[0m\u001b[0m\n",
      "\u001b[0;32m~/anaconda3/lib/python3.7/site-packages/pytorch_lightning/trainer/train_loop_mixin.py\u001b[0m in \u001b[0;36mrun_training_epoch\u001b[0;34m(self)\u001b[0m\n\u001b[1;32m     88\u001b[0m \u001b[0;34m\u001b[0m\u001b[0m\n\u001b[1;32m     89\u001b[0m         \u001b[0;31m# run epoch\u001b[0m\u001b[0;34m\u001b[0m\u001b[0;34m\u001b[0m\u001b[0;34m\u001b[0m\u001b[0m\n\u001b[0;32m---> 90\u001b[0;31m         \u001b[0;32mfor\u001b[0m \u001b[0mbatch_nb\u001b[0m\u001b[0;34m,\u001b[0m \u001b[0mbatch\u001b[0m \u001b[0;32min\u001b[0m \u001b[0menumerate\u001b[0m\u001b[0;34m(\u001b[0m\u001b[0mself\u001b[0m\u001b[0;34m.\u001b[0m\u001b[0mget_train_dataloader\u001b[0m\u001b[0;34m(\u001b[0m\u001b[0;34m)\u001b[0m\u001b[0;34m)\u001b[0m\u001b[0;34m:\u001b[0m\u001b[0;34m\u001b[0m\u001b[0;34m\u001b[0m\u001b[0m\n\u001b[0m\u001b[1;32m     91\u001b[0m             \u001b[0mself\u001b[0m\u001b[0;34m.\u001b[0m\u001b[0mbatch_nb\u001b[0m \u001b[0;34m=\u001b[0m \u001b[0mbatch_nb\u001b[0m\u001b[0;34m\u001b[0m\u001b[0;34m\u001b[0m\u001b[0m\n\u001b[1;32m     92\u001b[0m \u001b[0;34m\u001b[0m\u001b[0m\n",
      "\u001b[0;32m~/anaconda3/lib/python3.7/site-packages/torch/utils/data/dataloader.py\u001b[0m in \u001b[0;36m__next__\u001b[0;34m(self)\u001b[0m\n\u001b[1;32m    344\u001b[0m     \u001b[0;32mdef\u001b[0m \u001b[0m__next__\u001b[0m\u001b[0;34m(\u001b[0m\u001b[0mself\u001b[0m\u001b[0;34m)\u001b[0m\u001b[0;34m:\u001b[0m\u001b[0;34m\u001b[0m\u001b[0;34m\u001b[0m\u001b[0m\n\u001b[1;32m    345\u001b[0m         \u001b[0mindex\u001b[0m \u001b[0;34m=\u001b[0m \u001b[0mself\u001b[0m\u001b[0;34m.\u001b[0m\u001b[0m_next_index\u001b[0m\u001b[0;34m(\u001b[0m\u001b[0;34m)\u001b[0m  \u001b[0;31m# may raise StopIteration\u001b[0m\u001b[0;34m\u001b[0m\u001b[0;34m\u001b[0m\u001b[0m\n\u001b[0;32m--> 346\u001b[0;31m         \u001b[0mdata\u001b[0m \u001b[0;34m=\u001b[0m \u001b[0mself\u001b[0m\u001b[0;34m.\u001b[0m\u001b[0m_dataset_fetcher\u001b[0m\u001b[0;34m.\u001b[0m\u001b[0mfetch\u001b[0m\u001b[0;34m(\u001b[0m\u001b[0mindex\u001b[0m\u001b[0;34m)\u001b[0m  \u001b[0;31m# may raise StopIteration\u001b[0m\u001b[0;34m\u001b[0m\u001b[0;34m\u001b[0m\u001b[0m\n\u001b[0m\u001b[1;32m    347\u001b[0m         \u001b[0;32mif\u001b[0m \u001b[0mself\u001b[0m\u001b[0;34m.\u001b[0m\u001b[0m_pin_memory\u001b[0m\u001b[0;34m:\u001b[0m\u001b[0;34m\u001b[0m\u001b[0;34m\u001b[0m\u001b[0m\n\u001b[1;32m    348\u001b[0m             \u001b[0mdata\u001b[0m \u001b[0;34m=\u001b[0m \u001b[0m_utils\u001b[0m\u001b[0;34m.\u001b[0m\u001b[0mpin_memory\u001b[0m\u001b[0;34m.\u001b[0m\u001b[0mpin_memory\u001b[0m\u001b[0;34m(\u001b[0m\u001b[0mdata\u001b[0m\u001b[0;34m)\u001b[0m\u001b[0;34m\u001b[0m\u001b[0;34m\u001b[0m\u001b[0m\n",
      "\u001b[0;32m~/anaconda3/lib/python3.7/site-packages/torch/utils/data/_utils/fetch.py\u001b[0m in \u001b[0;36mfetch\u001b[0;34m(self, possibly_batched_index)\u001b[0m\n\u001b[1;32m     42\u001b[0m     \u001b[0;32mdef\u001b[0m \u001b[0mfetch\u001b[0m\u001b[0;34m(\u001b[0m\u001b[0mself\u001b[0m\u001b[0;34m,\u001b[0m \u001b[0mpossibly_batched_index\u001b[0m\u001b[0;34m)\u001b[0m\u001b[0;34m:\u001b[0m\u001b[0;34m\u001b[0m\u001b[0;34m\u001b[0m\u001b[0m\n\u001b[1;32m     43\u001b[0m         \u001b[0;32mif\u001b[0m \u001b[0mself\u001b[0m\u001b[0;34m.\u001b[0m\u001b[0mauto_collation\u001b[0m\u001b[0;34m:\u001b[0m\u001b[0;34m\u001b[0m\u001b[0;34m\u001b[0m\u001b[0m\n\u001b[0;32m---> 44\u001b[0;31m             \u001b[0mdata\u001b[0m \u001b[0;34m=\u001b[0m \u001b[0;34m[\u001b[0m\u001b[0mself\u001b[0m\u001b[0;34m.\u001b[0m\u001b[0mdataset\u001b[0m\u001b[0;34m[\u001b[0m\u001b[0midx\u001b[0m\u001b[0;34m]\u001b[0m \u001b[0;32mfor\u001b[0m \u001b[0midx\u001b[0m \u001b[0;32min\u001b[0m \u001b[0mpossibly_batched_index\u001b[0m\u001b[0;34m]\u001b[0m\u001b[0;34m\u001b[0m\u001b[0;34m\u001b[0m\u001b[0m\n\u001b[0m\u001b[1;32m     45\u001b[0m         \u001b[0;32melse\u001b[0m\u001b[0;34m:\u001b[0m\u001b[0;34m\u001b[0m\u001b[0;34m\u001b[0m\u001b[0m\n\u001b[1;32m     46\u001b[0m             \u001b[0mdata\u001b[0m \u001b[0;34m=\u001b[0m \u001b[0mself\u001b[0m\u001b[0;34m.\u001b[0m\u001b[0mdataset\u001b[0m\u001b[0;34m[\u001b[0m\u001b[0mpossibly_batched_index\u001b[0m\u001b[0;34m]\u001b[0m\u001b[0;34m\u001b[0m\u001b[0;34m\u001b[0m\u001b[0m\n",
      "\u001b[0;32m~/anaconda3/lib/python3.7/site-packages/torch/utils/data/_utils/fetch.py\u001b[0m in \u001b[0;36m<listcomp>\u001b[0;34m(.0)\u001b[0m\n\u001b[1;32m     42\u001b[0m     \u001b[0;32mdef\u001b[0m \u001b[0mfetch\u001b[0m\u001b[0;34m(\u001b[0m\u001b[0mself\u001b[0m\u001b[0;34m,\u001b[0m \u001b[0mpossibly_batched_index\u001b[0m\u001b[0;34m)\u001b[0m\u001b[0;34m:\u001b[0m\u001b[0;34m\u001b[0m\u001b[0;34m\u001b[0m\u001b[0m\n\u001b[1;32m     43\u001b[0m         \u001b[0;32mif\u001b[0m \u001b[0mself\u001b[0m\u001b[0;34m.\u001b[0m\u001b[0mauto_collation\u001b[0m\u001b[0;34m:\u001b[0m\u001b[0;34m\u001b[0m\u001b[0;34m\u001b[0m\u001b[0m\n\u001b[0;32m---> 44\u001b[0;31m             \u001b[0mdata\u001b[0m \u001b[0;34m=\u001b[0m \u001b[0;34m[\u001b[0m\u001b[0mself\u001b[0m\u001b[0;34m.\u001b[0m\u001b[0mdataset\u001b[0m\u001b[0;34m[\u001b[0m\u001b[0midx\u001b[0m\u001b[0;34m]\u001b[0m \u001b[0;32mfor\u001b[0m \u001b[0midx\u001b[0m \u001b[0;32min\u001b[0m \u001b[0mpossibly_batched_index\u001b[0m\u001b[0;34m]\u001b[0m\u001b[0;34m\u001b[0m\u001b[0;34m\u001b[0m\u001b[0m\n\u001b[0m\u001b[1;32m     45\u001b[0m         \u001b[0;32melse\u001b[0m\u001b[0;34m:\u001b[0m\u001b[0;34m\u001b[0m\u001b[0;34m\u001b[0m\u001b[0m\n\u001b[1;32m     46\u001b[0m             \u001b[0mdata\u001b[0m \u001b[0;34m=\u001b[0m \u001b[0mself\u001b[0m\u001b[0;34m.\u001b[0m\u001b[0mdataset\u001b[0m\u001b[0;34m[\u001b[0m\u001b[0mpossibly_batched_index\u001b[0m\u001b[0;34m]\u001b[0m\u001b[0;34m\u001b[0m\u001b[0;34m\u001b[0m\u001b[0m\n",
      "\u001b[0;32m~/github_projects/video-classification/notebooks/video_dataset.py\u001b[0m in \u001b[0;36m__getitem__\u001b[0;34m(self, idx)\u001b[0m\n\u001b[1;32m    115\u001b[0m \u001b[0;34m\u001b[0m\u001b[0m\n\u001b[1;32m    116\u001b[0m     \u001b[0;32mdef\u001b[0m \u001b[0m__getitem__\u001b[0m\u001b[0;34m(\u001b[0m\u001b[0mself\u001b[0m\u001b[0;34m,\u001b[0m \u001b[0midx\u001b[0m\u001b[0;34m)\u001b[0m\u001b[0;34m:\u001b[0m\u001b[0;34m\u001b[0m\u001b[0;34m\u001b[0m\u001b[0m\n\u001b[0;32m--> 117\u001b[0;31m         \u001b[0mvideo\u001b[0m\u001b[0;34m,\u001b[0m \u001b[0maudio\u001b[0m\u001b[0;34m,\u001b[0m \u001b[0minfo\u001b[0m\u001b[0;34m,\u001b[0m \u001b[0mvideo_idx\u001b[0m \u001b[0;34m=\u001b[0m \u001b[0mself\u001b[0m\u001b[0;34m.\u001b[0m\u001b[0mvideo_clips\u001b[0m\u001b[0;34m.\u001b[0m\u001b[0mget_clip\u001b[0m\u001b[0;34m(\u001b[0m\u001b[0midx\u001b[0m\u001b[0;34m)\u001b[0m\u001b[0;34m\u001b[0m\u001b[0;34m\u001b[0m\u001b[0m\n\u001b[0m\u001b[1;32m    118\u001b[0m         \u001b[0mlabel\u001b[0m \u001b[0;34m=\u001b[0m \u001b[0mself\u001b[0m\u001b[0;34m.\u001b[0m\u001b[0msamples\u001b[0m\u001b[0;34m[\u001b[0m\u001b[0mvideo_idx\u001b[0m\u001b[0;34m]\u001b[0m\u001b[0;34m[\u001b[0m\u001b[0;36m1\u001b[0m\u001b[0;34m]\u001b[0m\u001b[0;34m\u001b[0m\u001b[0;34m\u001b[0m\u001b[0m\n\u001b[1;32m    119\u001b[0m \u001b[0;34m\u001b[0m\u001b[0m\n",
      "\u001b[0;32m~/github_projects/video-classification/notebooks/visionmod/video_utils.py\u001b[0m in \u001b[0;36mget_clip\u001b[0;34m(self, idx)\u001b[0m\n\u001b[1;32m    268\u001b[0m             \u001b[0mstart_pts\u001b[0m \u001b[0;34m=\u001b[0m \u001b[0mvideo_pts\u001b[0m\u001b[0;34m[\u001b[0m\u001b[0;36m0\u001b[0m\u001b[0;34m]\u001b[0m\u001b[0;34m.\u001b[0m\u001b[0mitem\u001b[0m\u001b[0;34m(\u001b[0m\u001b[0;34m)\u001b[0m\u001b[0;34m\u001b[0m\u001b[0;34m\u001b[0m\u001b[0m\n\u001b[1;32m    269\u001b[0m             \u001b[0mend_pts\u001b[0m \u001b[0;34m=\u001b[0m \u001b[0mvideo_pts\u001b[0m\u001b[0;34m[\u001b[0m\u001b[0;34m-\u001b[0m\u001b[0;36m1\u001b[0m\u001b[0;34m]\u001b[0m\u001b[0;34m.\u001b[0m\u001b[0mitem\u001b[0m\u001b[0;34m(\u001b[0m\u001b[0;34m)\u001b[0m\u001b[0;34m\u001b[0m\u001b[0;34m\u001b[0m\u001b[0m\n\u001b[0;32m--> 270\u001b[0;31m             \u001b[0mvideo\u001b[0m\u001b[0;34m,\u001b[0m \u001b[0maudio\u001b[0m\u001b[0;34m,\u001b[0m \u001b[0minfo\u001b[0m \u001b[0;34m=\u001b[0m \u001b[0mread_video\u001b[0m\u001b[0;34m(\u001b[0m\u001b[0mvideo_path\u001b[0m\u001b[0;34m,\u001b[0m \u001b[0mstart_pts\u001b[0m\u001b[0;34m,\u001b[0m \u001b[0mend_pts\u001b[0m\u001b[0;34m)\u001b[0m\u001b[0;34m\u001b[0m\u001b[0;34m\u001b[0m\u001b[0m\n\u001b[0m\u001b[1;32m    271\u001b[0m         \u001b[0;32melse\u001b[0m\u001b[0;34m:\u001b[0m\u001b[0;34m\u001b[0m\u001b[0;34m\u001b[0m\u001b[0m\n\u001b[1;32m    272\u001b[0m             \u001b[0minfo\u001b[0m \u001b[0;34m=\u001b[0m \u001b[0m_probe_video_from_file\u001b[0m\u001b[0;34m(\u001b[0m\u001b[0mvideo_path\u001b[0m\u001b[0;34m)\u001b[0m\u001b[0;34m\u001b[0m\u001b[0;34m\u001b[0m\u001b[0m\n",
      "\u001b[0;32m~/anaconda3/lib/python3.7/site-packages/torchvision/io/video.py\u001b[0m in \u001b[0;36mread_video\u001b[0;34m(filename, start_pts, end_pts, pts_unit)\u001b[0m\n\u001b[1;32m    226\u001b[0m \u001b[0;34m\u001b[0m\u001b[0m\n\u001b[1;32m    227\u001b[0m     \u001b[0;32mtry\u001b[0m\u001b[0;34m:\u001b[0m\u001b[0;34m\u001b[0m\u001b[0;34m\u001b[0m\u001b[0m\n\u001b[0;32m--> 228\u001b[0;31m         \u001b[0mcontainer\u001b[0m \u001b[0;34m=\u001b[0m \u001b[0mav\u001b[0m\u001b[0;34m.\u001b[0m\u001b[0mopen\u001b[0m\u001b[0;34m(\u001b[0m\u001b[0mfilename\u001b[0m\u001b[0;34m,\u001b[0m \u001b[0mmetadata_errors\u001b[0m\u001b[0;34m=\u001b[0m\u001b[0;34m'ignore'\u001b[0m\u001b[0;34m)\u001b[0m\u001b[0;34m\u001b[0m\u001b[0;34m\u001b[0m\u001b[0m\n\u001b[0m\u001b[1;32m    229\u001b[0m     \u001b[0;32mexcept\u001b[0m \u001b[0mav\u001b[0m\u001b[0;34m.\u001b[0m\u001b[0mAVError\u001b[0m\u001b[0;34m:\u001b[0m\u001b[0;34m\u001b[0m\u001b[0;34m\u001b[0m\u001b[0m\n\u001b[1;32m    230\u001b[0m         \u001b[0;31m# TODO raise a warning?\u001b[0m\u001b[0;34m\u001b[0m\u001b[0;34m\u001b[0m\u001b[0;34m\u001b[0m\u001b[0m\n",
      "\u001b[0;32mav/container/core.pyx\u001b[0m in \u001b[0;36mav.container.core.open\u001b[0;34m()\u001b[0m\n",
      "\u001b[0;32mav/container/input.pyx\u001b[0m in \u001b[0;36mav.container.input.InputContainer.__cinit__\u001b[0;34m()\u001b[0m\n",
      "\u001b[0;32mav/stream.pyx\u001b[0m in \u001b[0;36mav.stream.wrap_stream\u001b[0;34m()\u001b[0m\n",
      "\u001b[0;32m~/anaconda3/lib/python3.7/importlib/_bootstrap.py\u001b[0m in \u001b[0;36mparent\u001b[0;34m(self)\u001b[0m\n",
      "\u001b[0;31mKeyboardInterrupt\u001b[0m: "
     ]
    }
   ],
   "source": [
    "trainer.fit(model)"
   ]
  },
  {
   "cell_type": "code",
   "execution_count": 13,
   "metadata": {
    "ExecuteTime": {
     "end_time": "2019-12-20T17:13:57.914147Z",
     "start_time": "2019-12-20T17:13:57.910100Z"
    }
   },
   "outputs": [
    {
     "data": {
      "text/plain": [
       "<pytorch_lightning.logging.test_tube_logger.TestTubeLogger at 0x7fb128dd4450>"
      ]
     },
     "execution_count": 13,
     "metadata": {},
     "output_type": "execute_result"
    }
   ],
   "source": [
    "model.logger()"
   ]
  },
  {
   "cell_type": "code",
   "execution_count": null,
   "metadata": {},
   "outputs": [],
   "source": []
  },
  {
   "cell_type": "code",
   "execution_count": null,
   "metadata": {},
   "outputs": [],
   "source": []
  },
  {
   "cell_type": "code",
   "execution_count": null,
   "metadata": {},
   "outputs": [],
   "source": []
  },
  {
   "cell_type": "code",
   "execution_count": null,
   "metadata": {},
   "outputs": [],
   "source": []
  }
 ],
 "metadata": {
  "kernelspec": {
   "display_name": "Python 3",
   "language": "python",
   "name": "python3"
  },
  "language_info": {
   "codemirror_mode": {
    "name": "ipython",
    "version": 3
   },
   "file_extension": ".py",
   "mimetype": "text/x-python",
   "name": "python",
   "nbconvert_exporter": "python",
   "pygments_lexer": "ipython3",
   "version": "3.7.4"
  },
  "toc": {
   "base_numbering": 1,
   "nav_menu": {},
   "number_sections": true,
   "sideBar": true,
   "skip_h1_title": false,
   "title_cell": "Table of Contents",
   "title_sidebar": "Contents",
   "toc_cell": false,
   "toc_position": {},
   "toc_section_display": true,
   "toc_window_display": false
  }
 },
 "nbformat": 4,
 "nbformat_minor": 2
}
