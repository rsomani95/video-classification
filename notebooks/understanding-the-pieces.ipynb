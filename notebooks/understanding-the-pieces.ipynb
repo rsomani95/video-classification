{
 "cells": [
  {
   "cell_type": "markdown",
   "metadata": {
    "heading_collapsed": true
   },
   "source": [
    "## Initial Imports"
   ]
  },
  {
   "cell_type": "code",
   "execution_count": 1,
   "metadata": {
    "ExecuteTime": {
     "end_time": "2019-11-02T18:16:37.798289Z",
     "start_time": "2019-11-02T18:16:36.229643Z"
    },
    "hidden": true
   },
   "outputs": [],
   "source": [
    "import torch\n",
    "import torch.nn as nn\n",
    "import torchvision\n",
    "import pandas as pd\n",
    "import matplotlib.pyplot as plt\n",
    "\n",
    "from pathlib import Path\n",
    "from torchvision.datasets.kinetics import Kinetics400\n",
    "from IPython.display import Video\n",
    "\n",
    "Path.ls = lambda x: [o.name for o in x.iterdir()]"
   ]
  },
  {
   "cell_type": "markdown",
   "metadata": {
    "heading_collapsed": true,
    "hidden": true
   },
   "source": [
    "### Video Transformations from [`pytorch/vision/references/video_classification/transforms.py` ](https://github.com/pytorch/vision/blob/master/references/video_classification/transforms.py)"
   ]
  },
  {
   "cell_type": "code",
   "execution_count": 2,
   "metadata": {
    "ExecuteTime": {
     "end_time": "2019-11-02T18:16:37.898429Z",
     "start_time": "2019-11-02T18:16:37.801876Z"
    },
    "hidden": true
   },
   "outputs": [],
   "source": [
    "import torch\n",
    "import random\n",
    "\n",
    "\n",
    "def crop(vid, i, j, h, w):\n",
    "    return vid[..., i:(i + h), j:(j + w)]\n",
    "\n",
    "\n",
    "def center_crop(vid, output_size):\n",
    "    h, w = vid.shape[-2:]\n",
    "    th, tw = output_size\n",
    "\n",
    "    i = int(round((h - th) / 2.))\n",
    "    j = int(round((w - tw) / 2.))\n",
    "    return crop(vid, i, j, th, tw)\n",
    "\n",
    "\n",
    "def hflip(vid):\n",
    "    return vid.flip(dims=(-1,))\n",
    "\n",
    "\n",
    "# NOTE: for those functions, which generally expect mini-batches, we keep them\n",
    "# as non-minibatch so that they are applied as if they were 4d (thus image).\n",
    "# this way, we only apply the transformation in the spatial domain\n",
    "def resize(vid, size, interpolation='bilinear'):\n",
    "    # NOTE: using bilinear interpolation because we don't work on minibatches\n",
    "    # at this level\n",
    "    scale = None\n",
    "    if isinstance(size, int):\n",
    "        scale = float(size) / min(vid.shape[-2:])\n",
    "        size = None\n",
    "    return torch.nn.functional.interpolate(\n",
    "        vid, size=size, scale_factor=scale, mode=interpolation, align_corners=False)\n",
    "\n",
    "\n",
    "def pad(vid, padding, fill=0, padding_mode=\"constant\"):\n",
    "    # NOTE: don't want to pad on temporal dimension, so let as non-batch\n",
    "    # (4d) before padding. This works as expected\n",
    "    return torch.nn.functional.pad(vid, padding, value=fill, mode=padding_mode)\n",
    "\n",
    "\n",
    "def to_normalized_float_tensor(vid):\n",
    "    return vid.permute(3, 0, 1, 2).to(torch.float32) / 255\n",
    "\n",
    "\n",
    "def normalize(vid, mean, std):\n",
    "    shape = (-1,) + (1,) * (vid.dim() - 1)\n",
    "    mean = torch.as_tensor(mean).reshape(shape)\n",
    "    std = torch.as_tensor(std).reshape(shape)\n",
    "    return (vid - mean) / std\n",
    "\n",
    "\n",
    "# Class interface\n",
    "\n",
    "class RandomCrop(object):\n",
    "    def __init__(self, size):\n",
    "        self.size = size\n",
    "\n",
    "    @staticmethod\n",
    "    def get_params(vid, output_size):\n",
    "        \"\"\"Get parameters for ``crop`` for a random crop.\n",
    "        \"\"\"\n",
    "        h, w = vid.shape[-2:]\n",
    "        th, tw = output_size\n",
    "        if w == tw and h == th:\n",
    "            return 0, 0, h, w\n",
    "        i = random.randint(0, h - th)\n",
    "        j = random.randint(0, w - tw)\n",
    "        return i, j, th, tw\n",
    "\n",
    "    def __call__(self, vid):\n",
    "        i, j, h, w = self.get_params(vid, self.size)\n",
    "        return crop(vid, i, j, h, w)\n",
    "\n",
    "\n",
    "class CenterCrop(object):\n",
    "    def __init__(self, size):\n",
    "        self.size = size\n",
    "\n",
    "    def __call__(self, vid):\n",
    "        return center_crop(vid, self.size)\n",
    "\n",
    "\n",
    "class Resize(object):\n",
    "    def __init__(self, size):\n",
    "        self.size = size\n",
    "\n",
    "    def __call__(self, vid):\n",
    "        return resize(vid, self.size)\n",
    "\n",
    "\n",
    "class ToFloatTensorInZeroOne(object):\n",
    "    def __call__(self, vid):\n",
    "        return to_normalized_float_tensor(vid)\n",
    "\n",
    "\n",
    "class Normalize(object):\n",
    "    def __init__(self, mean, std):\n",
    "        self.mean = mean\n",
    "        self.std = std\n",
    "\n",
    "    def __call__(self, vid):\n",
    "        return normalize(vid, self.mean, self.std)\n",
    "\n",
    "\n",
    "class RandomHorizontalFlip(object):\n",
    "    def __init__(self, p=0.5):\n",
    "        self.p = p\n",
    "\n",
    "    def __call__(self, vid):\n",
    "        if random.random() < self.p:\n",
    "            return hflip(vid)\n",
    "        return vid\n",
    "\n",
    "\n",
    "class Pad(object):\n",
    "    def __init__(self, padding, fill=0):\n",
    "        self.padding = padding\n",
    "        self.fill = fill\n",
    "\n",
    "    def __call__(self, vid):\n",
    "        return pad(vid, self.padding, self.fill)\n"
   ]
  },
  {
   "cell_type": "markdown",
   "metadata": {
    "heading_collapsed": true,
    "hidden": true
   },
   "source": [
    "### ."
   ]
  },
  {
   "cell_type": "markdown",
   "metadata": {},
   "source": [
    "## Data Loading"
   ]
  },
  {
   "cell_type": "code",
   "execution_count": 3,
   "metadata": {
    "ExecuteTime": {
     "end_time": "2019-11-02T18:16:40.975674Z",
     "start_time": "2019-11-02T18:16:40.971341Z"
    }
   },
   "outputs": [],
   "source": [
    "base_dir = Path('/Users/rahulsomani/01_github_projects/video-classification/')\n",
    "data_dir = base_dir/'data'"
   ]
  },
  {
   "cell_type": "code",
   "execution_count": 4,
   "metadata": {
    "ExecuteTime": {
     "end_time": "2019-11-02T18:16:41.400067Z",
     "start_time": "2019-11-02T18:16:41.265880Z"
    }
   },
   "outputs": [
    {
     "name": "stdout",
     "output_type": "stream",
     "text": [
      "\u001b[01;34m/Users/rahulsomani/01_github_projects/video-classification/data/train\u001b[00m\r\n",
      "├── \u001b[01;34mclass1\u001b[00m\r\n",
      "│   ├── c1-sample1.mp4\r\n",
      "│   └── c1-sample2.mp4\r\n",
      "└── \u001b[01;34mclass2\u001b[00m\r\n",
      "    ├── c2-sample1.mp4\r\n",
      "    └── c2-sample2.mp4\r\n",
      "\r\n",
      "2 directories, 4 files\r\n"
     ]
    }
   ],
   "source": [
    "!tree {data_dir/'train'}"
   ]
  },
  {
   "cell_type": "raw",
   "metadata": {
    "ExecuteTime": {
     "end_time": "2019-11-01T10:46:16.396268Z",
     "start_time": "2019-11-01T10:46:16.390433Z"
    }
   },
   "source": [
    "from torchvision.io.video import read_video\n",
    "from functools import partial as partial\n",
    "\n",
    "read_video = partial(read_video, pts_unit='sec')\n",
    "\n",
    "torchvision.io.read_video = partial(torchvision.io.read_video, pts_unit = 'sec')"
   ]
  },
  {
   "cell_type": "code",
   "execution_count": 5,
   "metadata": {
    "ExecuteTime": {
     "end_time": "2019-11-02T18:16:43.068409Z",
     "start_time": "2019-11-02T18:16:42.282674Z"
    }
   },
   "outputs": [
    {
     "name": "stderr",
     "output_type": "stream",
     "text": [
      "  0%|          | 0/1 [00:00<?, ?it/s]/Users/rahulsomani/anaconda3/lib/python3.7/site-packages/torchvision-0.5.0a0+5eee011-py3.7-macosx-10.7-x86_64.egg/torchvision/io/video.py:106: UserWarning: The pts_unit 'pts' gives wrong results and will be removed in a follow-up version. Please use pts_unit 'sec'.\n",
      "100%|██████████| 1/1 [00:00<00:00,  1.31it/s]\n"
     ]
    }
   ],
   "source": [
    "data = Kinetics400(data_dir/'train',\n",
    "                   step_between_clips = 1,\n",
    "                   extensions         = ('mp4',),\n",
    "                   frames_per_clip    = 32,\n",
    "                   frame_rate = None)"
   ]
  },
  {
   "cell_type": "markdown",
   "metadata": {},
   "source": [
    "## Seeing the Data to Understand What Exactly is in the Training Data"
   ]
  },
  {
   "cell_type": "markdown",
   "metadata": {},
   "source": [
    "### Helper Functions"
   ]
  },
  {
   "cell_type": "code",
   "execution_count": 6,
   "metadata": {
    "ExecuteTime": {
     "end_time": "2019-11-02T18:16:44.392197Z",
     "start_time": "2019-11-02T18:16:44.383924Z"
    }
   },
   "outputs": [],
   "source": [
    "def get_metadata(data):\n",
    "    \"\"\"\n",
    "    Takes in a `Kinetics400` dataset, computes the no. of frames in each data point\n",
    "    and returns in a DataFrame\n",
    "    \"\"\"\n",
    "    fnames     = [f.rsplit('/')[-1] for f in data.metadata['video_paths']]\n",
    "    num_frames = [len(pts) for pts in data.metadata['video_pts']]\n",
    "    fps        = [i for i in data.metadata['video_fps']]\n",
    "\n",
    "    metadata = pd.DataFrame(list(zip(fnames, num_frames, fps)), columns = ['Filename', '# Frames', 'FPS'])\n",
    "    return metadata"
   ]
  },
  {
   "cell_type": "code",
   "execution_count": 7,
   "metadata": {
    "ExecuteTime": {
     "end_time": "2019-11-02T18:16:45.074176Z",
     "start_time": "2019-11-02T18:16:45.066118Z"
    }
   },
   "outputs": [],
   "source": [
    "def plot_img(sub_plt, x, i):\n",
    "    \"\"\"\n",
    "    Where `x` is one data sample of shape `(T, H, W, C)` and\n",
    "    `i` is the index of `T` that must be plotted.\n",
    "    `sub_plt` is an `AxesSubplot`.\n",
    "    This function removes axes labels and ticks, and names the\n",
    "    subplot with the appropriate frame number\n",
    "    \"\"\"\n",
    "    sub_plt.imshow(x[i])\n",
    "    sub_plt.set_title(f'Frame #{i+1}')\n",
    "    sub_plt.axis('off')"
   ]
  },
  {
   "cell_type": "code",
   "execution_count": 8,
   "metadata": {
    "ExecuteTime": {
     "end_time": "2019-11-02T18:16:45.707363Z",
     "start_time": "2019-11-02T18:16:45.701942Z"
    }
   },
   "outputs": [],
   "source": [
    "def plot_adjacent(x):\n",
    "    f, plots = plt.subplots(1, 2, figsize=(8, 5))\n",
    "    plots[0] = plot_img(plots[0], x, 0)\n",
    "    plots[1] = plot_img(plots[1], x, 31)\n",
    "\n",
    "    f.tight_layout()"
   ]
  },
  {
   "cell_type": "markdown",
   "metadata": {},
   "source": [
    "### Seeing the Training Data"
   ]
  },
  {
   "cell_type": "markdown",
   "metadata": {},
   "source": [
    "<br>\n",
    "When the dataset of class `Kinetics400` is constructed with `frames_per_clip = 32`, it doesn't take into consideration any data points which have less than 32 clips. <br>\n",
    "\n",
    "As seen in the DataFrame above, `c2-sample1` and `c2-sample2` had less than 32 frames, and `[len(x) for x in data.video_clips.clips]` reveals that 0 samples were taken from both these clips. \n",
    "\n",
    "For `c1-sample1`, which has exactly 32 clips, one clip gets created, whereas for `c1-sample2`, 16 clips get created, leading to a dataset of `len = 17`. The dataset has 1 sample from `c1-sample1` and 16 samples from `c1-sample2`.\n",
    "\n",
    "<br>"
   ]
  },
  {
   "cell_type": "code",
   "execution_count": 9,
   "metadata": {
    "ExecuteTime": {
     "end_time": "2019-11-02T18:16:47.557188Z",
     "start_time": "2019-11-02T18:16:47.532018Z"
    }
   },
   "outputs": [
    {
     "data": {
      "text/html": [
       "<div>\n",
       "<style scoped>\n",
       "    .dataframe tbody tr th:only-of-type {\n",
       "        vertical-align: middle;\n",
       "    }\n",
       "\n",
       "    .dataframe tbody tr th {\n",
       "        vertical-align: top;\n",
       "    }\n",
       "\n",
       "    .dataframe thead th {\n",
       "        text-align: right;\n",
       "    }\n",
       "</style>\n",
       "<table border=\"1\" class=\"dataframe\">\n",
       "  <thead>\n",
       "    <tr style=\"text-align: right;\">\n",
       "      <th></th>\n",
       "      <th>Filename</th>\n",
       "      <th># Frames</th>\n",
       "      <th>FPS</th>\n",
       "    </tr>\n",
       "  </thead>\n",
       "  <tbody>\n",
       "    <tr>\n",
       "      <th>0</th>\n",
       "      <td>c1-sample1.mp4</td>\n",
       "      <td>32</td>\n",
       "      <td>25.0</td>\n",
       "    </tr>\n",
       "    <tr>\n",
       "      <th>1</th>\n",
       "      <td>c1-sample2.mp4</td>\n",
       "      <td>47</td>\n",
       "      <td>25.0</td>\n",
       "    </tr>\n",
       "    <tr>\n",
       "      <th>2</th>\n",
       "      <td>c2-sample1.mp4</td>\n",
       "      <td>17</td>\n",
       "      <td>25.0</td>\n",
       "    </tr>\n",
       "    <tr>\n",
       "      <th>3</th>\n",
       "      <td>c2-sample2.mp4</td>\n",
       "      <td>13</td>\n",
       "      <td>25.0</td>\n",
       "    </tr>\n",
       "  </tbody>\n",
       "</table>\n",
       "</div>"
      ],
      "text/plain": [
       "         Filename  # Frames   FPS\n",
       "0  c1-sample1.mp4        32  25.0\n",
       "1  c1-sample2.mp4        47  25.0\n",
       "2  c2-sample1.mp4        17  25.0\n",
       "3  c2-sample2.mp4        13  25.0"
      ]
     },
     "execution_count": 9,
     "metadata": {},
     "output_type": "execute_result"
    }
   ],
   "source": [
    "get_metadata(data)"
   ]
  },
  {
   "cell_type": "code",
   "execution_count": 10,
   "metadata": {
    "ExecuteTime": {
     "end_time": "2019-11-02T18:16:48.083393Z",
     "start_time": "2019-11-02T18:16:48.077218Z"
    }
   },
   "outputs": [
    {
     "data": {
      "text/plain": [
       "17"
      ]
     },
     "execution_count": 10,
     "metadata": {},
     "output_type": "execute_result"
    }
   ],
   "source": [
    "len(data)"
   ]
  },
  {
   "cell_type": "code",
   "execution_count": 11,
   "metadata": {
    "ExecuteTime": {
     "end_time": "2019-11-02T18:16:48.544249Z",
     "start_time": "2019-11-02T18:16:48.535196Z"
    }
   },
   "outputs": [
    {
     "data": {
      "text/plain": [
       "[1, 16, 0, 0]"
      ]
     },
     "execution_count": 11,
     "metadata": {},
     "output_type": "execute_result"
    }
   ],
   "source": [
    "[len(x) for x in data.video_clips.clips]"
   ]
  },
  {
   "cell_type": "markdown",
   "metadata": {},
   "source": [
    "---\n",
    "<h3> Below are the actual videos"
   ]
  },
  {
   "cell_type": "code",
   "execution_count": 12,
   "metadata": {
    "ExecuteTime": {
     "end_time": "2019-11-02T18:16:50.181044Z",
     "start_time": "2019-11-02T18:16:50.157278Z"
    }
   },
   "outputs": [
    {
     "data": {
      "text/html": [
       "<video src=\"../data/train/class1/c1-sample1.mp4\" controls  width=\"400\" >\n",
       "      Your browser does not support the <code>video</code> element.\n",
       "    </video>"
      ],
      "text/plain": [
       "<IPython.core.display.Video object>"
      ]
     },
     "execution_count": 12,
     "metadata": {},
     "output_type": "execute_result"
    }
   ],
   "source": [
    "Video('../data/train/class1/c1-sample1.mp4', width=400)"
   ]
  },
  {
   "cell_type": "code",
   "execution_count": 13,
   "metadata": {
    "ExecuteTime": {
     "end_time": "2019-11-02T18:16:51.055400Z",
     "start_time": "2019-11-02T18:16:51.044201Z"
    }
   },
   "outputs": [
    {
     "data": {
      "text/html": [
       "<video src=\"../data/train/class1/c1-sample2.mp4\" controls  width=\"400\" >\n",
       "      Your browser does not support the <code>video</code> element.\n",
       "    </video>"
      ],
      "text/plain": [
       "<IPython.core.display.Video object>"
      ]
     },
     "execution_count": 13,
     "metadata": {},
     "output_type": "execute_result"
    }
   ],
   "source": [
    "Video('../data/train/class1/c1-sample2.mp4', width=400)"
   ]
  },
  {
   "cell_type": "code",
   "execution_count": 14,
   "metadata": {
    "ExecuteTime": {
     "end_time": "2019-11-02T18:16:51.936481Z",
     "start_time": "2019-11-02T18:16:51.928642Z"
    }
   },
   "outputs": [
    {
     "data": {
      "text/html": [
       "<video src=\"../data/train/class2/c2-sample1.mp4\" controls  width=\"400\" >\n",
       "      Your browser does not support the <code>video</code> element.\n",
       "    </video>"
      ],
      "text/plain": [
       "<IPython.core.display.Video object>"
      ]
     },
     "execution_count": 14,
     "metadata": {},
     "output_type": "execute_result"
    }
   ],
   "source": [
    "Video('../data/train/class2/c2-sample1.mp4', width=400)"
   ]
  },
  {
   "cell_type": "code",
   "execution_count": 15,
   "metadata": {
    "ExecuteTime": {
     "end_time": "2019-11-02T18:16:53.048465Z",
     "start_time": "2019-11-02T18:16:53.031990Z"
    }
   },
   "outputs": [
    {
     "data": {
      "text/html": [
       "<video src=\"../data/train/class2/c2-sample2.mp4\" controls  width=\"400\" >\n",
       "      Your browser does not support the <code>video</code> element.\n",
       "    </video>"
      ],
      "text/plain": [
       "<IPython.core.display.Video object>"
      ]
     },
     "execution_count": 15,
     "metadata": {},
     "output_type": "execute_result"
    }
   ],
   "source": [
    "Video('../data/train/class2/c2-sample2.mp4', width=400)"
   ]
  },
  {
   "cell_type": "markdown",
   "metadata": {},
   "source": [
    "<br>\n",
    "\n",
    "To fully understand what's happening, look at the first and last frames of selected data samples (indices 0, 1, 2 and 16) below.\n",
    "\n",
    "<br>"
   ]
  },
  {
   "cell_type": "code",
   "execution_count": 17,
   "metadata": {
    "ExecuteTime": {
     "end_time": "2019-11-02T18:16:58.758041Z",
     "start_time": "2019-11-02T18:16:57.950357Z"
    }
   },
   "outputs": [
    {
     "data": {
      "image/png": "[encoded data removed]",
      "text/plain": [
       "<Figure size 576x360 with 2 Axes>"
      ]
     },
     "metadata": {
      "needs_background": "light"
     },
     "output_type": "display_data"
    }
   ],
   "source": [
    "plot_adjacent(data[0][0])"
   ]
  },
  {
   "cell_type": "code",
   "execution_count": 18,
   "metadata": {
    "ExecuteTime": {
     "end_time": "2019-11-02T18:17:00.737943Z",
     "start_time": "2019-11-02T18:16:59.786849Z"
    }
   },
   "outputs": [
    {
     "data": {
      "image/png": "[encoded data removed]",
      "text/plain": [
       "<Figure size 576x360 with 2 Axes>"
      ]
     },
     "metadata": {
      "needs_background": "light"
     },
     "output_type": "display_data"
    }
   ],
   "source": [
    "plot_adjacent(data[1][0])"
   ]
  },
  {
   "cell_type": "code",
   "execution_count": 19,
   "metadata": {
    "ExecuteTime": {
     "end_time": "2019-11-02T18:17:03.802417Z",
     "start_time": "2019-11-02T18:17:02.875015Z"
    }
   },
   "outputs": [
    {
     "data": {
      "image/png": "[encoded data removed]",
      "text/plain": [
       "<Figure size 576x360 with 2 Axes>"
      ]
     },
     "metadata": {
      "needs_background": "light"
     },
     "output_type": "display_data"
    }
   ],
   "source": [
    "plot_adjacent(data[2][0])"
   ]
  },
  {
   "cell_type": "code",
   "execution_count": 20,
   "metadata": {
    "ExecuteTime": {
     "end_time": "2019-11-02T18:17:03.802417Z",
     "start_time": "2019-11-02T18:17:02.875015Z"
    }
   },
   "outputs": [
    {
     "data": {
      "image/png": "[encoded data removed]",
      "text/plain": [
       "<Figure size 576x360 with 2 Axes>"
      ]
     },
     "metadata": {
      "needs_background": "light"
     },
     "output_type": "display_data"
    }
   ],
   "source": [
    "plot_adjacent(data[16][0])"
   ]
  },
  {
   "cell_type": "markdown",
   "metadata": {},
   "source": [
    "<br>\n",
    "\n",
    "---"
   ]
  },
  {
   "cell_type": "markdown",
   "metadata": {},
   "source": [
    "## Figuring out by Experimenting"
   ]
  },
  {
   "cell_type": "code",
   "execution_count": 21,
   "metadata": {
    "ExecuteTime": {
     "end_time": "2019-11-02T18:17:30.907895Z",
     "start_time": "2019-11-02T18:17:30.901147Z"
    }
   },
   "outputs": [],
   "source": [
    "from torchvision.datasets.video_utils import *"
   ]
  },
  {
   "cell_type": "code",
   "execution_count": 22,
   "metadata": {
    "ExecuteTime": {
     "end_time": "2019-11-02T18:17:31.711882Z",
     "start_time": "2019-11-02T18:17:31.704373Z"
    }
   },
   "outputs": [
    {
     "data": {
      "text/plain": [
       "tensor([    0,  1000,  2000,  3000,  4000,  5000,  6000,  7000,  8000,  9000,\n",
       "        10000, 11000, 12000, 13000, 14000, 15000, 16000, 17000, 18000, 19000,\n",
       "        20000, 21000, 22000, 23000, 24000, 25000, 26000, 27000, 28000, 29000,\n",
       "        30000, 31000, 32000, 33000, 34000, 35000, 36000, 37000, 38000, 39000,\n",
       "        40000, 41000, 42000, 43000, 44000, 45000, 46000])"
      ]
     },
     "execution_count": 22,
     "metadata": {},
     "output_type": "execute_result"
    }
   ],
   "source": [
    "x_pts = data.video_clips.video_pts[1]\n",
    "x_pts"
   ]
  },
  {
   "cell_type": "code",
   "execution_count": 53,
   "metadata": {
    "ExecuteTime": {
     "end_time": "2019-11-01T11:06:32.001426Z",
     "start_time": "2019-11-01T11:06:31.993971Z"
    }
   },
   "outputs": [
    {
     "data": {
      "text/plain": [
       "25.0"
      ]
     },
     "execution_count": 53,
     "metadata": {},
     "output_type": "execute_result"
    }
   ],
   "source": [
    "x_fps = data.video_clips.video_fps[1]\n",
    "x_fps"
   ]
  },
  {
   "cell_type": "code",
   "execution_count": 54,
   "metadata": {
    "ExecuteTime": {
     "end_time": "2019-11-01T11:06:32.888646Z",
     "start_time": "2019-11-01T11:06:32.883946Z"
    }
   },
   "outputs": [],
   "source": [
    "fr = data.video_clips.frame_rate\n",
    "fr"
   ]
  },
  {
   "cell_type": "code",
   "execution_count": 108,
   "metadata": {
    "ExecuteTime": {
     "end_time": "2019-11-01T11:22:51.370300Z",
     "start_time": "2019-11-01T11:22:51.365503Z"
    }
   },
   "outputs": [],
   "source": [
    "clips, idxs = VideoClips.compute_clips_for_video(\n",
    "    video_pts  = x_pts,\n",
    "    num_frames = 16,\n",
    "    step = 1,\n",
    "    fps  = x_fps,\n",
    "    frame_rate = fr)"
   ]
  },
  {
   "cell_type": "code",
   "execution_count": 110,
   "metadata": {
    "ExecuteTime": {
     "end_time": "2019-11-01T11:22:53.101565Z",
     "start_time": "2019-11-01T11:22:53.094670Z"
    }
   },
   "outputs": [
    {
     "data": {
      "text/plain": [
       "32"
      ]
     },
     "execution_count": 110,
     "metadata": {},
     "output_type": "execute_result"
    }
   ],
   "source": [
    "len(clips)"
   ]
  },
  {
   "cell_type": "code",
   "execution_count": null,
   "metadata": {
    "ExecuteTime": {
     "end_time": "2019-11-01T11:22:33.029001Z",
     "start_time": "2019-11-01T11:22:33.020851Z"
    }
   },
   "outputs": [],
   "source": [
    "tmp = [len(v) for v in clips]\n",
    "tmp"
   ]
  },
  {
   "cell_type": "code",
   "execution_count": 50,
   "metadata": {
    "ExecuteTime": {
     "end_time": "2019-11-01T11:06:07.175409Z",
     "start_time": "2019-11-01T11:06:07.168490Z"
    }
   },
   "outputs": [
    {
     "data": {
      "text/plain": [
       "[32, 64, 96, 128, 160, 192, 224, 256, 288, 320, 352, 384, 416, 448, 480, 512]"
      ]
     },
     "execution_count": 50,
     "metadata": {},
     "output_type": "execute_result"
    }
   ],
   "source": [
    "torch.as_tensor(tmp).cumsum(0).tolist()"
   ]
  },
  {
   "cell_type": "code",
   "execution_count": 35,
   "metadata": {
    "ExecuteTime": {
     "end_time": "2019-11-01T11:01:23.377421Z",
     "start_time": "2019-11-01T11:01:23.370816Z"
    }
   },
   "outputs": [
    {
     "data": {
      "text/plain": [
       "[1, 17, 17, 17]"
      ]
     },
     "execution_count": 35,
     "metadata": {},
     "output_type": "execute_result"
    }
   ],
   "source": [
    "data.video_clips.cumulative_sizes"
   ]
  },
  {
   "cell_type": "code",
   "execution_count": null,
   "metadata": {},
   "outputs": [],
   "source": []
  },
  {
   "cell_type": "code",
   "execution_count": null,
   "metadata": {},
   "outputs": [],
   "source": []
  },
  {
   "cell_type": "code",
   "execution_count": 67,
   "metadata": {
    "ExecuteTime": {
     "end_time": "2019-11-01T11:09:38.374467Z",
     "start_time": "2019-11-01T11:09:38.361320Z"
    }
   },
   "outputs": [
    {
     "data": {
      "text/plain": [
       "[tensor([[    0,  1000,  2000,  3000,  4000,  5000,  6000,  7000,  8000,  9000,\n",
       "          10000, 11000, 12000, 13000, 14000, 15000, 16000, 17000, 18000, 19000,\n",
       "          20000, 21000, 22000, 23000, 24000, 25000, 26000, 27000, 28000, 29000,\n",
       "          30000, 31000]]),\n",
       " tensor([[    0,  1000,  2000,  3000,  4000,  5000,  6000,  7000,  8000,  9000,\n",
       "          10000, 11000, 12000, 13000, 14000, 15000, 16000, 17000, 18000, 19000,\n",
       "          20000, 21000, 22000, 23000, 24000, 25000, 26000, 27000, 28000, 29000,\n",
       "          30000, 31000],\n",
       "         [ 1000,  2000,  3000,  4000,  5000,  6000,  7000,  8000,  9000, 10000,\n",
       "          11000, 12000, 13000, 14000, 15000, 16000, 17000, 18000, 19000, 20000,\n",
       "          21000, 22000, 23000, 24000, 25000, 26000, 27000, 28000, 29000, 30000,\n",
       "          31000, 32000],\n",
       "         [ 2000,  3000,  4000,  5000,  6000,  7000,  8000,  9000, 10000, 11000,\n",
       "          12000, 13000, 14000, 15000, 16000, 17000, 18000, 19000, 20000, 21000,\n",
       "          22000, 23000, 24000, 25000, 26000, 27000, 28000, 29000, 30000, 31000,\n",
       "          32000, 33000],\n",
       "         [ 3000,  4000,  5000,  6000,  7000,  8000,  9000, 10000, 11000, 12000,\n",
       "          13000, 14000, 15000, 16000, 17000, 18000, 19000, 20000, 21000, 22000,\n",
       "          23000, 24000, 25000, 26000, 27000, 28000, 29000, 30000, 31000, 32000,\n",
       "          33000, 34000],\n",
       "         [ 4000,  5000,  6000,  7000,  8000,  9000, 10000, 11000, 12000, 13000,\n",
       "          14000, 15000, 16000, 17000, 18000, 19000, 20000, 21000, 22000, 23000,\n",
       "          24000, 25000, 26000, 27000, 28000, 29000, 30000, 31000, 32000, 33000,\n",
       "          34000, 35000],\n",
       "         [ 5000,  6000,  7000,  8000,  9000, 10000, 11000, 12000, 13000, 14000,\n",
       "          15000, 16000, 17000, 18000, 19000, 20000, 21000, 22000, 23000, 24000,\n",
       "          25000, 26000, 27000, 28000, 29000, 30000, 31000, 32000, 33000, 34000,\n",
       "          35000, 36000],\n",
       "         [ 6000,  7000,  8000,  9000, 10000, 11000, 12000, 13000, 14000, 15000,\n",
       "          16000, 17000, 18000, 19000, 20000, 21000, 22000, 23000, 24000, 25000,\n",
       "          26000, 27000, 28000, 29000, 30000, 31000, 32000, 33000, 34000, 35000,\n",
       "          36000, 37000],\n",
       "         [ 7000,  8000,  9000, 10000, 11000, 12000, 13000, 14000, 15000, 16000,\n",
       "          17000, 18000, 19000, 20000, 21000, 22000, 23000, 24000, 25000, 26000,\n",
       "          27000, 28000, 29000, 30000, 31000, 32000, 33000, 34000, 35000, 36000,\n",
       "          37000, 38000],\n",
       "         [ 8000,  9000, 10000, 11000, 12000, 13000, 14000, 15000, 16000, 17000,\n",
       "          18000, 19000, 20000, 21000, 22000, 23000, 24000, 25000, 26000, 27000,\n",
       "          28000, 29000, 30000, 31000, 32000, 33000, 34000, 35000, 36000, 37000,\n",
       "          38000, 39000],\n",
       "         [ 9000, 10000, 11000, 12000, 13000, 14000, 15000, 16000, 17000, 18000,\n",
       "          19000, 20000, 21000, 22000, 23000, 24000, 25000, 26000, 27000, 28000,\n",
       "          29000, 30000, 31000, 32000, 33000, 34000, 35000, 36000, 37000, 38000,\n",
       "          39000, 40000],\n",
       "         [10000, 11000, 12000, 13000, 14000, 15000, 16000, 17000, 18000, 19000,\n",
       "          20000, 21000, 22000, 23000, 24000, 25000, 26000, 27000, 28000, 29000,\n",
       "          30000, 31000, 32000, 33000, 34000, 35000, 36000, 37000, 38000, 39000,\n",
       "          40000, 41000],\n",
       "         [11000, 12000, 13000, 14000, 15000, 16000, 17000, 18000, 19000, 20000,\n",
       "          21000, 22000, 23000, 24000, 25000, 26000, 27000, 28000, 29000, 30000,\n",
       "          31000, 32000, 33000, 34000, 35000, 36000, 37000, 38000, 39000, 40000,\n",
       "          41000, 42000],\n",
       "         [12000, 13000, 14000, 15000, 16000, 17000, 18000, 19000, 20000, 21000,\n",
       "          22000, 23000, 24000, 25000, 26000, 27000, 28000, 29000, 30000, 31000,\n",
       "          32000, 33000, 34000, 35000, 36000, 37000, 38000, 39000, 40000, 41000,\n",
       "          42000, 43000],\n",
       "         [13000, 14000, 15000, 16000, 17000, 18000, 19000, 20000, 21000, 22000,\n",
       "          23000, 24000, 25000, 26000, 27000, 28000, 29000, 30000, 31000, 32000,\n",
       "          33000, 34000, 35000, 36000, 37000, 38000, 39000, 40000, 41000, 42000,\n",
       "          43000, 44000],\n",
       "         [14000, 15000, 16000, 17000, 18000, 19000, 20000, 21000, 22000, 23000,\n",
       "          24000, 25000, 26000, 27000, 28000, 29000, 30000, 31000, 32000, 33000,\n",
       "          34000, 35000, 36000, 37000, 38000, 39000, 40000, 41000, 42000, 43000,\n",
       "          44000, 45000],\n",
       "         [15000, 16000, 17000, 18000, 19000, 20000, 21000, 22000, 23000, 24000,\n",
       "          25000, 26000, 27000, 28000, 29000, 30000, 31000, 32000, 33000, 34000,\n",
       "          35000, 36000, 37000, 38000, 39000, 40000, 41000, 42000, 43000, 44000,\n",
       "          45000, 46000]]),\n",
       " tensor([], size=(0, 32), dtype=torch.int64),\n",
       " tensor([], size=(0, 32), dtype=torch.int64)]"
      ]
     },
     "execution_count": 67,
     "metadata": {},
     "output_type": "execute_result"
    }
   ],
   "source": [
    "data.video_clips.clips"
   ]
  },
  {
   "cell_type": "code",
   "execution_count": 66,
   "metadata": {
    "ExecuteTime": {
     "end_time": "2019-11-01T11:09:26.440231Z",
     "start_time": "2019-11-01T11:09:26.432165Z"
    }
   },
   "outputs": [
    {
     "data": {
      "text/plain": [
       "tensor([ 1, 16,  0,  0])"
      ]
     },
     "execution_count": 66,
     "metadata": {},
     "output_type": "execute_result"
    }
   ],
   "source": [
    "torch.as_tensor([len(v) for v in data.video_clips.clips])"
   ]
  },
  {
   "cell_type": "code",
   "execution_count": null,
   "metadata": {},
   "outputs": [],
   "source": []
  },
  {
   "cell_type": "code",
   "execution_count": null,
   "metadata": {},
   "outputs": [],
   "source": []
  },
  {
   "cell_type": "code",
   "execution_count": null,
   "metadata": {},
   "outputs": [],
   "source": []
  },
  {
   "cell_type": "code",
   "execution_count": 38,
   "metadata": {
    "ExecuteTime": {
     "end_time": "2019-11-01T11:01:56.246813Z",
     "start_time": "2019-11-01T11:01:56.010580Z"
    }
   },
   "outputs": [],
   "source": [
    "import matplotlib.pyplot as plt"
   ]
  },
  {
   "cell_type": "code",
   "execution_count": 96,
   "metadata": {
    "ExecuteTime": {
     "end_time": "2019-11-01T11:16:48.327993Z",
     "start_time": "2019-11-01T11:16:47.500542Z"
    }
   },
   "outputs": [
    {
     "data": {
      "text/plain": [
       "<matplotlib.image.AxesImage at 0x12a41f1d0>"
      ]
     },
     "execution_count": 96,
     "metadata": {},
     "output_type": "execute_result"
    },
    {
     "data": {
      "image/png": "[encoded data removed]",
      "text/plain": [
       "<Figure size 432x288 with 1 Axes>"
      ]
     },
     "metadata": {
      "needs_background": "light"
     },
     "output_type": "display_data"
    }
   ],
   "source": [
    "plt.imshow(data[16][0][31])"
   ]
  },
  {
   "cell_type": "code",
   "execution_count": 79,
   "metadata": {
    "ExecuteTime": {
     "end_time": "2019-11-01T11:14:27.782250Z",
     "start_time": "2019-11-01T11:14:27.368553Z"
    }
   },
   "outputs": [
    {
     "data": {
      "text/plain": [
       "0"
      ]
     },
     "execution_count": 79,
     "metadata": {},
     "output_type": "execute_result"
    }
   ],
   "source": [
    "data[0][2]"
   ]
  },
  {
   "cell_type": "code",
   "execution_count": null,
   "metadata": {},
   "outputs": [],
   "source": []
  },
  {
   "cell_type": "code",
   "execution_count": null,
   "metadata": {},
   "outputs": [],
   "source": []
  },
  {
   "cell_type": "code",
   "execution_count": null,
   "metadata": {},
   "outputs": [],
   "source": []
  },
  {
   "cell_type": "code",
   "execution_count": null,
   "metadata": {},
   "outputs": [],
   "source": []
  },
  {
   "cell_type": "code",
   "execution_count": null,
   "metadata": {},
   "outputs": [],
   "source": []
  },
  {
   "cell_type": "code",
   "execution_count": null,
   "metadata": {},
   "outputs": [],
   "source": []
  },
  {
   "cell_type": "code",
   "execution_count": null,
   "metadata": {},
   "outputs": [],
   "source": []
  }
 ],
 "metadata": {
  "kernelspec": {
   "display_name": "Python 3",
   "language": "python",
   "name": "python3"
  },
  "language_info": {
   "codemirror_mode": {
    "name": "ipython",
    "version": 3
   },
   "file_extension": ".py",
   "mimetype": "text/x-python",
   "name": "python",
   "nbconvert_exporter": "python",
   "pygments_lexer": "ipython3",
   "version": "3.7.3"
  }
 },
 "nbformat": 4,
 "nbformat_minor": 2
}
