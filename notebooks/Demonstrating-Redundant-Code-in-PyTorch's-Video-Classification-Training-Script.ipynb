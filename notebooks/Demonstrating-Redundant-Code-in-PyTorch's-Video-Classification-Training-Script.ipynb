{
 "cells": [
  {
   "cell_type": "markdown",
   "metadata": {},
   "source": [
    "# Demonstrating Redundant Code in PyTorch's Video Classification Training Script\n",
    "\n",
    "Script --> https://github.com/pytorch/vision/blob/master/references/video_classification/train.py"
   ]
  },
  {
   "cell_type": "markdown",
   "metadata": {},
   "source": [
    "In the `init` of a `VideoClips` object, `compute_clips` is called in the last line.\n",
    "\n",
    "In the `train.py` script, another call is made to `compute_clips` after initialising the training and tesing dataset of class `Kinetics400` (which internally calls `VideoClips`)\n",
    "\n",
    "```python\n",
    "\n",
    "143.    dataset = torchvision.datasets.Kinetics400(\n",
    "144.        traindir,\n",
    "145.        frames_per_clip=args.clip_len,\n",
    "146.        step_between_clips=1,\n",
    "147.        transform=transform_train\n",
    "148.    )\n",
    "\n",
    "153.   dataset.video_clips.compute_clips(args.clip_len, 1, frame_rate=15)\n",
    "\n",
    "\n",
    "175.    dataset_test = torchvision.datasets.Kinetics400(\n",
    "176.        valdir,\n",
    "177.        frames_per_clip=args.clip_len,\n",
    "178.        step_between_clips=1,\n",
    "179.        transform=transform_test\n",
    "180.    )\n",
    "\n",
    "185.   dataset_test.video_clips.compute_clips(args.clip_len, 1, frame_rate=15)\n",
    "```\n",
    "\n",
    "The code below demonstrates that the output of the above code in lines `153.` and `185.` can be achieved during the construction of the dataset itself"
   ]
  },
  {
   "cell_type": "code",
   "execution_count": null,
   "metadata": {},
   "outputs": [],
   "source": []
  },
  {
   "cell_type": "code",
   "execution_count": 5,
   "metadata": {
    "ExecuteTime": {
     "end_time": "2019-11-01T13:10:43.603561Z",
     "start_time": "2019-11-01T13:10:42.410000Z"
    }
   },
   "outputs": [],
   "source": [
    "from pathlib import Path\n",
    "from torchvision.datasets.kinetics import Kinetics400"
   ]
  },
  {
   "cell_type": "code",
   "execution_count": 3,
   "metadata": {
    "ExecuteTime": {
     "end_time": "2019-11-01T13:09:39.229000Z",
     "start_time": "2019-11-01T13:09:39.224373Z"
    }
   },
   "outputs": [],
   "source": [
    "base_dir = Path('/Users/rahulsomani/01_github_projects/video-classification/')\n",
    "data_dir = base_dir/'data'"
   ]
  },
  {
   "cell_type": "code",
   "execution_count": 4,
   "metadata": {
    "ExecuteTime": {
     "end_time": "2019-11-01T13:09:47.162282Z",
     "start_time": "2019-11-01T13:09:47.023666Z"
    }
   },
   "outputs": [
    {
     "name": "stdout",
     "output_type": "stream",
     "text": [
      "\u001b[01;34m/Users/rahulsomani/01_github_projects/video-classification/data/train\u001b[00m\r\n",
      "├── \u001b[01;34mclass1\u001b[00m\r\n",
      "│   ├── c1-sample1.mp4\r\n",
      "│   └── c1-sample2.mp4\r\n",
      "└── \u001b[01;34mclass2\u001b[00m\r\n",
      "    ├── c2-sample1.mp4\r\n",
      "    └── c2-sample2.mp4\r\n",
      "\r\n",
      "2 directories, 4 files\r\n"
     ]
    }
   ],
   "source": [
    "!tree {data_dir/'train'}"
   ]
  },
  {
   "cell_type": "code",
   "execution_count": null,
   "metadata": {},
   "outputs": [],
   "source": []
  },
  {
   "cell_type": "markdown",
   "metadata": {},
   "source": [
    "`data_fps_none` is like the dataset that's constructed in `train.py` while `data_fps_15` shows that the additional code after construction is not needed"
   ]
  },
  {
   "cell_type": "code",
   "execution_count": 20,
   "metadata": {
    "ExecuteTime": {
     "end_time": "2019-11-01T17:30:35.568740Z",
     "start_time": "2019-11-01T17:30:35.552801Z"
    }
   },
   "outputs": [],
   "source": [
    "def get_data(frame_rate=None, root=data_dir/'train', frames_per_clip=16, extensions=('mp4',), step=1):\n",
    "    return Kinetics400(root, frames_per_clip, step, frame_rate, extensions)"
   ]
  },
  {
   "cell_type": "code",
   "execution_count": null,
   "metadata": {
    "ExecuteTime": {
     "end_time": "2019-11-01T17:32:39.996576Z",
     "start_time": "2019-11-01T17:32:38.432344Z"
    }
   },
   "outputs": [],
   "source": [
    "data_fps_none, data_fps_15 = get_data(), get_data(frame_rate=15)"
   ]
  },
  {
   "cell_type": "code",
   "execution_count": 31,
   "metadata": {
    "ExecuteTime": {
     "end_time": "2019-11-01T17:32:47.844418Z",
     "start_time": "2019-11-01T17:32:47.836016Z"
    }
   },
   "outputs": [
    {
     "data": {
      "text/plain": [
       "[17, 32, 2, 0]"
      ]
     },
     "execution_count": 31,
     "metadata": {},
     "output_type": "execute_result"
    }
   ],
   "source": [
    "[len(x) for x in data_fps_none.video_clips.clips]"
   ]
  },
  {
   "cell_type": "code",
   "execution_count": 32,
   "metadata": {
    "ExecuteTime": {
     "end_time": "2019-11-01T17:32:50.744576Z",
     "start_time": "2019-11-01T17:32:50.735490Z"
    }
   },
   "outputs": [
    {
     "data": {
      "text/plain": [
       "[4, 13, 0, 0]"
      ]
     },
     "execution_count": 32,
     "metadata": {},
     "output_type": "execute_result"
    }
   ],
   "source": [
    "[len(x) for x in data_fps_15.video_clips.clips]"
   ]
  },
  {
   "cell_type": "code",
   "execution_count": 33,
   "metadata": {
    "ExecuteTime": {
     "end_time": "2019-11-01T17:34:33.319730Z",
     "start_time": "2019-11-01T17:34:33.311920Z"
    }
   },
   "outputs": [
    {
     "data": {
      "text/plain": [
       "[4, 13, 0, 0]"
      ]
     },
     "execution_count": 33,
     "metadata": {},
     "output_type": "execute_result"
    }
   ],
   "source": [
    "data_fps_none.video_clips.compute_clips(num_frames=16, step=1, frame_rate=15)\n",
    "[len(x) for x in data_fps_none.video_clips.clips]"
   ]
  }
 ],
 "metadata": {
  "kernelspec": {
   "display_name": "Python 3",
   "language": "python",
   "name": "python3"
  },
  "language_info": {
   "codemirror_mode": {
    "name": "ipython",
    "version": 3
   },
   "file_extension": ".py",
   "mimetype": "text/x-python",
   "name": "python",
   "nbconvert_exporter": "python",
   "pygments_lexer": "ipython3",
   "version": "3.7.3"
  }
 },
 "nbformat": 4,
 "nbformat_minor": 2
}
